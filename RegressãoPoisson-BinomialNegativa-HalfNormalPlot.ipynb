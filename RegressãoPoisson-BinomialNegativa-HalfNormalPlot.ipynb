{
 "cells": [
  {
   "cell_type": "code",
   "execution_count": 23,
   "metadata": {},
   "outputs": [],
   "source": [
    "require(HH)"
   ]
  },
  {
   "cell_type": "code",
   "execution_count": 24,
   "metadata": {},
   "outputs": [],
   "source": [
    "require(hnp)"
   ]
  },
  {
   "cell_type": "code",
   "execution_count": 25,
   "metadata": {},
   "outputs": [],
   "source": [
    "require(ggplot2)"
   ]
  },
  {
   "cell_type": "code",
   "execution_count": 26,
   "metadata": {},
   "outputs": [],
   "source": [
    "y=c(82,106,63,99,101,45,34,26,44,42,31,22,16,30,29,22,14,10,21,20,15,8,6\n",
    "    ,14,13,10,8,11,10,10,8,8,3,8,1,58,58,62,58,73,27,28,31,28,38,19,\n",
    "    20,22,20,28,14,14,15,14,21,9,10,12,10,16,7,3,1,\n",
    "    8,7,4,3,2,8,4)\n",
    "\n",
    "x=c(0,0,0,0,0,0.5,0.5,0.5,0.5,0.5,0.75,0.75,0.75,0.75,0.75,1,1,1,1,1,1.25,1.25,1.25,1.25,1.25,\n",
    "    1.5,1.5,1.5,1.5,1.5,1.75,1.75,1.75,1.75,1.75,0,0,0,0,0,\n",
    "    0.5,0.5,0.5,0.5,0.5,rep(0.75,5),rep(1,5),rep(1.25,5),rep(1.5,5),rep(1.75,5))\n",
    "\n",
    "strain=c(rep(\"1\",35),rep(2,35))"
   ]
  },
  {
   "cell_type": "code",
   "execution_count": 27,
   "metadata": {},
   "outputs": [
    {
     "data": {
      "text/plain": [
       "\n",
       "Call:  glm(formula = y ~ x + strain, family = poisson(link = \"log\"))\n",
       "\n",
       "Coefficients:\n",
       "(Intercept)            x      strain2  \n",
       "      4.455       -1.543       -0.275  \n",
       "\n",
       "Degrees of Freedom: 69 Total (i.e. Null);  67 Residual\n",
       "Null Deviance:\t    1359 \n",
       "Residual Deviance: 86.38 \tAIC: 416"
      ]
     },
     "metadata": {},
     "output_type": "display_data"
    }
   ],
   "source": [
    "modelo=glm(y~x+strain,family=\"poisson\"(link=\"log\"))\n",
    "modelo"
   ]
  },
  {
   "cell_type": "code",
   "execution_count": 28,
   "metadata": {},
   "outputs": [
    {
     "data": {
      "text/plain": [
       "\n",
       "Call:\n",
       "glm(formula = y ~ x + strain, family = poisson(link = \"log\"))\n",
       "\n",
       "Deviance Residuals: \n",
       "    Min       1Q   Median       3Q      Max  \n",
       "-2.6800  -0.6766   0.1528   0.6787   2.0774  \n",
       "\n",
       "Coefficients:\n",
       "            Estimate Std. Error z value Pr(>|z|)    \n",
       "(Intercept)  4.45464    0.03914 113.819  < 2e-16 ***\n",
       "x           -1.54308    0.04660 -33.111  < 2e-16 ***\n",
       "strain2     -0.27497    0.04837  -5.684 1.31e-08 ***\n",
       "---\n",
       "Signif. codes:  0 '***' 0.001 '**' 0.01 '*' 0.05 '.' 0.1 ' ' 1\n",
       "\n",
       "(Dispersion parameter for poisson family taken to be 1)\n",
       "\n",
       "    Null deviance: 1359.381  on 69  degrees of freedom\n",
       "Residual deviance:   86.376  on 67  degrees of freedom\n",
       "AIC: 415.95\n",
       "\n",
       "Number of Fisher Scoring iterations: 4\n"
      ]
     },
     "metadata": {},
     "output_type": "display_data"
    }
   ],
   "source": [
    "summary(modelo)"
   ]
  },
  {
   "cell_type": "code",
   "execution_count": 29,
   "metadata": {},
   "outputs": [
    {
     "name": "stdout",
     "output_type": "stream",
     "text": [
      "Poisson model \n"
     ]
    },
    {
     "data": {
      "image/png": "[encoded data removed]",
      "text/plain": [
       "Plot with title \"\""
      ]
     },
     "metadata": {},
     "output_type": "display_data"
    }
   ],
   "source": [
    "hnp(modelo)"
   ]
  },
  {
   "cell_type": "code",
   "execution_count": 30,
   "metadata": {},
   "outputs": [
    {
     "name": "stderr",
     "output_type": "stream",
     "text": [
      "Waiting for profiling to be done...\n"
     ]
    },
    {
     "data": {
      "text/html": [
       "<table>\n",
       "<thead><tr><th></th><th scope=col>0.5 %</th><th scope=col>99.5 %</th></tr></thead>\n",
       "<tbody>\n",
       "\t<tr><th scope=row>(Intercept)</th><td> 4.3525720</td><td> 4.554219 </td></tr>\n",
       "\t<tr><th scope=row>x</th><td>-1.6640009</td><td>-1.423866 </td></tr>\n",
       "\t<tr><th scope=row>strain2</th><td>-0.3999625</td><td>-0.150683 </td></tr>\n",
       "</tbody>\n",
       "</table>\n"
      ],
      "text/latex": [
       "\\begin{tabular}{r|ll}\n",
       "  & 0.5 \\% & 99.5 \\%\\\\\n",
       "\\hline\n",
       "\t(Intercept) &  4.3525720 &  4.554219 \\\\\n",
       "\tx & -1.6640009 & -1.423866 \\\\\n",
       "\tstrain2 & -0.3999625 & -0.150683 \\\\\n",
       "\\end{tabular}\n"
      ],
      "text/markdown": [
       "\n",
       "| <!--/--> | 0.5 % | 99.5 % | \n",
       "|---|---|---|\n",
       "| (Intercept) |  4.3525720 |  4.554219  | \n",
       "| x | -1.6640009 | -1.423866  | \n",
       "| strain2 | -0.3999625 | -0.150683  | \n",
       "\n",
       "\n"
      ],
      "text/plain": [
       "            0.5 %      99.5 %   \n",
       "(Intercept)  4.3525720  4.554219\n",
       "x           -1.6640009 -1.423866\n",
       "strain2     -0.3999625 -0.150683"
      ]
     },
     "metadata": {},
     "output_type": "display_data"
    }
   ],
   "source": [
    "#Intervalo de confiança pros betas\n",
    "confint(modelo,level=0.99)"
   ]
  },
  {
   "cell_type": "code",
   "execution_count": 31,
   "metadata": {},
   "outputs": [
    {
     "data": {
      "text/html": [
       "<dl class=dl-horizontal>\n",
       "\t<dt>(Intercept)</dt>\n",
       "\t\t<dd>4.45464001363242</dd>\n",
       "\t<dt>x</dt>\n",
       "\t\t<dd>-1.54307954781882</dd>\n",
       "\t<dt>strain2</dt>\n",
       "\t\t<dd>-0.274968619178826</dd>\n",
       "</dl>\n"
      ],
      "text/latex": [
       "\\begin{description*}\n",
       "\\item[(Intercept)] 4.45464001363242\n",
       "\\item[x] -1.54307954781882\n",
       "\\item[strain2] -0.274968619178826\n",
       "\\end{description*}\n"
      ],
      "text/markdown": [
       "(Intercept)\n",
       ":   4.45464001363242x\n",
       ":   -1.54307954781882strain2\n",
       ":   -0.274968619178826\n",
       "\n"
      ],
      "text/plain": [
       "(Intercept)           x     strain2 \n",
       "  4.4546400  -1.5430795  -0.2749686 "
      ]
     },
     "metadata": {},
     "output_type": "display_data"
    }
   ],
   "source": [
    "modelo$coefficients"
   ]
  },
  {
   "cell_type": "code",
   "execution_count": 32,
   "metadata": {},
   "outputs": [
    {
     "data": {
      "text/html": [
       "<table>\n",
       "<thead><tr><th scope=col>y</th><th scope=col>x</th><th scope=col>strain</th></tr></thead>\n",
       "<tbody>\n",
       "\t<tr><td> 82 </td><td>0.00</td><td>1   </td></tr>\n",
       "\t<tr><td>106 </td><td>0.00</td><td>1   </td></tr>\n",
       "\t<tr><td> 63 </td><td>0.00</td><td>1   </td></tr>\n",
       "\t<tr><td> 99 </td><td>0.00</td><td>1   </td></tr>\n",
       "\t<tr><td>101 </td><td>0.00</td><td>1   </td></tr>\n",
       "\t<tr><td> 45 </td><td>0.50</td><td>1   </td></tr>\n",
       "\t<tr><td> 34 </td><td>0.50</td><td>1   </td></tr>\n",
       "\t<tr><td> 26 </td><td>0.50</td><td>1   </td></tr>\n",
       "\t<tr><td> 44 </td><td>0.50</td><td>1   </td></tr>\n",
       "\t<tr><td> 42 </td><td>0.50</td><td>1   </td></tr>\n",
       "\t<tr><td> 31 </td><td>0.75</td><td>1   </td></tr>\n",
       "\t<tr><td> 22 </td><td>0.75</td><td>1   </td></tr>\n",
       "\t<tr><td> 16 </td><td>0.75</td><td>1   </td></tr>\n",
       "\t<tr><td> 30 </td><td>0.75</td><td>1   </td></tr>\n",
       "\t<tr><td> 29 </td><td>0.75</td><td>1   </td></tr>\n",
       "\t<tr><td> 22 </td><td>1.00</td><td>1   </td></tr>\n",
       "\t<tr><td> 14 </td><td>1.00</td><td>1   </td></tr>\n",
       "\t<tr><td> 10 </td><td>1.00</td><td>1   </td></tr>\n",
       "\t<tr><td> 21 </td><td>1.00</td><td>1   </td></tr>\n",
       "\t<tr><td> 20 </td><td>1.00</td><td>1   </td></tr>\n",
       "\t<tr><td> 15 </td><td>1.25</td><td>1   </td></tr>\n",
       "\t<tr><td>  8 </td><td>1.25</td><td>1   </td></tr>\n",
       "\t<tr><td>  6 </td><td>1.25</td><td>1   </td></tr>\n",
       "\t<tr><td> 14 </td><td>1.25</td><td>1   </td></tr>\n",
       "\t<tr><td> 13 </td><td>1.25</td><td>1   </td></tr>\n",
       "\t<tr><td> 10 </td><td>1.50</td><td>1   </td></tr>\n",
       "\t<tr><td>  8 </td><td>1.50</td><td>1   </td></tr>\n",
       "\t<tr><td> 11 </td><td>1.50</td><td>1   </td></tr>\n",
       "\t<tr><td> 10 </td><td>1.50</td><td>1   </td></tr>\n",
       "\t<tr><td> 10 </td><td>1.50</td><td>1   </td></tr>\n",
       "\t<tr><td>...</td><td>...</td><td>...</td></tr>\n",
       "\t<tr><td>27  </td><td>0.50</td><td>2   </td></tr>\n",
       "\t<tr><td>28  </td><td>0.50</td><td>2   </td></tr>\n",
       "\t<tr><td>31  </td><td>0.50</td><td>2   </td></tr>\n",
       "\t<tr><td>28  </td><td>0.50</td><td>2   </td></tr>\n",
       "\t<tr><td>38  </td><td>0.50</td><td>2   </td></tr>\n",
       "\t<tr><td>19  </td><td>0.75</td><td>2   </td></tr>\n",
       "\t<tr><td>20  </td><td>0.75</td><td>2   </td></tr>\n",
       "\t<tr><td>22  </td><td>0.75</td><td>2   </td></tr>\n",
       "\t<tr><td>20  </td><td>0.75</td><td>2   </td></tr>\n",
       "\t<tr><td>28  </td><td>0.75</td><td>2   </td></tr>\n",
       "\t<tr><td>14  </td><td>1.00</td><td>2   </td></tr>\n",
       "\t<tr><td>14  </td><td>1.00</td><td>2   </td></tr>\n",
       "\t<tr><td>15  </td><td>1.00</td><td>2   </td></tr>\n",
       "\t<tr><td>14  </td><td>1.00</td><td>2   </td></tr>\n",
       "\t<tr><td>21  </td><td>1.00</td><td>2   </td></tr>\n",
       "\t<tr><td> 9  </td><td>1.25</td><td>2   </td></tr>\n",
       "\t<tr><td>10  </td><td>1.25</td><td>2   </td></tr>\n",
       "\t<tr><td>12  </td><td>1.25</td><td>2   </td></tr>\n",
       "\t<tr><td>10  </td><td>1.25</td><td>2   </td></tr>\n",
       "\t<tr><td>16  </td><td>1.25</td><td>2   </td></tr>\n",
       "\t<tr><td> 7  </td><td>1.50</td><td>2   </td></tr>\n",
       "\t<tr><td> 3  </td><td>1.50</td><td>2   </td></tr>\n",
       "\t<tr><td> 1  </td><td>1.50</td><td>2   </td></tr>\n",
       "\t<tr><td> 8  </td><td>1.50</td><td>2   </td></tr>\n",
       "\t<tr><td> 7  </td><td>1.50</td><td>2   </td></tr>\n",
       "\t<tr><td> 4  </td><td>1.75</td><td>2   </td></tr>\n",
       "\t<tr><td> 3  </td><td>1.75</td><td>2   </td></tr>\n",
       "\t<tr><td> 2  </td><td>1.75</td><td>2   </td></tr>\n",
       "\t<tr><td> 8  </td><td>1.75</td><td>2   </td></tr>\n",
       "\t<tr><td> 4  </td><td>1.75</td><td>2   </td></tr>\n",
       "</tbody>\n",
       "</table>\n"
      ],
      "text/latex": [
       "\\begin{tabular}{r|lll}\n",
       " y & x & strain\\\\\n",
       "\\hline\n",
       "\t  82  & 0.00 & 1   \\\\\n",
       "\t 106  & 0.00 & 1   \\\\\n",
       "\t  63  & 0.00 & 1   \\\\\n",
       "\t  99  & 0.00 & 1   \\\\\n",
       "\t 101  & 0.00 & 1   \\\\\n",
       "\t  45  & 0.50 & 1   \\\\\n",
       "\t  34  & 0.50 & 1   \\\\\n",
       "\t  26  & 0.50 & 1   \\\\\n",
       "\t  44  & 0.50 & 1   \\\\\n",
       "\t  42  & 0.50 & 1   \\\\\n",
       "\t  31  & 0.75 & 1   \\\\\n",
       "\t  22  & 0.75 & 1   \\\\\n",
       "\t  16  & 0.75 & 1   \\\\\n",
       "\t  30  & 0.75 & 1   \\\\\n",
       "\t  29  & 0.75 & 1   \\\\\n",
       "\t  22  & 1.00 & 1   \\\\\n",
       "\t  14  & 1.00 & 1   \\\\\n",
       "\t  10  & 1.00 & 1   \\\\\n",
       "\t  21  & 1.00 & 1   \\\\\n",
       "\t  20  & 1.00 & 1   \\\\\n",
       "\t  15  & 1.25 & 1   \\\\\n",
       "\t   8  & 1.25 & 1   \\\\\n",
       "\t   6  & 1.25 & 1   \\\\\n",
       "\t  14  & 1.25 & 1   \\\\\n",
       "\t  13  & 1.25 & 1   \\\\\n",
       "\t  10  & 1.50 & 1   \\\\\n",
       "\t   8  & 1.50 & 1   \\\\\n",
       "\t  11  & 1.50 & 1   \\\\\n",
       "\t  10  & 1.50 & 1   \\\\\n",
       "\t  10  & 1.50 & 1   \\\\\n",
       "\t ... & ... & ...\\\\\n",
       "\t 27   & 0.50 & 2   \\\\\n",
       "\t 28   & 0.50 & 2   \\\\\n",
       "\t 31   & 0.50 & 2   \\\\\n",
       "\t 28   & 0.50 & 2   \\\\\n",
       "\t 38   & 0.50 & 2   \\\\\n",
       "\t 19   & 0.75 & 2   \\\\\n",
       "\t 20   & 0.75 & 2   \\\\\n",
       "\t 22   & 0.75 & 2   \\\\\n",
       "\t 20   & 0.75 & 2   \\\\\n",
       "\t 28   & 0.75 & 2   \\\\\n",
       "\t 14   & 1.00 & 2   \\\\\n",
       "\t 14   & 1.00 & 2   \\\\\n",
       "\t 15   & 1.00 & 2   \\\\\n",
       "\t 14   & 1.00 & 2   \\\\\n",
       "\t 21   & 1.00 & 2   \\\\\n",
       "\t  9   & 1.25 & 2   \\\\\n",
       "\t 10   & 1.25 & 2   \\\\\n",
       "\t 12   & 1.25 & 2   \\\\\n",
       "\t 10   & 1.25 & 2   \\\\\n",
       "\t 16   & 1.25 & 2   \\\\\n",
       "\t  7   & 1.50 & 2   \\\\\n",
       "\t  3   & 1.50 & 2   \\\\\n",
       "\t  1   & 1.50 & 2   \\\\\n",
       "\t  8   & 1.50 & 2   \\\\\n",
       "\t  7   & 1.50 & 2   \\\\\n",
       "\t  4   & 1.75 & 2   \\\\\n",
       "\t  3   & 1.75 & 2   \\\\\n",
       "\t  2   & 1.75 & 2   \\\\\n",
       "\t  8   & 1.75 & 2   \\\\\n",
       "\t  4   & 1.75 & 2   \\\\\n",
       "\\end{tabular}\n"
      ],
      "text/markdown": [
       "\n",
       "y | x | strain | \n",
       "|---|---|---|---|---|---|---|---|---|---|---|---|---|---|---|---|---|---|---|---|---|---|---|---|---|---|---|---|---|---|---|---|---|---|---|---|---|---|---|---|---|---|---|---|---|---|---|---|---|---|---|---|---|---|---|---|---|---|---|---|---|\n",
       "|  82  | 0.00 | 1    | \n",
       "| 106  | 0.00 | 1    | \n",
       "|  63  | 0.00 | 1    | \n",
       "|  99  | 0.00 | 1    | \n",
       "| 101  | 0.00 | 1    | \n",
       "|  45  | 0.50 | 1    | \n",
       "|  34  | 0.50 | 1    | \n",
       "|  26  | 0.50 | 1    | \n",
       "|  44  | 0.50 | 1    | \n",
       "|  42  | 0.50 | 1    | \n",
       "|  31  | 0.75 | 1    | \n",
       "|  22  | 0.75 | 1    | \n",
       "|  16  | 0.75 | 1    | \n",
       "|  30  | 0.75 | 1    | \n",
       "|  29  | 0.75 | 1    | \n",
       "|  22  | 1.00 | 1    | \n",
       "|  14  | 1.00 | 1    | \n",
       "|  10  | 1.00 | 1    | \n",
       "|  21  | 1.00 | 1    | \n",
       "|  20  | 1.00 | 1    | \n",
       "|  15  | 1.25 | 1    | \n",
       "|   8  | 1.25 | 1    | \n",
       "|   6  | 1.25 | 1    | \n",
       "|  14  | 1.25 | 1    | \n",
       "|  13  | 1.25 | 1    | \n",
       "|  10  | 1.50 | 1    | \n",
       "|   8  | 1.50 | 1    | \n",
       "|  11  | 1.50 | 1    | \n",
       "|  10  | 1.50 | 1    | \n",
       "|  10  | 1.50 | 1    | \n",
       "| ... | ... | ... | \n",
       "| 27   | 0.50 | 2    | \n",
       "| 28   | 0.50 | 2    | \n",
       "| 31   | 0.50 | 2    | \n",
       "| 28   | 0.50 | 2    | \n",
       "| 38   | 0.50 | 2    | \n",
       "| 19   | 0.75 | 2    | \n",
       "| 20   | 0.75 | 2    | \n",
       "| 22   | 0.75 | 2    | \n",
       "| 20   | 0.75 | 2    | \n",
       "| 28   | 0.75 | 2    | \n",
       "| 14   | 1.00 | 2    | \n",
       "| 14   | 1.00 | 2    | \n",
       "| 15   | 1.00 | 2    | \n",
       "| 14   | 1.00 | 2    | \n",
       "| 21   | 1.00 | 2    | \n",
       "|  9   | 1.25 | 2    | \n",
       "| 10   | 1.25 | 2    | \n",
       "| 12   | 1.25 | 2    | \n",
       "| 10   | 1.25 | 2    | \n",
       "| 16   | 1.25 | 2    | \n",
       "|  7   | 1.50 | 2    | \n",
       "|  3   | 1.50 | 2    | \n",
       "|  1   | 1.50 | 2    | \n",
       "|  8   | 1.50 | 2    | \n",
       "|  7   | 1.50 | 2    | \n",
       "|  4   | 1.75 | 2    | \n",
       "|  3   | 1.75 | 2    | \n",
       "|  2   | 1.75 | 2    | \n",
       "|  8   | 1.75 | 2    | \n",
       "|  4   | 1.75 | 2    | \n",
       "\n",
       "\n"
      ],
      "text/plain": [
       "    y   x    strain\n",
       "1    82 0.00 1     \n",
       "2   106 0.00 1     \n",
       "3    63 0.00 1     \n",
       "4    99 0.00 1     \n",
       "5   101 0.00 1     \n",
       "6    45 0.50 1     \n",
       "7    34 0.50 1     \n",
       "8    26 0.50 1     \n",
       "9    44 0.50 1     \n",
       "10   42 0.50 1     \n",
       "11   31 0.75 1     \n",
       "12   22 0.75 1     \n",
       "13   16 0.75 1     \n",
       "14   30 0.75 1     \n",
       "15   29 0.75 1     \n",
       "16   22 1.00 1     \n",
       "17   14 1.00 1     \n",
       "18   10 1.00 1     \n",
       "19   21 1.00 1     \n",
       "20   20 1.00 1     \n",
       "21   15 1.25 1     \n",
       "22    8 1.25 1     \n",
       "23    6 1.25 1     \n",
       "24   14 1.25 1     \n",
       "25   13 1.25 1     \n",
       "26   10 1.50 1     \n",
       "27    8 1.50 1     \n",
       "28   11 1.50 1     \n",
       "29   10 1.50 1     \n",
       "30   10 1.50 1     \n",
       "... ... ...  ...   \n",
       "41  27  0.50 2     \n",
       "42  28  0.50 2     \n",
       "43  31  0.50 2     \n",
       "44  28  0.50 2     \n",
       "45  38  0.50 2     \n",
       "46  19  0.75 2     \n",
       "47  20  0.75 2     \n",
       "48  22  0.75 2     \n",
       "49  20  0.75 2     \n",
       "50  28  0.75 2     \n",
       "51  14  1.00 2     \n",
       "52  14  1.00 2     \n",
       "53  15  1.00 2     \n",
       "54  14  1.00 2     \n",
       "55  21  1.00 2     \n",
       "56   9  1.25 2     \n",
       "57  10  1.25 2     \n",
       "58  12  1.25 2     \n",
       "59  10  1.25 2     \n",
       "60  16  1.25 2     \n",
       "61   7  1.50 2     \n",
       "62   3  1.50 2     \n",
       "63   1  1.50 2     \n",
       "64   8  1.50 2     \n",
       "65   7  1.50 2     \n",
       "66   4  1.75 2     \n",
       "67   3  1.75 2     \n",
       "68   2  1.75 2     \n",
       "69   8  1.75 2     \n",
       "70   4  1.75 2     "
      ]
     },
     "metadata": {},
     "output_type": "display_data"
    }
   ],
   "source": [
    "modelo$model"
   ]
  },
  {
   "cell_type": "code",
   "execution_count": 33,
   "metadata": {},
   "outputs": [
    {
     "data": {
      "text/html": [
       "<dl class=dl-horizontal>\n",
       "\t<dt>(Intercept)</dt>\n",
       "\t\t<dd>0.00153176931316819</dd>\n",
       "\t<dt>x</dt>\n",
       "\t\t<dd>0.00217184698630172</dd>\n",
       "\t<dt>strain2</dt>\n",
       "\t\t<dd>0.0023398875377869</dd>\n",
       "</dl>\n"
      ],
      "text/latex": [
       "\\begin{description*}\n",
       "\\item[(Intercept)] 0.00153176931316819\n",
       "\\item[x] 0.00217184698630172\n",
       "\\item[strain2] 0.0023398875377869\n",
       "\\end{description*}\n"
      ],
      "text/markdown": [
       "(Intercept)\n",
       ":   0.00153176931316819x\n",
       ":   0.00217184698630172strain2\n",
       ":   0.0023398875377869\n",
       "\n"
      ],
      "text/plain": [
       "(Intercept)           x     strain2 \n",
       "0.001531769 0.002171847 0.002339888 "
      ]
     },
     "metadata": {},
     "output_type": "display_data"
    }
   ],
   "source": [
    "diag(vcov(modelo))"
   ]
  },
  {
   "cell_type": "code",
   "execution_count": 34,
   "metadata": {},
   "outputs": [
    {
     "data": {
      "text/html": [
       "<dl class=dl-horizontal>\n",
       "\t<dt>(Intercept)</dt>\n",
       "\t\t<dd>1</dd>\n",
       "\t<dt>x</dt>\n",
       "\t\t<dd>0</dd>\n",
       "\t<dt>strain2</dt>\n",
       "\t\t<dd>0</dd>\n",
       "</dl>\n"
      ],
      "text/latex": [
       "\\begin{description*}\n",
       "\\item[(Intercept)] 1\n",
       "\\item[x] 0\n",
       "\\item[strain2] 0\n",
       "\\end{description*}\n"
      ],
      "text/markdown": [
       "(Intercept)\n",
       ":   1x\n",
       ":   0strain2\n",
       ":   0\n",
       "\n"
      ],
      "text/plain": [
       "(Intercept)           x     strain2 \n",
       "          1           0           0 "
      ]
     },
     "metadata": {},
     "output_type": "display_data"
    }
   ],
   "source": [
    "model.matrix(modelo)[1,]"
   ]
  },
  {
   "cell_type": "code",
   "execution_count": 35,
   "metadata": {},
   "outputs": [],
   "source": [
    "var=model.matrix(modelo)[1,]%*%vcov(modelo)%*%t(t(model.matrix(modelo)[1,]))"
   ]
  },
  {
   "cell_type": "code",
   "execution_count": 36,
   "metadata": {},
   "outputs": [
    {
     "data": {
      "text/html": [
       "<ol class=list-inline>\n",
       "\t<li>79.6730421472647</li>\n",
       "\t<li>92.8837526935089</li>\n",
       "</ol>\n"
      ],
      "text/latex": [
       "\\begin{enumerate*}\n",
       "\\item 79.6730421472647\n",
       "\\item 92.8837526935089\n",
       "\\end{enumerate*}\n"
      ],
      "text/markdown": [
       "1. 79.6730421472647\n",
       "2. 92.8837526935089\n",
       "\n",
       "\n"
      ],
      "text/plain": [
       "[1] 79.67304 92.88375"
      ]
     },
     "metadata": {},
     "output_type": "display_data"
    }
   ],
   "source": [
    "exp(c(model.matrix(modelo)[1,]%*%modelo$coefficients-qnorm(0.975)*sqrt(var),model.matrix(modelo)[1,]%*%modelo$coefficients+qnorm(0.975)*sqrt(var)))"
   ]
  },
  {
   "cell_type": "code",
   "execution_count": 37,
   "metadata": {},
   "outputs": [
    {
     "data": {
      "text/html": [
       "<table>\n",
       "<tbody>\n",
       "\t<tr><td>86.02518</td></tr>\n",
       "</tbody>\n",
       "</table>\n"
      ],
      "text/latex": [
       "\\begin{tabular}{l}\n",
       "\t 86.02518\\\\\n",
       "\\end{tabular}\n"
      ],
      "text/markdown": [
       "\n",
       "| 86.02518 | \n",
       "\n",
       "\n"
      ],
      "text/plain": [
       "     [,1]    \n",
       "[1,] 86.02518"
      ]
     },
     "metadata": {},
     "output_type": "display_data"
    }
   ],
   "source": [
    "exp(model.matrix(modelo)[1,]%*%modelo$coefficients)"
   ]
  },
  {
   "cell_type": "code",
   "execution_count": 38,
   "metadata": {},
   "outputs": [
    {
     "data": {
      "text/html": [
       "<table>\n",
       "<tbody>\n",
       "\t<tr><td>4.45464</td></tr>\n",
       "</tbody>\n",
       "</table>\n"
      ],
      "text/latex": [
       "\\begin{tabular}{l}\n",
       "\t 4.45464\\\\\n",
       "\\end{tabular}\n"
      ],
      "text/markdown": [
       "\n",
       "| 4.45464 | \n",
       "\n",
       "\n"
      ],
      "text/plain": [
       "     [,1]   \n",
       "[1,] 4.45464"
      ]
     },
     "metadata": {},
     "output_type": "display_data"
    }
   ],
   "source": [
    "model.matrix(modelo)[1,]%*%modelo$coefficients"
   ]
  },
  {
   "cell_type": "code",
   "execution_count": 39,
   "metadata": {},
   "outputs": [
    {
     "data": {
      "text/plain": [
       "\n",
       "Call:\n",
       "glm.nb(formula = y ~ x + strain, init.theta = 123.2830658, link = log)\n",
       "\n",
       "Deviance Residuals: \n",
       "    Min       1Q   Median       3Q      Max  \n",
       "-2.6556  -0.6768   0.1293   0.6505   1.8073  \n",
       "\n",
       "Coefficients:\n",
       "            Estimate Std. Error z value Pr(>|z|)    \n",
       "(Intercept)  4.44643    0.04828  92.099  < 2e-16 ***\n",
       "x           -1.53971    0.05259 -29.276  < 2e-16 ***\n",
       "strain2     -0.26199    0.05575  -4.699 2.61e-06 ***\n",
       "---\n",
       "Signif. codes:  0 '***' 0.001 '**' 0.01 '*' 0.05 '.' 0.1 ' ' 1\n",
       "\n",
       "(Dispersion parameter for Negative Binomial(123.2831) family taken to be 1)\n",
       "\n",
       "    Null deviance: 1102.340  on 69  degrees of freedom\n",
       "Residual deviance:   71.825  on 67  degrees of freedom\n",
       "AIC: 415.47\n",
       "\n",
       "Number of Fisher Scoring iterations: 1\n",
       "\n",
       "\n",
       "              Theta:  123 \n",
       "          Std. Err.:  102 \n",
       "\n",
       " 2 x log-likelihood:  -407.473 "
      ]
     },
     "metadata": {},
     "output_type": "display_data"
    }
   ],
   "source": [
    "modelo2=glm.nb(y~x+strain)\n",
    "summary(modelo2)"
   ]
  },
  {
   "cell_type": "code",
   "execution_count": 40,
   "metadata": {},
   "outputs": [
    {
     "name": "stdout",
     "output_type": "stream",
     "text": [
      "Negative binomial model (using MASS package) \n"
     ]
    },
    {
     "data": {
      "image/png": "[encoded data removed]",
      "text/plain": [
       "Plot with title \"\""
      ]
     },
     "metadata": {},
     "output_type": "display_data"
    }
   ],
   "source": [
    "hnp(modelo2)"
   ]
  },
  {
   "cell_type": "code",
   "execution_count": 41,
   "metadata": {},
   "outputs": [
    {
     "data": {
      "text/html": [
       "<table>\n",
       "<thead><tr><th></th><th scope=col>fit</th><th scope=col>ci.low</th><th scope=col>ci.hi</th></tr></thead>\n",
       "<tbody>\n",
       "\t<tr><th scope=row>1</th><td>4.454640</td><td>4.376521</td><td>4.532759</td></tr>\n",
       "\t<tr><th scope=row>2</th><td>4.454640</td><td>4.376521</td><td>4.532759</td></tr>\n",
       "\t<tr><th scope=row>3</th><td>4.454640</td><td>4.376521</td><td>4.532759</td></tr>\n",
       "\t<tr><th scope=row>4</th><td>4.454640</td><td>4.376521</td><td>4.532759</td></tr>\n",
       "\t<tr><th scope=row>5</th><td>4.454640</td><td>4.376521</td><td>4.532759</td></tr>\n",
       "\t<tr><th scope=row>6</th><td>3.683100</td><td>3.619656</td><td>3.746544</td></tr>\n",
       "\t<tr><th scope=row>7</th><td>3.683100</td><td>3.619656</td><td>3.746544</td></tr>\n",
       "\t<tr><th scope=row>8</th><td>3.683100</td><td>3.619656</td><td>3.746544</td></tr>\n",
       "\t<tr><th scope=row>9</th><td>3.683100</td><td>3.619656</td><td>3.746544</td></tr>\n",
       "\t<tr><th scope=row>10</th><td>3.683100</td><td>3.619656</td><td>3.746544</td></tr>\n",
       "\t<tr><th scope=row>11</th><td>3.297330</td><td>3.229442</td><td>3.365218</td></tr>\n",
       "\t<tr><th scope=row>12</th><td>3.297330</td><td>3.229442</td><td>3.365218</td></tr>\n",
       "\t<tr><th scope=row>13</th><td>3.297330</td><td>3.229442</td><td>3.365218</td></tr>\n",
       "\t<tr><th scope=row>14</th><td>3.297330</td><td>3.229442</td><td>3.365218</td></tr>\n",
       "\t<tr><th scope=row>15</th><td>3.297330</td><td>3.229442</td><td>3.365218</td></tr>\n",
       "\t<tr><th scope=row>16</th><td>2.911560</td><td>2.832352</td><td>2.990769</td></tr>\n",
       "\t<tr><th scope=row>17</th><td>2.911560</td><td>2.832352</td><td>2.990769</td></tr>\n",
       "\t<tr><th scope=row>18</th><td>2.911560</td><td>2.832352</td><td>2.990769</td></tr>\n",
       "\t<tr><th scope=row>19</th><td>2.911560</td><td>2.832352</td><td>2.990769</td></tr>\n",
       "\t<tr><th scope=row>20</th><td>2.911560</td><td>2.832352</td><td>2.990769</td></tr>\n",
       "\t<tr><th scope=row>21</th><td>2.525791</td><td>2.430813</td><td>2.620769</td></tr>\n",
       "\t<tr><th scope=row>22</th><td>2.525791</td><td>2.430813</td><td>2.620769</td></tr>\n",
       "\t<tr><th scope=row>23</th><td>2.525791</td><td>2.430813</td><td>2.620769</td></tr>\n",
       "\t<tr><th scope=row>24</th><td>2.525791</td><td>2.430813</td><td>2.620769</td></tr>\n",
       "\t<tr><th scope=row>25</th><td>2.525791</td><td>2.430813</td><td>2.620769</td></tr>\n",
       "\t<tr><th scope=row>26</th><td>2.140021</td><td>2.026666</td><td>2.253375</td></tr>\n",
       "\t<tr><th scope=row>27</th><td>2.140021</td><td>2.026666</td><td>2.253375</td></tr>\n",
       "\t<tr><th scope=row>28</th><td>2.140021</td><td>2.026666</td><td>2.253375</td></tr>\n",
       "\t<tr><th scope=row>29</th><td>2.140021</td><td>2.026666</td><td>2.253375</td></tr>\n",
       "\t<tr><th scope=row>30</th><td>2.140021</td><td>2.026666</td><td>2.253375</td></tr>\n",
       "\t<tr><th scope=row>...</th><td>...</td><td>...</td><td>...</td></tr>\n",
       "\t<tr><th scope=row>41</th><td>3.408132</td><td>3.335339</td><td>3.480924</td></tr>\n",
       "\t<tr><th scope=row>42</th><td>3.408132</td><td>3.335339</td><td>3.480924</td></tr>\n",
       "\t<tr><th scope=row>43</th><td>3.408132</td><td>3.335339</td><td>3.480924</td></tr>\n",
       "\t<tr><th scope=row>44</th><td>3.408132</td><td>3.335339</td><td>3.480924</td></tr>\n",
       "\t<tr><th scope=row>45</th><td>3.408132</td><td>3.335339</td><td>3.480924</td></tr>\n",
       "\t<tr><th scope=row>46</th><td>3.022362</td><td>2.945665</td><td>3.099059</td></tr>\n",
       "\t<tr><th scope=row>47</th><td>3.022362</td><td>2.945665</td><td>3.099059</td></tr>\n",
       "\t<tr><th scope=row>48</th><td>3.022362</td><td>2.945665</td><td>3.099059</td></tr>\n",
       "\t<tr><th scope=row>49</th><td>3.022362</td><td>2.945665</td><td>3.099059</td></tr>\n",
       "\t<tr><th scope=row>50</th><td>3.022362</td><td>2.945665</td><td>3.099059</td></tr>\n",
       "\t<tr><th scope=row>51</th><td>2.636592</td><td>2.549715</td><td>2.723469</td></tr>\n",
       "\t<tr><th scope=row>52</th><td>2.636592</td><td>2.549715</td><td>2.723469</td></tr>\n",
       "\t<tr><th scope=row>53</th><td>2.636592</td><td>2.549715</td><td>2.723469</td></tr>\n",
       "\t<tr><th scope=row>54</th><td>2.636592</td><td>2.549715</td><td>2.723469</td></tr>\n",
       "\t<tr><th scope=row>55</th><td>2.636592</td><td>2.549715</td><td>2.723469</td></tr>\n",
       "\t<tr><th scope=row>56</th><td>2.250822</td><td>2.149360</td><td>2.352284</td></tr>\n",
       "\t<tr><th scope=row>57</th><td>2.250822</td><td>2.149360</td><td>2.352284</td></tr>\n",
       "\t<tr><th scope=row>58</th><td>2.250822</td><td>2.149360</td><td>2.352284</td></tr>\n",
       "\t<tr><th scope=row>59</th><td>2.250822</td><td>2.149360</td><td>2.352284</td></tr>\n",
       "\t<tr><th scope=row>60</th><td>2.250822</td><td>2.149360</td><td>2.352284</td></tr>\n",
       "\t<tr><th scope=row>61</th><td>1.865052</td><td>1.746212</td><td>1.983892</td></tr>\n",
       "\t<tr><th scope=row>62</th><td>1.865052</td><td>1.746212</td><td>1.983892</td></tr>\n",
       "\t<tr><th scope=row>63</th><td>1.865052</td><td>1.746212</td><td>1.983892</td></tr>\n",
       "\t<tr><th scope=row>64</th><td>1.865052</td><td>1.746212</td><td>1.983892</td></tr>\n",
       "\t<tr><th scope=row>65</th><td>1.865052</td><td>1.746212</td><td>1.983892</td></tr>\n",
       "\t<tr><th scope=row>66</th><td>1.479282</td><td>1.341322</td><td>1.617242</td></tr>\n",
       "\t<tr><th scope=row>67</th><td>1.479282</td><td>1.341322</td><td>1.617242</td></tr>\n",
       "\t<tr><th scope=row>68</th><td>1.479282</td><td>1.341322</td><td>1.617242</td></tr>\n",
       "\t<tr><th scope=row>69</th><td>1.479282</td><td>1.341322</td><td>1.617242</td></tr>\n",
       "\t<tr><th scope=row>70</th><td>1.479282</td><td>1.341322</td><td>1.617242</td></tr>\n",
       "</tbody>\n",
       "</table>\n"
      ],
      "text/latex": [
       "\\begin{tabular}{r|lll}\n",
       "  & fit & ci.low & ci.hi\\\\\n",
       "\\hline\n",
       "\t1 & 4.454640 & 4.376521 & 4.532759\\\\\n",
       "\t2 & 4.454640 & 4.376521 & 4.532759\\\\\n",
       "\t3 & 4.454640 & 4.376521 & 4.532759\\\\\n",
       "\t4 & 4.454640 & 4.376521 & 4.532759\\\\\n",
       "\t5 & 4.454640 & 4.376521 & 4.532759\\\\\n",
       "\t6 & 3.683100 & 3.619656 & 3.746544\\\\\n",
       "\t7 & 3.683100 & 3.619656 & 3.746544\\\\\n",
       "\t8 & 3.683100 & 3.619656 & 3.746544\\\\\n",
       "\t9 & 3.683100 & 3.619656 & 3.746544\\\\\n",
       "\t10 & 3.683100 & 3.619656 & 3.746544\\\\\n",
       "\t11 & 3.297330 & 3.229442 & 3.365218\\\\\n",
       "\t12 & 3.297330 & 3.229442 & 3.365218\\\\\n",
       "\t13 & 3.297330 & 3.229442 & 3.365218\\\\\n",
       "\t14 & 3.297330 & 3.229442 & 3.365218\\\\\n",
       "\t15 & 3.297330 & 3.229442 & 3.365218\\\\\n",
       "\t16 & 2.911560 & 2.832352 & 2.990769\\\\\n",
       "\t17 & 2.911560 & 2.832352 & 2.990769\\\\\n",
       "\t18 & 2.911560 & 2.832352 & 2.990769\\\\\n",
       "\t19 & 2.911560 & 2.832352 & 2.990769\\\\\n",
       "\t20 & 2.911560 & 2.832352 & 2.990769\\\\\n",
       "\t21 & 2.525791 & 2.430813 & 2.620769\\\\\n",
       "\t22 & 2.525791 & 2.430813 & 2.620769\\\\\n",
       "\t23 & 2.525791 & 2.430813 & 2.620769\\\\\n",
       "\t24 & 2.525791 & 2.430813 & 2.620769\\\\\n",
       "\t25 & 2.525791 & 2.430813 & 2.620769\\\\\n",
       "\t26 & 2.140021 & 2.026666 & 2.253375\\\\\n",
       "\t27 & 2.140021 & 2.026666 & 2.253375\\\\\n",
       "\t28 & 2.140021 & 2.026666 & 2.253375\\\\\n",
       "\t29 & 2.140021 & 2.026666 & 2.253375\\\\\n",
       "\t30 & 2.140021 & 2.026666 & 2.253375\\\\\n",
       "\t... & ... & ... & ...\\\\\n",
       "\t41 & 3.408132 & 3.335339 & 3.480924\\\\\n",
       "\t42 & 3.408132 & 3.335339 & 3.480924\\\\\n",
       "\t43 & 3.408132 & 3.335339 & 3.480924\\\\\n",
       "\t44 & 3.408132 & 3.335339 & 3.480924\\\\\n",
       "\t45 & 3.408132 & 3.335339 & 3.480924\\\\\n",
       "\t46 & 3.022362 & 2.945665 & 3.099059\\\\\n",
       "\t47 & 3.022362 & 2.945665 & 3.099059\\\\\n",
       "\t48 & 3.022362 & 2.945665 & 3.099059\\\\\n",
       "\t49 & 3.022362 & 2.945665 & 3.099059\\\\\n",
       "\t50 & 3.022362 & 2.945665 & 3.099059\\\\\n",
       "\t51 & 2.636592 & 2.549715 & 2.723469\\\\\n",
       "\t52 & 2.636592 & 2.549715 & 2.723469\\\\\n",
       "\t53 & 2.636592 & 2.549715 & 2.723469\\\\\n",
       "\t54 & 2.636592 & 2.549715 & 2.723469\\\\\n",
       "\t55 & 2.636592 & 2.549715 & 2.723469\\\\\n",
       "\t56 & 2.250822 & 2.149360 & 2.352284\\\\\n",
       "\t57 & 2.250822 & 2.149360 & 2.352284\\\\\n",
       "\t58 & 2.250822 & 2.149360 & 2.352284\\\\\n",
       "\t59 & 2.250822 & 2.149360 & 2.352284\\\\\n",
       "\t60 & 2.250822 & 2.149360 & 2.352284\\\\\n",
       "\t61 & 1.865052 & 1.746212 & 1.983892\\\\\n",
       "\t62 & 1.865052 & 1.746212 & 1.983892\\\\\n",
       "\t63 & 1.865052 & 1.746212 & 1.983892\\\\\n",
       "\t64 & 1.865052 & 1.746212 & 1.983892\\\\\n",
       "\t65 & 1.865052 & 1.746212 & 1.983892\\\\\n",
       "\t66 & 1.479282 & 1.341322 & 1.617242\\\\\n",
       "\t67 & 1.479282 & 1.341322 & 1.617242\\\\\n",
       "\t68 & 1.479282 & 1.341322 & 1.617242\\\\\n",
       "\t69 & 1.479282 & 1.341322 & 1.617242\\\\\n",
       "\t70 & 1.479282 & 1.341322 & 1.617242\\\\\n",
       "\\end{tabular}\n"
      ],
      "text/markdown": [
       "\n",
       "| <!--/--> | fit | ci.low | ci.hi | \n",
       "|---|---|---|---|---|---|---|---|---|---|---|---|---|---|---|---|---|---|---|---|---|---|---|---|---|---|---|---|---|---|---|---|---|---|---|---|---|---|---|---|---|---|---|---|---|---|---|---|---|---|---|---|---|---|---|---|---|---|---|---|---|\n",
       "| 1 | 4.454640 | 4.376521 | 4.532759 | \n",
       "| 2 | 4.454640 | 4.376521 | 4.532759 | \n",
       "| 3 | 4.454640 | 4.376521 | 4.532759 | \n",
       "| 4 | 4.454640 | 4.376521 | 4.532759 | \n",
       "| 5 | 4.454640 | 4.376521 | 4.532759 | \n",
       "| 6 | 3.683100 | 3.619656 | 3.746544 | \n",
       "| 7 | 3.683100 | 3.619656 | 3.746544 | \n",
       "| 8 | 3.683100 | 3.619656 | 3.746544 | \n",
       "| 9 | 3.683100 | 3.619656 | 3.746544 | \n",
       "| 10 | 3.683100 | 3.619656 | 3.746544 | \n",
       "| 11 | 3.297330 | 3.229442 | 3.365218 | \n",
       "| 12 | 3.297330 | 3.229442 | 3.365218 | \n",
       "| 13 | 3.297330 | 3.229442 | 3.365218 | \n",
       "| 14 | 3.297330 | 3.229442 | 3.365218 | \n",
       "| 15 | 3.297330 | 3.229442 | 3.365218 | \n",
       "| 16 | 2.911560 | 2.832352 | 2.990769 | \n",
       "| 17 | 2.911560 | 2.832352 | 2.990769 | \n",
       "| 18 | 2.911560 | 2.832352 | 2.990769 | \n",
       "| 19 | 2.911560 | 2.832352 | 2.990769 | \n",
       "| 20 | 2.911560 | 2.832352 | 2.990769 | \n",
       "| 21 | 2.525791 | 2.430813 | 2.620769 | \n",
       "| 22 | 2.525791 | 2.430813 | 2.620769 | \n",
       "| 23 | 2.525791 | 2.430813 | 2.620769 | \n",
       "| 24 | 2.525791 | 2.430813 | 2.620769 | \n",
       "| 25 | 2.525791 | 2.430813 | 2.620769 | \n",
       "| 26 | 2.140021 | 2.026666 | 2.253375 | \n",
       "| 27 | 2.140021 | 2.026666 | 2.253375 | \n",
       "| 28 | 2.140021 | 2.026666 | 2.253375 | \n",
       "| 29 | 2.140021 | 2.026666 | 2.253375 | \n",
       "| 30 | 2.140021 | 2.026666 | 2.253375 | \n",
       "| ... | ... | ... | ... | \n",
       "| 41 | 3.408132 | 3.335339 | 3.480924 | \n",
       "| 42 | 3.408132 | 3.335339 | 3.480924 | \n",
       "| 43 | 3.408132 | 3.335339 | 3.480924 | \n",
       "| 44 | 3.408132 | 3.335339 | 3.480924 | \n",
       "| 45 | 3.408132 | 3.335339 | 3.480924 | \n",
       "| 46 | 3.022362 | 2.945665 | 3.099059 | \n",
       "| 47 | 3.022362 | 2.945665 | 3.099059 | \n",
       "| 48 | 3.022362 | 2.945665 | 3.099059 | \n",
       "| 49 | 3.022362 | 2.945665 | 3.099059 | \n",
       "| 50 | 3.022362 | 2.945665 | 3.099059 | \n",
       "| 51 | 2.636592 | 2.549715 | 2.723469 | \n",
       "| 52 | 2.636592 | 2.549715 | 2.723469 | \n",
       "| 53 | 2.636592 | 2.549715 | 2.723469 | \n",
       "| 54 | 2.636592 | 2.549715 | 2.723469 | \n",
       "| 55 | 2.636592 | 2.549715 | 2.723469 | \n",
       "| 56 | 2.250822 | 2.149360 | 2.352284 | \n",
       "| 57 | 2.250822 | 2.149360 | 2.352284 | \n",
       "| 58 | 2.250822 | 2.149360 | 2.352284 | \n",
       "| 59 | 2.250822 | 2.149360 | 2.352284 | \n",
       "| 60 | 2.250822 | 2.149360 | 2.352284 | \n",
       "| 61 | 1.865052 | 1.746212 | 1.983892 | \n",
       "| 62 | 1.865052 | 1.746212 | 1.983892 | \n",
       "| 63 | 1.865052 | 1.746212 | 1.983892 | \n",
       "| 64 | 1.865052 | 1.746212 | 1.983892 | \n",
       "| 65 | 1.865052 | 1.746212 | 1.983892 | \n",
       "| 66 | 1.479282 | 1.341322 | 1.617242 | \n",
       "| 67 | 1.479282 | 1.341322 | 1.617242 | \n",
       "| 68 | 1.479282 | 1.341322 | 1.617242 | \n",
       "| 69 | 1.479282 | 1.341322 | 1.617242 | \n",
       "| 70 | 1.479282 | 1.341322 | 1.617242 | \n",
       "\n",
       "\n"
      ],
      "text/plain": [
       "    fit      ci.low   ci.hi   \n",
       "1   4.454640 4.376521 4.532759\n",
       "2   4.454640 4.376521 4.532759\n",
       "3   4.454640 4.376521 4.532759\n",
       "4   4.454640 4.376521 4.532759\n",
       "5   4.454640 4.376521 4.532759\n",
       "6   3.683100 3.619656 3.746544\n",
       "7   3.683100 3.619656 3.746544\n",
       "8   3.683100 3.619656 3.746544\n",
       "9   3.683100 3.619656 3.746544\n",
       "10  3.683100 3.619656 3.746544\n",
       "11  3.297330 3.229442 3.365218\n",
       "12  3.297330 3.229442 3.365218\n",
       "13  3.297330 3.229442 3.365218\n",
       "14  3.297330 3.229442 3.365218\n",
       "15  3.297330 3.229442 3.365218\n",
       "16  2.911560 2.832352 2.990769\n",
       "17  2.911560 2.832352 2.990769\n",
       "18  2.911560 2.832352 2.990769\n",
       "19  2.911560 2.832352 2.990769\n",
       "20  2.911560 2.832352 2.990769\n",
       "21  2.525791 2.430813 2.620769\n",
       "22  2.525791 2.430813 2.620769\n",
       "23  2.525791 2.430813 2.620769\n",
       "24  2.525791 2.430813 2.620769\n",
       "25  2.525791 2.430813 2.620769\n",
       "26  2.140021 2.026666 2.253375\n",
       "27  2.140021 2.026666 2.253375\n",
       "28  2.140021 2.026666 2.253375\n",
       "29  2.140021 2.026666 2.253375\n",
       "30  2.140021 2.026666 2.253375\n",
       "... ...      ...      ...     \n",
       "41  3.408132 3.335339 3.480924\n",
       "42  3.408132 3.335339 3.480924\n",
       "43  3.408132 3.335339 3.480924\n",
       "44  3.408132 3.335339 3.480924\n",
       "45  3.408132 3.335339 3.480924\n",
       "46  3.022362 2.945665 3.099059\n",
       "47  3.022362 2.945665 3.099059\n",
       "48  3.022362 2.945665 3.099059\n",
       "49  3.022362 2.945665 3.099059\n",
       "50  3.022362 2.945665 3.099059\n",
       "51  2.636592 2.549715 2.723469\n",
       "52  2.636592 2.549715 2.723469\n",
       "53  2.636592 2.549715 2.723469\n",
       "54  2.636592 2.549715 2.723469\n",
       "55  2.636592 2.549715 2.723469\n",
       "56  2.250822 2.149360 2.352284\n",
       "57  2.250822 2.149360 2.352284\n",
       "58  2.250822 2.149360 2.352284\n",
       "59  2.250822 2.149360 2.352284\n",
       "60  2.250822 2.149360 2.352284\n",
       "61  1.865052 1.746212 1.983892\n",
       "62  1.865052 1.746212 1.983892\n",
       "63  1.865052 1.746212 1.983892\n",
       "64  1.865052 1.746212 1.983892\n",
       "65  1.865052 1.746212 1.983892\n",
       "66  1.479282 1.341322 1.617242\n",
       "67  1.479282 1.341322 1.617242\n",
       "68  1.479282 1.341322 1.617242\n",
       "69  1.479282 1.341322 1.617242\n",
       "70  1.479282 1.341322 1.617242"
      ]
     },
     "metadata": {},
     "output_type": "display_data"
    }
   ],
   "source": [
    "#Intervalo de confiança para os preditores lineares.\n",
    "interval(modelo)[,1:3]"
   ]
  },
  {
   "cell_type": "code",
   "execution_count": 42,
   "metadata": {},
   "outputs": [
    {
     "data": {
      "text/html": [
       "<table>\n",
       "<thead><tr><th scope=col>y</th><th scope=col>x</th><th scope=col>strain</th><th scope=col>modelo.fitted.values</th></tr></thead>\n",
       "<tbody>\n",
       "\t<tr><td> 82      </td><td>0.00     </td><td>1        </td><td>86.025177</td></tr>\n",
       "\t<tr><td>106      </td><td>0.00     </td><td>1        </td><td>86.025177</td></tr>\n",
       "\t<tr><td> 63      </td><td>0.00     </td><td>1        </td><td>86.025177</td></tr>\n",
       "\t<tr><td> 99      </td><td>0.00     </td><td>1        </td><td>86.025177</td></tr>\n",
       "\t<tr><td>101      </td><td>0.00     </td><td>1        </td><td>86.025177</td></tr>\n",
       "\t<tr><td> 45      </td><td>0.50     </td><td>1        </td><td>39.769498</td></tr>\n",
       "\t<tr><td> 34      </td><td>0.50     </td><td>1        </td><td>39.769498</td></tr>\n",
       "\t<tr><td> 26      </td><td>0.50     </td><td>1        </td><td>39.769498</td></tr>\n",
       "\t<tr><td> 44      </td><td>0.50     </td><td>1        </td><td>39.769498</td></tr>\n",
       "\t<tr><td> 42      </td><td>0.50     </td><td>1        </td><td>39.769498</td></tr>\n",
       "\t<tr><td> 31      </td><td>0.75     </td><td>1        </td><td>27.040354</td></tr>\n",
       "\t<tr><td> 22      </td><td>0.75     </td><td>1        </td><td>27.040354</td></tr>\n",
       "\t<tr><td> 16      </td><td>0.75     </td><td>1        </td><td>27.040354</td></tr>\n",
       "\t<tr><td> 30      </td><td>0.75     </td><td>1        </td><td>27.040354</td></tr>\n",
       "\t<tr><td> 29      </td><td>0.75     </td><td>1        </td><td>27.040354</td></tr>\n",
       "\t<tr><td> 22      </td><td>1.00     </td><td>1        </td><td>18.385466</td></tr>\n",
       "\t<tr><td> 14      </td><td>1.00     </td><td>1        </td><td>18.385466</td></tr>\n",
       "\t<tr><td> 10      </td><td>1.00     </td><td>1        </td><td>18.385466</td></tr>\n",
       "\t<tr><td> 21      </td><td>1.00     </td><td>1        </td><td>18.385466</td></tr>\n",
       "\t<tr><td> 20      </td><td>1.00     </td><td>1        </td><td>18.385466</td></tr>\n",
       "\t<tr><td> 15      </td><td>1.25     </td><td>1        </td><td>12.500774</td></tr>\n",
       "\t<tr><td>  8      </td><td>1.25     </td><td>1        </td><td>12.500774</td></tr>\n",
       "\t<tr><td>  6      </td><td>1.25     </td><td>1        </td><td>12.500774</td></tr>\n",
       "\t<tr><td> 14      </td><td>1.25     </td><td>1        </td><td>12.500774</td></tr>\n",
       "\t<tr><td> 13      </td><td>1.25     </td><td>1        </td><td>12.500774</td></tr>\n",
       "\t<tr><td> 10      </td><td>1.50     </td><td>1        </td><td> 8.499614</td></tr>\n",
       "\t<tr><td>  8      </td><td>1.50     </td><td>1        </td><td> 8.499614</td></tr>\n",
       "\t<tr><td> 11      </td><td>1.50     </td><td>1        </td><td> 8.499614</td></tr>\n",
       "\t<tr><td> 10      </td><td>1.50     </td><td>1        </td><td> 8.499614</td></tr>\n",
       "\t<tr><td> 10      </td><td>1.50     </td><td>1        </td><td> 8.499614</td></tr>\n",
       "\t<tr><td>...</td><td>...</td><td>...</td><td>...</td></tr>\n",
       "\t<tr><td>27       </td><td>0.50     </td><td>2        </td><td>30.208750</td></tr>\n",
       "\t<tr><td>28       </td><td>0.50     </td><td>2        </td><td>30.208750</td></tr>\n",
       "\t<tr><td>31       </td><td>0.50     </td><td>2        </td><td>30.208750</td></tr>\n",
       "\t<tr><td>28       </td><td>0.50     </td><td>2        </td><td>30.208750</td></tr>\n",
       "\t<tr><td>38       </td><td>0.50     </td><td>2        </td><td>30.208750</td></tr>\n",
       "\t<tr><td>19       </td><td>0.75     </td><td>2        </td><td>20.539744</td></tr>\n",
       "\t<tr><td>20       </td><td>0.75     </td><td>2        </td><td>20.539744</td></tr>\n",
       "\t<tr><td>22       </td><td>0.75     </td><td>2        </td><td>20.539744</td></tr>\n",
       "\t<tr><td>20       </td><td>0.75     </td><td>2        </td><td>20.539744</td></tr>\n",
       "\t<tr><td>28       </td><td>0.75     </td><td>2        </td><td>20.539744</td></tr>\n",
       "\t<tr><td>14       </td><td>1.00     </td><td>2        </td><td>13.965526</td></tr>\n",
       "\t<tr><td>14       </td><td>1.00     </td><td>2        </td><td>13.965526</td></tr>\n",
       "\t<tr><td>15       </td><td>1.00     </td><td>2        </td><td>13.965526</td></tr>\n",
       "\t<tr><td>14       </td><td>1.00     </td><td>2        </td><td>13.965526</td></tr>\n",
       "\t<tr><td>21       </td><td>1.00     </td><td>2        </td><td>13.965526</td></tr>\n",
       "\t<tr><td> 9       </td><td>1.25     </td><td>2        </td><td> 9.495538</td></tr>\n",
       "\t<tr><td>10       </td><td>1.25     </td><td>2        </td><td> 9.495538</td></tr>\n",
       "\t<tr><td>12       </td><td>1.25     </td><td>2        </td><td> 9.495538</td></tr>\n",
       "\t<tr><td>10       </td><td>1.25     </td><td>2        </td><td> 9.495538</td></tr>\n",
       "\t<tr><td>16       </td><td>1.25     </td><td>2        </td><td> 9.495538</td></tr>\n",
       "\t<tr><td> 7       </td><td>1.50     </td><td>2        </td><td> 6.456272</td></tr>\n",
       "\t<tr><td> 3       </td><td>1.50     </td><td>2        </td><td> 6.456272</td></tr>\n",
       "\t<tr><td> 1       </td><td>1.50     </td><td>2        </td><td> 6.456272</td></tr>\n",
       "\t<tr><td> 8       </td><td>1.50     </td><td>2        </td><td> 6.456272</td></tr>\n",
       "\t<tr><td> 7       </td><td>1.50     </td><td>2        </td><td> 6.456272</td></tr>\n",
       "\t<tr><td> 4       </td><td>1.75     </td><td>2        </td><td> 4.389793</td></tr>\n",
       "\t<tr><td> 3       </td><td>1.75     </td><td>2        </td><td> 4.389793</td></tr>\n",
       "\t<tr><td> 2       </td><td>1.75     </td><td>2        </td><td> 4.389793</td></tr>\n",
       "\t<tr><td> 8       </td><td>1.75     </td><td>2        </td><td> 4.389793</td></tr>\n",
       "\t<tr><td> 4       </td><td>1.75     </td><td>2        </td><td> 4.389793</td></tr>\n",
       "</tbody>\n",
       "</table>\n"
      ],
      "text/latex": [
       "\\begin{tabular}{r|llll}\n",
       " y & x & strain & modelo.fitted.values\\\\\n",
       "\\hline\n",
       "\t  82       & 0.00      & 1         & 86.025177\\\\\n",
       "\t 106       & 0.00      & 1         & 86.025177\\\\\n",
       "\t  63       & 0.00      & 1         & 86.025177\\\\\n",
       "\t  99       & 0.00      & 1         & 86.025177\\\\\n",
       "\t 101       & 0.00      & 1         & 86.025177\\\\\n",
       "\t  45       & 0.50      & 1         & 39.769498\\\\\n",
       "\t  34       & 0.50      & 1         & 39.769498\\\\\n",
       "\t  26       & 0.50      & 1         & 39.769498\\\\\n",
       "\t  44       & 0.50      & 1         & 39.769498\\\\\n",
       "\t  42       & 0.50      & 1         & 39.769498\\\\\n",
       "\t  31       & 0.75      & 1         & 27.040354\\\\\n",
       "\t  22       & 0.75      & 1         & 27.040354\\\\\n",
       "\t  16       & 0.75      & 1         & 27.040354\\\\\n",
       "\t  30       & 0.75      & 1         & 27.040354\\\\\n",
       "\t  29       & 0.75      & 1         & 27.040354\\\\\n",
       "\t  22       & 1.00      & 1         & 18.385466\\\\\n",
       "\t  14       & 1.00      & 1         & 18.385466\\\\\n",
       "\t  10       & 1.00      & 1         & 18.385466\\\\\n",
       "\t  21       & 1.00      & 1         & 18.385466\\\\\n",
       "\t  20       & 1.00      & 1         & 18.385466\\\\\n",
       "\t  15       & 1.25      & 1         & 12.500774\\\\\n",
       "\t   8       & 1.25      & 1         & 12.500774\\\\\n",
       "\t   6       & 1.25      & 1         & 12.500774\\\\\n",
       "\t  14       & 1.25      & 1         & 12.500774\\\\\n",
       "\t  13       & 1.25      & 1         & 12.500774\\\\\n",
       "\t  10       & 1.50      & 1         &  8.499614\\\\\n",
       "\t   8       & 1.50      & 1         &  8.499614\\\\\n",
       "\t  11       & 1.50      & 1         &  8.499614\\\\\n",
       "\t  10       & 1.50      & 1         &  8.499614\\\\\n",
       "\t  10       & 1.50      & 1         &  8.499614\\\\\n",
       "\t ... & ... & ... & ...\\\\\n",
       "\t 27        & 0.50      & 2         & 30.208750\\\\\n",
       "\t 28        & 0.50      & 2         & 30.208750\\\\\n",
       "\t 31        & 0.50      & 2         & 30.208750\\\\\n",
       "\t 28        & 0.50      & 2         & 30.208750\\\\\n",
       "\t 38        & 0.50      & 2         & 30.208750\\\\\n",
       "\t 19        & 0.75      & 2         & 20.539744\\\\\n",
       "\t 20        & 0.75      & 2         & 20.539744\\\\\n",
       "\t 22        & 0.75      & 2         & 20.539744\\\\\n",
       "\t 20        & 0.75      & 2         & 20.539744\\\\\n",
       "\t 28        & 0.75      & 2         & 20.539744\\\\\n",
       "\t 14        & 1.00      & 2         & 13.965526\\\\\n",
       "\t 14        & 1.00      & 2         & 13.965526\\\\\n",
       "\t 15        & 1.00      & 2         & 13.965526\\\\\n",
       "\t 14        & 1.00      & 2         & 13.965526\\\\\n",
       "\t 21        & 1.00      & 2         & 13.965526\\\\\n",
       "\t  9        & 1.25      & 2         &  9.495538\\\\\n",
       "\t 10        & 1.25      & 2         &  9.495538\\\\\n",
       "\t 12        & 1.25      & 2         &  9.495538\\\\\n",
       "\t 10        & 1.25      & 2         &  9.495538\\\\\n",
       "\t 16        & 1.25      & 2         &  9.495538\\\\\n",
       "\t  7        & 1.50      & 2         &  6.456272\\\\\n",
       "\t  3        & 1.50      & 2         &  6.456272\\\\\n",
       "\t  1        & 1.50      & 2         &  6.456272\\\\\n",
       "\t  8        & 1.50      & 2         &  6.456272\\\\\n",
       "\t  7        & 1.50      & 2         &  6.456272\\\\\n",
       "\t  4        & 1.75      & 2         &  4.389793\\\\\n",
       "\t  3        & 1.75      & 2         &  4.389793\\\\\n",
       "\t  2        & 1.75      & 2         &  4.389793\\\\\n",
       "\t  8        & 1.75      & 2         &  4.389793\\\\\n",
       "\t  4        & 1.75      & 2         &  4.389793\\\\\n",
       "\\end{tabular}\n"
      ],
      "text/markdown": [
       "\n",
       "y | x | strain | modelo.fitted.values | \n",
       "|---|---|---|---|---|---|---|---|---|---|---|---|---|---|---|---|---|---|---|---|---|---|---|---|---|---|---|---|---|---|---|---|---|---|---|---|---|---|---|---|---|---|---|---|---|---|---|---|---|---|---|---|---|---|---|---|---|---|---|---|---|\n",
       "|  82       | 0.00      | 1         | 86.025177 | \n",
       "| 106       | 0.00      | 1         | 86.025177 | \n",
       "|  63       | 0.00      | 1         | 86.025177 | \n",
       "|  99       | 0.00      | 1         | 86.025177 | \n",
       "| 101       | 0.00      | 1         | 86.025177 | \n",
       "|  45       | 0.50      | 1         | 39.769498 | \n",
       "|  34       | 0.50      | 1         | 39.769498 | \n",
       "|  26       | 0.50      | 1         | 39.769498 | \n",
       "|  44       | 0.50      | 1         | 39.769498 | \n",
       "|  42       | 0.50      | 1         | 39.769498 | \n",
       "|  31       | 0.75      | 1         | 27.040354 | \n",
       "|  22       | 0.75      | 1         | 27.040354 | \n",
       "|  16       | 0.75      | 1         | 27.040354 | \n",
       "|  30       | 0.75      | 1         | 27.040354 | \n",
       "|  29       | 0.75      | 1         | 27.040354 | \n",
       "|  22       | 1.00      | 1         | 18.385466 | \n",
       "|  14       | 1.00      | 1         | 18.385466 | \n",
       "|  10       | 1.00      | 1         | 18.385466 | \n",
       "|  21       | 1.00      | 1         | 18.385466 | \n",
       "|  20       | 1.00      | 1         | 18.385466 | \n",
       "|  15       | 1.25      | 1         | 12.500774 | \n",
       "|   8       | 1.25      | 1         | 12.500774 | \n",
       "|   6       | 1.25      | 1         | 12.500774 | \n",
       "|  14       | 1.25      | 1         | 12.500774 | \n",
       "|  13       | 1.25      | 1         | 12.500774 | \n",
       "|  10       | 1.50      | 1         |  8.499614 | \n",
       "|   8       | 1.50      | 1         |  8.499614 | \n",
       "|  11       | 1.50      | 1         |  8.499614 | \n",
       "|  10       | 1.50      | 1         |  8.499614 | \n",
       "|  10       | 1.50      | 1         |  8.499614 | \n",
       "| ... | ... | ... | ... | \n",
       "| 27        | 0.50      | 2         | 30.208750 | \n",
       "| 28        | 0.50      | 2         | 30.208750 | \n",
       "| 31        | 0.50      | 2         | 30.208750 | \n",
       "| 28        | 0.50      | 2         | 30.208750 | \n",
       "| 38        | 0.50      | 2         | 30.208750 | \n",
       "| 19        | 0.75      | 2         | 20.539744 | \n",
       "| 20        | 0.75      | 2         | 20.539744 | \n",
       "| 22        | 0.75      | 2         | 20.539744 | \n",
       "| 20        | 0.75      | 2         | 20.539744 | \n",
       "| 28        | 0.75      | 2         | 20.539744 | \n",
       "| 14        | 1.00      | 2         | 13.965526 | \n",
       "| 14        | 1.00      | 2         | 13.965526 | \n",
       "| 15        | 1.00      | 2         | 13.965526 | \n",
       "| 14        | 1.00      | 2         | 13.965526 | \n",
       "| 21        | 1.00      | 2         | 13.965526 | \n",
       "|  9        | 1.25      | 2         |  9.495538 | \n",
       "| 10        | 1.25      | 2         |  9.495538 | \n",
       "| 12        | 1.25      | 2         |  9.495538 | \n",
       "| 10        | 1.25      | 2         |  9.495538 | \n",
       "| 16        | 1.25      | 2         |  9.495538 | \n",
       "|  7        | 1.50      | 2         |  6.456272 | \n",
       "|  3        | 1.50      | 2         |  6.456272 | \n",
       "|  1        | 1.50      | 2         |  6.456272 | \n",
       "|  8        | 1.50      | 2         |  6.456272 | \n",
       "|  7        | 1.50      | 2         |  6.456272 | \n",
       "|  4        | 1.75      | 2         |  4.389793 | \n",
       "|  3        | 1.75      | 2         |  4.389793 | \n",
       "|  2        | 1.75      | 2         |  4.389793 | \n",
       "|  8        | 1.75      | 2         |  4.389793 | \n",
       "|  4        | 1.75      | 2         |  4.389793 | \n",
       "\n",
       "\n"
      ],
      "text/plain": [
       "    y   x    strain modelo.fitted.values\n",
       "1    82 0.00 1      86.025177           \n",
       "2   106 0.00 1      86.025177           \n",
       "3    63 0.00 1      86.025177           \n",
       "4    99 0.00 1      86.025177           \n",
       "5   101 0.00 1      86.025177           \n",
       "6    45 0.50 1      39.769498           \n",
       "7    34 0.50 1      39.769498           \n",
       "8    26 0.50 1      39.769498           \n",
       "9    44 0.50 1      39.769498           \n",
       "10   42 0.50 1      39.769498           \n",
       "11   31 0.75 1      27.040354           \n",
       "12   22 0.75 1      27.040354           \n",
       "13   16 0.75 1      27.040354           \n",
       "14   30 0.75 1      27.040354           \n",
       "15   29 0.75 1      27.040354           \n",
       "16   22 1.00 1      18.385466           \n",
       "17   14 1.00 1      18.385466           \n",
       "18   10 1.00 1      18.385466           \n",
       "19   21 1.00 1      18.385466           \n",
       "20   20 1.00 1      18.385466           \n",
       "21   15 1.25 1      12.500774           \n",
       "22    8 1.25 1      12.500774           \n",
       "23    6 1.25 1      12.500774           \n",
       "24   14 1.25 1      12.500774           \n",
       "25   13 1.25 1      12.500774           \n",
       "26   10 1.50 1       8.499614           \n",
       "27    8 1.50 1       8.499614           \n",
       "28   11 1.50 1       8.499614           \n",
       "29   10 1.50 1       8.499614           \n",
       "30   10 1.50 1       8.499614           \n",
       "... ... ...  ...    ...                 \n",
       "41  27  0.50 2      30.208750           \n",
       "42  28  0.50 2      30.208750           \n",
       "43  31  0.50 2      30.208750           \n",
       "44  28  0.50 2      30.208750           \n",
       "45  38  0.50 2      30.208750           \n",
       "46  19  0.75 2      20.539744           \n",
       "47  20  0.75 2      20.539744           \n",
       "48  22  0.75 2      20.539744           \n",
       "49  20  0.75 2      20.539744           \n",
       "50  28  0.75 2      20.539744           \n",
       "51  14  1.00 2      13.965526           \n",
       "52  14  1.00 2      13.965526           \n",
       "53  15  1.00 2      13.965526           \n",
       "54  14  1.00 2      13.965526           \n",
       "55  21  1.00 2      13.965526           \n",
       "56   9  1.25 2       9.495538           \n",
       "57  10  1.25 2       9.495538           \n",
       "58  12  1.25 2       9.495538           \n",
       "59  10  1.25 2       9.495538           \n",
       "60  16  1.25 2       9.495538           \n",
       "61   7  1.50 2       6.456272           \n",
       "62   3  1.50 2       6.456272           \n",
       "63   1  1.50 2       6.456272           \n",
       "64   8  1.50 2       6.456272           \n",
       "65   7  1.50 2       6.456272           \n",
       "66   4  1.75 2       4.389793           \n",
       "67   3  1.75 2       4.389793           \n",
       "68   2  1.75 2       4.389793           \n",
       "69   8  1.75 2       4.389793           \n",
       "70   4  1.75 2       4.389793           "
      ]
     },
     "metadata": {},
     "output_type": "display_data"
    }
   ],
   "source": [
    "dados=data.frame(y,x,strain,modelo$fitted.values)\n",
    "dados"
   ]
  },
  {
   "cell_type": "code",
   "execution_count": 43,
   "metadata": {},
   "outputs": [
    {
     "data": {},
     "metadata": {},
     "output_type": "display_data"
    },
    {
     "data": {
      "image/png": "[encoded data removed]",
      "text/plain": [
       "plot without title"
      ]
     },
     "metadata": {},
     "output_type": "display_data"
    }
   ],
   "source": [
    "(ggplot(dados)+aes(x,y)+geom_point(aes(color=strain))\n",
    "+geom_smooth(color=\"blue\",method=glm, method.args = list(family = poisson(link=\"log\"))\n",
    "             ,se=F,data=dados[dados$strain==\"1\",])+\n",
    "  geom_smooth(color=\"red\",method=glm, method.args = list(family = poisson(link=\"log\"))\n",
    "              ,se=F,data=dados[dados$strain==\"2\",]))"
   ]
  }
 ],
 "metadata": {
  "kernelspec": {
   "display_name": "R",
   "language": "R",
   "name": "ir"
  },
  "language_info": {
   "codemirror_mode": "r",
   "file_extension": ".r",
   "mimetype": "text/x-r-source",
   "name": "R",
   "pygments_lexer": "r",
   "version": "3.5.1"
  }
 },
 "nbformat": 4,
 "nbformat_minor": 2
}
