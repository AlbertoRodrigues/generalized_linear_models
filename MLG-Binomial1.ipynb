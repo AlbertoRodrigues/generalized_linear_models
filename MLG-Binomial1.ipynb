{
 "cells": [
  {
   "cell_type": "code",
   "execution_count": 2,
   "metadata": {},
   "outputs": [],
   "source": [
    "require(ggplot2)"
   ]
  },
  {
   "cell_type": "code",
   "execution_count": 4,
   "metadata": {},
   "outputs": [
    {
     "data": {
      "text/html": [
       "<table>\n",
       "<thead><tr><th scope=col>dose</th><th scope=col>m</th><th scope=col>y</th><th scope=col>p</th></tr></thead>\n",
       "<tbody>\n",
       "\t<tr><td>10.2     </td><td>50       </td><td>44       </td><td>0.8800000</td></tr>\n",
       "\t<tr><td> 7.7     </td><td>49       </td><td>42       </td><td>0.8571429</td></tr>\n",
       "\t<tr><td> 5.1     </td><td>46       </td><td>24       </td><td>0.5217391</td></tr>\n",
       "\t<tr><td> 3.8     </td><td>48       </td><td>16       </td><td>0.3333333</td></tr>\n",
       "\t<tr><td> 2.6     </td><td>50       </td><td> 6       </td><td>0.1200000</td></tr>\n",
       "\t<tr><td> 0.0     </td><td>49       </td><td> 0       </td><td>0.0000000</td></tr>\n",
       "</tbody>\n",
       "</table>\n"
      ],
      "text/latex": [
       "\\begin{tabular}{llll}\n",
       " dose & m & y & p\\\\\n",
       "\\hline\n",
       "\t 10.2      & 50        & 44        & 0.8800000\\\\\n",
       "\t  7.7      & 49        & 42        & 0.8571429\\\\\n",
       "\t  5.1      & 46        & 24        & 0.5217391\\\\\n",
       "\t  3.8      & 48        & 16        & 0.3333333\\\\\n",
       "\t  2.6      & 50        &  6        & 0.1200000\\\\\n",
       "\t  0.0      & 49        &  0        & 0.0000000\\\\\n",
       "\\end{tabular}\n"
      ],
      "text/markdown": [
       "\n",
       "dose | m | y | p | \n",
       "|---|---|---|---|---|---|\n",
       "| 10.2      | 50        | 44        | 0.8800000 | \n",
       "|  7.7      | 49        | 42        | 0.8571429 | \n",
       "|  5.1      | 46        | 24        | 0.5217391 | \n",
       "|  3.8      | 48        | 16        | 0.3333333 | \n",
       "|  2.6      | 50        |  6        | 0.1200000 | \n",
       "|  0.0      | 49        |  0        | 0.0000000 | \n",
       "\n",
       "\n"
      ],
      "text/plain": [
       "     dose m  y  p        \n",
       "[1,] 10.2 50 44 0.8800000\n",
       "[2,]  7.7 49 42 0.8571429\n",
       "[3,]  5.1 46 24 0.5217391\n",
       "[4,]  3.8 48 16 0.3333333\n",
       "[5,]  2.6 50  6 0.1200000\n",
       "[6,]  0.0 49  0 0.0000000"
      ]
     },
     "metadata": {},
     "output_type": "display_data"
    }
   ],
   "source": [
    "dose=c(10.2,7.7,5.1,3.8,2.6,0)\n",
    "m=c(50,49,46,48,50,49)\n",
    "y=c(44,42,24,16,6,0)\n",
    "p=y/m\n",
    "dados=cbind(dose,m,y,p);dados"
   ]
  },
  {
   "cell_type": "code",
   "execution_count": 5,
   "metadata": {},
   "outputs": [
    {
     "data": {
      "text/html": [
       "<table>\n",
       "<thead><tr><th scope=col>dose</th><th scope=col>m</th><th scope=col>y</th><th scope=col>p</th></tr></thead>\n",
       "<tbody>\n",
       "\t<tr><td>10.2     </td><td>50       </td><td>44       </td><td>0.8800000</td></tr>\n",
       "\t<tr><td> 7.7     </td><td>49       </td><td>42       </td><td>0.8571429</td></tr>\n",
       "\t<tr><td> 5.1     </td><td>46       </td><td>24       </td><td>0.5217391</td></tr>\n",
       "\t<tr><td> 3.8     </td><td>48       </td><td>16       </td><td>0.3333333</td></tr>\n",
       "\t<tr><td> 2.6     </td><td>50       </td><td> 6       </td><td>0.1200000</td></tr>\n",
       "\t<tr><td> 0.0     </td><td>49       </td><td> 0       </td><td>0.0000000</td></tr>\n",
       "</tbody>\n",
       "</table>\n"
      ],
      "text/latex": [
       "\\begin{tabular}{r|llll}\n",
       " dose & m & y & p\\\\\n",
       "\\hline\n",
       "\t 10.2      & 50        & 44        & 0.8800000\\\\\n",
       "\t  7.7      & 49        & 42        & 0.8571429\\\\\n",
       "\t  5.1      & 46        & 24        & 0.5217391\\\\\n",
       "\t  3.8      & 48        & 16        & 0.3333333\\\\\n",
       "\t  2.6      & 50        &  6        & 0.1200000\\\\\n",
       "\t  0.0      & 49        &  0        & 0.0000000\\\\\n",
       "\\end{tabular}\n"
      ],
      "text/markdown": [
       "\n",
       "dose | m | y | p | \n",
       "|---|---|---|---|---|---|\n",
       "| 10.2      | 50        | 44        | 0.8800000 | \n",
       "|  7.7      | 49        | 42        | 0.8571429 | \n",
       "|  5.1      | 46        | 24        | 0.5217391 | \n",
       "|  3.8      | 48        | 16        | 0.3333333 | \n",
       "|  2.6      | 50        |  6        | 0.1200000 | \n",
       "|  0.0      | 49        |  0        | 0.0000000 | \n",
       "\n",
       "\n"
      ],
      "text/plain": [
       "  dose m  y  p        \n",
       "1 10.2 50 44 0.8800000\n",
       "2  7.7 49 42 0.8571429\n",
       "3  5.1 46 24 0.5217391\n",
       "4  3.8 48 16 0.3333333\n",
       "5  2.6 50  6 0.1200000\n",
       "6  0.0 49  0 0.0000000"
      ]
     },
     "metadata": {},
     "output_type": "display_data"
    }
   ],
   "source": [
    "dados=data.frame(dados);dados"
   ]
  },
  {
   "cell_type": "code",
   "execution_count": 6,
   "metadata": {},
   "outputs": [
    {
     "data": {},
     "metadata": {},
     "output_type": "display_data"
    },
    {
     "data": {
      "image/png": "[encoded data removed]",
      "text/plain": [
       "plot without title"
      ]
     },
     "metadata": {},
     "output_type": "display_data"
    }
   ],
   "source": [
    "ggplot(dados)+aes(dose,p)+geom_point()+theme_bw()"
   ]
  },
  {
   "cell_type": "code",
   "execution_count": 8,
   "metadata": {},
   "outputs": [
    {
     "data": {
      "text/html": [
       "<table>\n",
       "<thead><tr><th scope=col>Sucessos</th><th scope=col>Fracassos</th></tr></thead>\n",
       "<tbody>\n",
       "\t<tr><td>44</td><td> 6</td></tr>\n",
       "\t<tr><td>42</td><td> 7</td></tr>\n",
       "\t<tr><td>24</td><td>22</td></tr>\n",
       "\t<tr><td>16</td><td>32</td></tr>\n",
       "\t<tr><td> 6</td><td>44</td></tr>\n",
       "\t<tr><td> 0</td><td>49</td></tr>\n",
       "</tbody>\n",
       "</table>\n"
      ],
      "text/latex": [
       "\\begin{tabular}{ll}\n",
       " Sucessos & Fracassos\\\\\n",
       "\\hline\n",
       "\t 44 &  6\\\\\n",
       "\t 42 &  7\\\\\n",
       "\t 24 & 22\\\\\n",
       "\t 16 & 32\\\\\n",
       "\t  6 & 44\\\\\n",
       "\t  0 & 49\\\\\n",
       "\\end{tabular}\n"
      ],
      "text/markdown": [
       "\n",
       "Sucessos | Fracassos | \n",
       "|---|---|---|---|---|---|\n",
       "| 44 |  6 | \n",
       "| 42 |  7 | \n",
       "| 24 | 22 | \n",
       "| 16 | 32 | \n",
       "|  6 | 44 | \n",
       "|  0 | 49 | \n",
       "\n",
       "\n"
      ],
      "text/plain": [
       "     Sucessos Fracassos\n",
       "[1,] 44        6       \n",
       "[2,] 42        7       \n",
       "[3,] 24       22       \n",
       "[4,] 16       32       \n",
       "[5,]  6       44       \n",
       "[6,]  0       49       "
      ]
     },
     "metadata": {},
     "output_type": "display_data"
    }
   ],
   "source": [
    "resp=cbind(y,m-y)\n",
    "colnames(resp)=c(\"Sucessos\",\"Fracassos\")\n",
    "resp"
   ]
  },
  {
   "cell_type": "code",
   "execution_count": 9,
   "metadata": {},
   "outputs": [
    {
     "data": {
      "text/plain": [
       "\n",
       "Call:  glm(formula = resp ~ dose, family = binomial())\n",
       "\n",
       "Coefficients:\n",
       "(Intercept)         dose  \n",
       "    -3.2257       0.6051  \n",
       "\n",
       "Degrees of Freedom: 5 Total (i.e. Null);  4 Residual\n",
       "Null Deviance:\t    163.7 \n",
       "Residual Deviance: 10.26 \tAIC: 33.48"
      ]
     },
     "metadata": {},
     "output_type": "display_data"
    }
   ],
   "source": [
    "modelo1=glm(resp~dose,family= binomial);modelo1"
   ]
  },
  {
   "cell_type": "code",
   "execution_count": 14,
   "metadata": {},
   "outputs": [
    {
     "data": {
      "text/plain": [
       "\n",
       "Call:\n",
       "glm(formula = resp ~ dose, family = binomial())\n",
       "\n",
       "Deviance Residuals: \n",
       "      1        2        3        4        5        6  \n",
       "-1.9456   0.9145   0.7679   0.7507  -0.8157  -1.9540  \n",
       "\n",
       "Coefficients:\n",
       "            Estimate Std. Error z value Pr(>|z|)    \n",
       "(Intercept) -3.22566    0.36992  -8.720   <2e-16 ***\n",
       "dose         0.60513    0.06781   8.923   <2e-16 ***\n",
       "---\n",
       "Signif. codes:  0 '***' 0.001 '**' 0.01 '*' 0.05 '.' 0.1 ' ' 1\n",
       "\n",
       "(Dispersion parameter for binomial family taken to be 1)\n",
       "\n",
       "    Null deviance: 163.745  on 5  degrees of freedom\n",
       "Residual deviance:  10.258  on 4  degrees of freedom\n",
       "AIC: 33.479\n",
       "\n",
       "Number of Fisher Scoring iterations: 5\n"
      ]
     },
     "metadata": {},
     "output_type": "display_data"
    }
   ],
   "source": [
    "summary(modelo1)"
   ]
  },
  {
   "cell_type": "code",
   "execution_count": 15,
   "metadata": {},
   "outputs": [
    {
     "data": {
      "text/html": [
       "<dl class=dl-horizontal>\n",
       "\t<dt>(Intercept)</dt>\n",
       "\t\t<dd>-3.22566331266368</dd>\n",
       "\t<dt>dose</dt>\n",
       "\t\t<dd>0.605125555674296</dd>\n",
       "</dl>\n"
      ],
      "text/latex": [
       "\\begin{description*}\n",
       "\\item[(Intercept)] -3.22566331266368\n",
       "\\item[dose] 0.605125555674296\n",
       "\\end{description*}\n"
      ],
      "text/markdown": [
       "(Intercept)\n",
       ":   -3.22566331266368dose\n",
       ":   0.605125555674296\n",
       "\n"
      ],
      "text/plain": [
       "(Intercept)        dose \n",
       " -3.2256633   0.6051256 "
      ]
     },
     "metadata": {},
     "output_type": "display_data"
    }
   ],
   "source": [
    "modelo1$coefficients"
   ]
  },
  {
   "cell_type": "code",
   "execution_count": 10,
   "metadata": {},
   "outputs": [
    {
     "data": {
      "text/html": [
       "<dl class=dl-horizontal>\n",
       "\t<dt>1</dt>\n",
       "\t\t<dd>0.950103371489499</dd>\n",
       "\t<dt>2</dt>\n",
       "\t\t<dd>0.8074932481576</dd>\n",
       "\t<dt>3</dt>\n",
       "\t\t<dd>0.465175729689009</dd>\n",
       "\t<dt>4</dt>\n",
       "\t\t<dd>0.283699091776025</dd>\n",
       "\t<dt>5</dt>\n",
       "\t\t<dd>0.160793365273111</dd>\n",
       "\t<dt>6</dt>\n",
       "\t\t<dd>0.0382113067592544</dd>\n",
       "</dl>\n"
      ],
      "text/latex": [
       "\\begin{description*}\n",
       "\\item[1] 0.950103371489499\n",
       "\\item[2] 0.8074932481576\n",
       "\\item[3] 0.465175729689009\n",
       "\\item[4] 0.283699091776025\n",
       "\\item[5] 0.160793365273111\n",
       "\\item[6] 0.0382113067592544\n",
       "\\end{description*}\n"
      ],
      "text/markdown": [
       "1\n",
       ":   0.9501033714894992\n",
       ":   0.80749324815763\n",
       ":   0.4651757296890094\n",
       ":   0.2836990917760255\n",
       ":   0.1607933652731116\n",
       ":   0.0382113067592544\n",
       "\n"
      ],
      "text/plain": [
       "         1          2          3          4          5          6 \n",
       "0.95010337 0.80749325 0.46517573 0.28369909 0.16079337 0.03821131 "
      ]
     },
     "metadata": {},
     "output_type": "display_data"
    }
   ],
   "source": [
    "modelo1$fitted.values"
   ]
  },
  {
   "cell_type": "code",
   "execution_count": 11,
   "metadata": {},
   "outputs": [
    {
     "data": {
      "text/html": [
       "<dl class=dl-horizontal>\n",
       "\t<dt>1</dt>\n",
       "\t\t<dd>47.5051685744749</dd>\n",
       "\t<dt>2</dt>\n",
       "\t\t<dd>39.5671691597224</dd>\n",
       "\t<dt>3</dt>\n",
       "\t\t<dd>21.3980835656944</dd>\n",
       "\t<dt>4</dt>\n",
       "\t\t<dd>13.6175564052492</dd>\n",
       "\t<dt>5</dt>\n",
       "\t\t<dd>8.03966826365553</dd>\n",
       "\t<dt>6</dt>\n",
       "\t\t<dd>1.87235403120347</dd>\n",
       "</dl>\n"
      ],
      "text/latex": [
       "\\begin{description*}\n",
       "\\item[1] 47.5051685744749\n",
       "\\item[2] 39.5671691597224\n",
       "\\item[3] 21.3980835656944\n",
       "\\item[4] 13.6175564052492\n",
       "\\item[5] 8.03966826365553\n",
       "\\item[6] 1.87235403120347\n",
       "\\end{description*}\n"
      ],
      "text/markdown": [
       "1\n",
       ":   47.50516857447492\n",
       ":   39.56716915972243\n",
       ":   21.39808356569444\n",
       ":   13.61755640524925\n",
       ":   8.039668263655536\n",
       ":   1.87235403120347\n",
       "\n"
      ],
      "text/plain": [
       "        1         2         3         4         5         6 \n",
       "47.505169 39.567169 21.398084 13.617556  8.039668  1.872354 "
      ]
     },
     "metadata": {},
     "output_type": "display_data"
    }
   ],
   "source": [
    "modelo1$fitted.values*m"
   ]
  },
  {
   "cell_type": "code",
   "execution_count": 12,
   "metadata": {},
   "outputs": [
    {
     "data": {
      "text/html": [
       "<dl class=dl-horizontal>\n",
       "\t<dt>1</dt>\n",
       "\t\t<dd>2.94661735521414</dd>\n",
       "\t<dt>2</dt>\n",
       "\t\t<dd>1.4338034660284</dd>\n",
       "\t<dt>3</dt>\n",
       "\t\t<dd>-0.139522978724767</dd>\n",
       "\t<dt>4</dt>\n",
       "\t\t<dd>-0.926186201101353</dd>\n",
       "\t<dt>5</dt>\n",
       "\t\t<dd>-1.65233686791051</dd>\n",
       "\t<dt>6</dt>\n",
       "\t\t<dd>-3.22566331266368</dd>\n",
       "</dl>\n"
      ],
      "text/latex": [
       "\\begin{description*}\n",
       "\\item[1] 2.94661735521414\n",
       "\\item[2] 1.4338034660284\n",
       "\\item[3] -0.139522978724767\n",
       "\\item[4] -0.926186201101353\n",
       "\\item[5] -1.65233686791051\n",
       "\\item[6] -3.22566331266368\n",
       "\\end{description*}\n"
      ],
      "text/markdown": [
       "1\n",
       ":   2.946617355214142\n",
       ":   1.43380346602843\n",
       ":   -0.1395229787247674\n",
       ":   -0.9261862011013535\n",
       ":   -1.652336867910516\n",
       ":   -3.22566331266368\n",
       "\n"
      ],
      "text/plain": [
       "         1          2          3          4          5          6 \n",
       " 2.9466174  1.4338035 -0.1395230 -0.9261862 -1.6523369 -3.2256633 "
      ]
     },
     "metadata": {},
     "output_type": "display_data"
    }
   ],
   "source": [
    "modelo1$linear.predictors"
   ]
  },
  {
   "cell_type": "code",
   "execution_count": 16,
   "metadata": {},
   "outputs": [
    {
     "data": {
      "text/html": [
       "<dl class=dl-horizontal>\n",
       "\t<dt>1</dt>\n",
       "\t\t<dd>-1.47875710490713</dd>\n",
       "\t<dt>2</dt>\n",
       "\t\t<dd>0.319397098569165</dd>\n",
       "\t<dt>3</dt>\n",
       "\t\t<dd>0.227356490952749</dd>\n",
       "\t<dt>4</dt>\n",
       "\t\t<dd>0.244246271442723</dd>\n",
       "\t<dt>5</dt>\n",
       "\t\t<dd>-0.302309991268206</dd>\n",
       "\t<dt>6</dt>\n",
       "\t\t<dd>-1.03972941980686</dd>\n",
       "</dl>\n"
      ],
      "text/latex": [
       "\\begin{description*}\n",
       "\\item[1] -1.47875710490713\n",
       "\\item[2] 0.319397098569165\n",
       "\\item[3] 0.227356490952749\n",
       "\\item[4] 0.244246271442723\n",
       "\\item[5] -0.302309991268206\n",
       "\\item[6] -1.03972941980686\n",
       "\\end{description*}\n"
      ],
      "text/markdown": [
       "1\n",
       ":   -1.478757104907132\n",
       ":   0.3193970985691653\n",
       ":   0.2273564909527494\n",
       ":   0.2442462714427235\n",
       ":   -0.3023099912682066\n",
       ":   -1.03972941980686\n",
       "\n"
      ],
      "text/plain": [
       "         1          2          3          4          5          6 \n",
       "-1.4787571  0.3193971  0.2273565  0.2442463 -0.3023100 -1.0397294 "
      ]
     },
     "metadata": {},
     "output_type": "display_data"
    }
   ],
   "source": [
    "modelo1$residuals"
   ]
  },
  {
   "cell_type": "code",
   "execution_count": 18,
   "metadata": {},
   "outputs": [
    {
     "data": {
      "text/html": [
       "<table>\n",
       "<thead><tr><th></th><th scope=col>p</th><th scope=col></th></tr></thead>\n",
       "<tbody>\n",
       "\t<tr><th scope=row>1</th><td>0.8800000 </td><td>0.95010337</td></tr>\n",
       "\t<tr><th scope=row>2</th><td>0.8571429 </td><td>0.80749325</td></tr>\n",
       "\t<tr><th scope=row>3</th><td>0.5217391 </td><td>0.46517573</td></tr>\n",
       "\t<tr><th scope=row>4</th><td>0.3333333 </td><td>0.28369909</td></tr>\n",
       "\t<tr><th scope=row>5</th><td>0.1200000 </td><td>0.16079337</td></tr>\n",
       "\t<tr><th scope=row>6</th><td>0.0000000 </td><td>0.03821131</td></tr>\n",
       "</tbody>\n",
       "</table>\n"
      ],
      "text/latex": [
       "\\begin{tabular}{r|ll}\n",
       "  & p & \\\\\n",
       "\\hline\n",
       "\t1 & 0.8800000  & 0.95010337\\\\\n",
       "\t2 & 0.8571429  & 0.80749325\\\\\n",
       "\t3 & 0.5217391  & 0.46517573\\\\\n",
       "\t4 & 0.3333333  & 0.28369909\\\\\n",
       "\t5 & 0.1200000  & 0.16079337\\\\\n",
       "\t6 & 0.0000000  & 0.03821131\\\\\n",
       "\\end{tabular}\n"
      ],
      "text/markdown": [
       "\n",
       "| <!--/--> | p |  | \n",
       "|---|---|---|---|---|---|\n",
       "| 1 | 0.8800000  | 0.95010337 | \n",
       "| 2 | 0.8571429  | 0.80749325 | \n",
       "| 3 | 0.5217391  | 0.46517573 | \n",
       "| 4 | 0.3333333  | 0.28369909 | \n",
       "| 5 | 0.1200000  | 0.16079337 | \n",
       "| 6 | 0.0000000  | 0.03821131 | \n",
       "\n",
       "\n"
      ],
      "text/plain": [
       "  p                   \n",
       "1 0.8800000 0.95010337\n",
       "2 0.8571429 0.80749325\n",
       "3 0.5217391 0.46517573\n",
       "4 0.3333333 0.28369909\n",
       "5 0.1200000 0.16079337\n",
       "6 0.0000000 0.03821131"
      ]
     },
     "metadata": {},
     "output_type": "display_data"
    }
   ],
   "source": [
    "cbind(p,modelo1$fitted.values)"
   ]
  },
  {
   "cell_type": "code",
   "execution_count": 20,
   "metadata": {},
   "outputs": [
    {
     "name": "stderr",
     "output_type": "stream",
     "text": [
      "Warning message in eval(family$initialize):\n",
      "\"non-integer #successes in a binomial glm!\""
     ]
    },
    {
     "data": {},
     "metadata": {},
     "output_type": "display_data"
    },
    {
     "data": {
      "image/png": "[encoded data removed]",
      "text/plain": [
       "plot without title"
      ]
     },
     "metadata": {},
     "output_type": "display_data"
    }
   ],
   "source": [
    "ggplot(dados)+aes(dose,p)+geom_point()+geom_smooth(method=glm, method.args = list(family = binomial(link=\"logit\")),se=F)"
   ]
  },
  {
   "cell_type": "code",
   "execution_count": 21,
   "metadata": {},
   "outputs": [
    {
     "data": {},
     "metadata": {},
     "output_type": "display_data"
    },
    {
     "data": {
      "image/png": "[encoded data removed]",
      "text/plain": [
       "plot without title"
      ]
     },
     "metadata": {},
     "output_type": "display_data"
    }
   ],
   "source": [
    "ggplot(dados)+aes(dose,log(p/(1-p)))+geom_point()+theme_bw()"
   ]
  },
  {
   "cell_type": "code",
   "execution_count": 23,
   "metadata": {},
   "outputs": [
    {
     "data": {},
     "metadata": {},
     "output_type": "display_data"
    },
    {
     "data": {
      "image/png": "[encoded data removed]",
      "text/plain": [
       "plot without title"
      ]
     },
     "metadata": {},
     "output_type": "display_data"
    }
   ],
   "source": [
    "ggplot(dados)+aes(dose,modelo1$linear.predictors)+geom_point()+theme_bw()"
   ]
  },
  {
   "cell_type": "code",
   "execution_count": 24,
   "metadata": {},
   "outputs": [
    {
     "data": {
      "text/plain": [
       "\n",
       "Call:  glm(formula = resp ~ dose, family = binomial(link = \"probit\"))\n",
       "\n",
       "Coefficients:\n",
       "(Intercept)         dose  \n",
       "    -1.8778       0.3455  \n",
       "\n",
       "Degrees of Freedom: 5 Total (i.e. Null);  4 Residual\n",
       "Null Deviance:\t    163.7 \n",
       "Residual Deviance: 10.66 \tAIC: 33.88"
      ]
     },
     "metadata": {},
     "output_type": "display_data"
    }
   ],
   "source": [
    "modelo2=glm(resp~dose,family= binomial(link=\"probit\"));modelo2"
   ]
  },
  {
   "cell_type": "code",
   "execution_count": 29,
   "metadata": {},
   "outputs": [
    {
     "data": {
      "text/plain": [
       "\n",
       "Call:\n",
       "glm(formula = resp ~ dose, family = binomial(link = \"probit\"))\n",
       "\n",
       "Deviance Residuals: \n",
       "      1        2        3        4        5        6  \n",
       "-1.9488   1.3194   0.9202   0.7128  -0.8693  -1.7338  \n",
       "\n",
       "Coefficients:\n",
       "            Estimate Std. Error z value Pr(>|z|)    \n",
       "(Intercept) -1.87775    0.19485  -9.637   <2e-16 ***\n",
       "dose         0.34553    0.03436  10.055   <2e-16 ***\n",
       "---\n",
       "Signif. codes:  0 '***' 0.001 '**' 0.01 '*' 0.05 '.' 0.1 ' ' 1\n",
       "\n",
       "(Dispersion parameter for binomial family taken to be 1)\n",
       "\n",
       "    Null deviance: 163.745  on 5  degrees of freedom\n",
       "Residual deviance:  10.655  on 4  degrees of freedom\n",
       "AIC: 33.876\n",
       "\n",
       "Number of Fisher Scoring iterations: 5\n"
      ]
     },
     "metadata": {},
     "output_type": "display_data"
    }
   ],
   "source": [
    "summary(modelo2)"
   ]
  },
  {
   "cell_type": "code",
   "execution_count": 30,
   "metadata": {},
   "outputs": [
    {
     "data": {
      "text/html": [
       "<dl class=dl-horizontal>\n",
       "\t<dt>(Intercept)</dt>\n",
       "\t\t<dd>-1.87775327514291</dd>\n",
       "\t<dt>dose</dt>\n",
       "\t\t<dd>0.345533094871417</dd>\n",
       "</dl>\n"
      ],
      "text/latex": [
       "\\begin{description*}\n",
       "\\item[(Intercept)] -1.87775327514291\n",
       "\\item[dose] 0.345533094871417\n",
       "\\end{description*}\n"
      ],
      "text/markdown": [
       "(Intercept)\n",
       ":   -1.87775327514291dose\n",
       ":   0.345533094871417\n",
       "\n"
      ],
      "text/plain": [
       "(Intercept)        dose \n",
       " -1.8777533   0.3455331 "
      ]
     },
     "metadata": {},
     "output_type": "display_data"
    }
   ],
   "source": [
    "modelo2$coefficients"
   ]
  },
  {
   "cell_type": "code",
   "execution_count": 26,
   "metadata": {},
   "outputs": [
    {
     "data": {
      "text/html": [
       "<dl class=dl-horizontal>\n",
       "\t<dt>1</dt>\n",
       "\t\t<dd>0.950188522782802</dd>\n",
       "\t<dt>2</dt>\n",
       "\t\t<dd>0.783142855747648</dd>\n",
       "\t<dt>3</dt>\n",
       "\t\t<dd>0.454010741704325</dd>\n",
       "\t<dt>4</dt>\n",
       "\t\t<dd>0.286129558211584</dd>\n",
       "\t<dt>5</dt>\n",
       "\t\t<dd>0.163699281767469</dd>\n",
       "\t<dt>6</dt>\n",
       "\t\t<dd>0.0302074624663501</dd>\n",
       "</dl>\n"
      ],
      "text/latex": [
       "\\begin{description*}\n",
       "\\item[1] 0.950188522782802\n",
       "\\item[2] 0.783142855747648\n",
       "\\item[3] 0.454010741704325\n",
       "\\item[4] 0.286129558211584\n",
       "\\item[5] 0.163699281767469\n",
       "\\item[6] 0.0302074624663501\n",
       "\\end{description*}\n"
      ],
      "text/markdown": [
       "1\n",
       ":   0.9501885227828022\n",
       ":   0.7831428557476483\n",
       ":   0.4540107417043254\n",
       ":   0.2861295582115845\n",
       ":   0.1636992817674696\n",
       ":   0.0302074624663501\n",
       "\n"
      ],
      "text/plain": [
       "         1          2          3          4          5          6 \n",
       "0.95018852 0.78314286 0.45401074 0.28612956 0.16369928 0.03020746 "
      ]
     },
     "metadata": {},
     "output_type": "display_data"
    }
   ],
   "source": [
    "modelo2$fitted.values"
   ]
  },
  {
   "cell_type": "code",
   "execution_count": 27,
   "metadata": {},
   "outputs": [
    {
     "data": {
      "text/html": [
       "<dl class=dl-horizontal>\n",
       "\t<dt>1</dt>\n",
       "\t\t<dd>47.5094261391401</dd>\n",
       "\t<dt>2</dt>\n",
       "\t\t<dd>38.3739999316347</dd>\n",
       "\t<dt>3</dt>\n",
       "\t\t<dd>20.8844941183989</dd>\n",
       "\t<dt>4</dt>\n",
       "\t\t<dd>13.734218794156</dd>\n",
       "\t<dt>5</dt>\n",
       "\t\t<dd>8.18496408837346</dd>\n",
       "\t<dt>6</dt>\n",
       "\t\t<dd>1.48016566085115</dd>\n",
       "</dl>\n"
      ],
      "text/latex": [
       "\\begin{description*}\n",
       "\\item[1] 47.5094261391401\n",
       "\\item[2] 38.3739999316347\n",
       "\\item[3] 20.8844941183989\n",
       "\\item[4] 13.734218794156\n",
       "\\item[5] 8.18496408837346\n",
       "\\item[6] 1.48016566085115\n",
       "\\end{description*}\n"
      ],
      "text/markdown": [
       "1\n",
       ":   47.50942613914012\n",
       ":   38.37399993163473\n",
       ":   20.88449411839894\n",
       ":   13.7342187941565\n",
       ":   8.184964088373466\n",
       ":   1.48016566085115\n",
       "\n"
      ],
      "text/plain": [
       "        1         2         3         4         5         6 \n",
       "47.509426 38.374000 20.884494 13.734219  8.184964  1.480166 "
      ]
     },
     "metadata": {},
     "output_type": "display_data"
    }
   ],
   "source": [
    "modelo2$fitted.values*m"
   ]
  },
  {
   "cell_type": "code",
   "execution_count": 28,
   "metadata": {},
   "outputs": [
    {
     "data": {
      "text/html": [
       "<dl class=dl-horizontal>\n",
       "\t<dt>1</dt>\n",
       "\t\t<dd>1.64668429254555</dd>\n",
       "\t<dt>2</dt>\n",
       "\t\t<dd>0.782851555367004</dd>\n",
       "\t<dt>3</dt>\n",
       "\t\t<dd>-0.11553449129868</dd>\n",
       "\t<dt>4</dt>\n",
       "\t\t<dd>-0.564727514631522</dd>\n",
       "\t<dt>5</dt>\n",
       "\t\t<dd>-0.979367228477222</dd>\n",
       "\t<dt>6</dt>\n",
       "\t\t<dd>-1.87775327514291</dd>\n",
       "</dl>\n"
      ],
      "text/latex": [
       "\\begin{description*}\n",
       "\\item[1] 1.64668429254555\n",
       "\\item[2] 0.782851555367004\n",
       "\\item[3] -0.11553449129868\n",
       "\\item[4] -0.564727514631522\n",
       "\\item[5] -0.979367228477222\n",
       "\\item[6] -1.87775327514291\n",
       "\\end{description*}\n"
      ],
      "text/markdown": [
       "1\n",
       ":   1.646684292545552\n",
       ":   0.7828515553670043\n",
       ":   -0.115534491298684\n",
       ":   -0.5647275146315225\n",
       ":   -0.9793672284772226\n",
       ":   -1.87775327514291\n",
       "\n"
      ],
      "text/plain": [
       "         1          2          3          4          5          6 \n",
       " 1.6466843  0.7828516 -0.1155345 -0.5647275 -0.9793672 -1.8777533 "
      ]
     },
     "metadata": {},
     "output_type": "display_data"
    }
   ],
   "source": [
    "modelo2$linear.predictors"
   ]
  },
  {
   "cell_type": "code",
   "execution_count": 31,
   "metadata": {},
   "outputs": [
    {
     "data": {
      "text/html": [
       "<dl class=dl-horizontal>\n",
       "\t<dt>1</dt>\n",
       "\t\t<dd>-0.682599236125301</dd>\n",
       "\t<dt>2</dt>\n",
       "\t\t<dd>0.252000714829725</dd>\n",
       "\t<dt>3</dt>\n",
       "\t\t<dd>0.170906746541872</dd>\n",
       "\t<dt>4</dt>\n",
       "\t\t<dd>0.138777368951874</dd>\n",
       "\t<dt>5</dt>\n",
       "\t\t<dd>-0.176947005493452</dd>\n",
       "\t<dt>6</dt>\n",
       "\t\t<dd>-0.441424152271383</dd>\n",
       "</dl>\n"
      ],
      "text/latex": [
       "\\begin{description*}\n",
       "\\item[1] -0.682599236125301\n",
       "\\item[2] 0.252000714829725\n",
       "\\item[3] 0.170906746541872\n",
       "\\item[4] 0.138777368951874\n",
       "\\item[5] -0.176947005493452\n",
       "\\item[6] -0.441424152271383\n",
       "\\end{description*}\n"
      ],
      "text/markdown": [
       "1\n",
       ":   -0.6825992361253012\n",
       ":   0.2520007148297253\n",
       ":   0.1709067465418724\n",
       ":   0.1387773689518745\n",
       ":   -0.1769470054934526\n",
       ":   -0.441424152271383\n",
       "\n"
      ],
      "text/plain": [
       "         1          2          3          4          5          6 \n",
       "-0.6825992  0.2520007  0.1709067  0.1387774 -0.1769470 -0.4414242 "
      ]
     },
     "metadata": {},
     "output_type": "display_data"
    }
   ],
   "source": [
    "modelo2$residuals"
   ]
  },
  {
   "cell_type": "code",
   "execution_count": 32,
   "metadata": {},
   "outputs": [
    {
     "data": {
      "text/html": [
       "<table>\n",
       "<thead><tr><th></th><th scope=col>p</th><th scope=col></th></tr></thead>\n",
       "<tbody>\n",
       "\t<tr><th scope=row>1</th><td>0.8800000 </td><td>0.95018852</td></tr>\n",
       "\t<tr><th scope=row>2</th><td>0.8571429 </td><td>0.78314286</td></tr>\n",
       "\t<tr><th scope=row>3</th><td>0.5217391 </td><td>0.45401074</td></tr>\n",
       "\t<tr><th scope=row>4</th><td>0.3333333 </td><td>0.28612956</td></tr>\n",
       "\t<tr><th scope=row>5</th><td>0.1200000 </td><td>0.16369928</td></tr>\n",
       "\t<tr><th scope=row>6</th><td>0.0000000 </td><td>0.03020746</td></tr>\n",
       "</tbody>\n",
       "</table>\n"
      ],
      "text/latex": [
       "\\begin{tabular}{r|ll}\n",
       "  & p & \\\\\n",
       "\\hline\n",
       "\t1 & 0.8800000  & 0.95018852\\\\\n",
       "\t2 & 0.8571429  & 0.78314286\\\\\n",
       "\t3 & 0.5217391  & 0.45401074\\\\\n",
       "\t4 & 0.3333333  & 0.28612956\\\\\n",
       "\t5 & 0.1200000  & 0.16369928\\\\\n",
       "\t6 & 0.0000000  & 0.03020746\\\\\n",
       "\\end{tabular}\n"
      ],
      "text/markdown": [
       "\n",
       "| <!--/--> | p |  | \n",
       "|---|---|---|---|---|---|\n",
       "| 1 | 0.8800000  | 0.95018852 | \n",
       "| 2 | 0.8571429  | 0.78314286 | \n",
       "| 3 | 0.5217391  | 0.45401074 | \n",
       "| 4 | 0.3333333  | 0.28612956 | \n",
       "| 5 | 0.1200000  | 0.16369928 | \n",
       "| 6 | 0.0000000  | 0.03020746 | \n",
       "\n",
       "\n"
      ],
      "text/plain": [
       "  p                   \n",
       "1 0.8800000 0.95018852\n",
       "2 0.8571429 0.78314286\n",
       "3 0.5217391 0.45401074\n",
       "4 0.3333333 0.28612956\n",
       "5 0.1200000 0.16369928\n",
       "6 0.0000000 0.03020746"
      ]
     },
     "metadata": {},
     "output_type": "display_data"
    }
   ],
   "source": [
    "cbind(p,modelo2$fitted.values)"
   ]
  },
  {
   "cell_type": "code",
   "execution_count": 45,
   "metadata": {},
   "outputs": [
    {
     "name": "stderr",
     "output_type": "stream",
     "text": [
      "Warning message in eval(family$initialize):\n",
      "\"non-integer #successes in a binomial glm!\""
     ]
    },
    {
     "data": {},
     "metadata": {},
     "output_type": "display_data"
    },
    {
     "data": {
      "image/png": "[encoded data removed]",
      "text/plain": [
       "plot without title"
      ]
     },
     "metadata": {},
     "output_type": "display_data"
    }
   ],
   "source": [
    "ggplot(dados)+aes(dose,p)+geom_point()+geom_smooth(method=glm, method.args = list(family = binomial(link=\"probit\")),se=F)"
   ]
  },
  {
   "cell_type": "code",
   "execution_count": 46,
   "metadata": {},
   "outputs": [
    {
     "data": {},
     "metadata": {},
     "output_type": "display_data"
    },
    {
     "data": {
      "image/png": "[encoded data removed]",
      "text/plain": [
       "plot without title"
      ]
     },
     "metadata": {},
     "output_type": "display_data"
    }
   ],
   "source": [
    "ggplot(dados)+aes(dose,modelo2$linear.predictors)+geom_point()+theme_bw()"
   ]
  },
  {
   "cell_type": "code",
   "execution_count": 33,
   "metadata": {},
   "outputs": [
    {
     "data": {
      "text/plain": [
       "\n",
       "Call:  glm(formula = resp ~ dose, family = binomial(link = \"cloglog\"))\n",
       "\n",
       "Coefficients:\n",
       "(Intercept)         dose  \n",
       "    -2.3973       0.3449  \n",
       "\n",
       "Degrees of Freedom: 5 Total (i.e. Null);  4 Residual\n",
       "Null Deviance:\t    163.7 \n",
       "Residual Deviance: 23.12 \tAIC: 46.34"
      ]
     },
     "metadata": {},
     "output_type": "display_data"
    }
   ],
   "source": [
    "modelo3=glm(resp~dose,family= binomial(link=\"cloglog\"));modelo3"
   ]
  },
  {
   "cell_type": "code",
   "execution_count": 34,
   "metadata": {},
   "outputs": [
    {
     "data": {
      "text/plain": [
       "\n",
       "Call:\n",
       "glm(formula = resp ~ dose, family = binomial(link = \"cloglog\"))\n",
       "\n",
       "Deviance Residuals: \n",
       "     1       2       3       4       5       6  \n",
       "-2.074   2.198   1.522   0.710  -1.500  -2.986  \n",
       "\n",
       "Coefficients:\n",
       "            Estimate Std. Error z value Pr(>|z|)    \n",
       "(Intercept) -2.39735    0.24515  -9.779   <2e-16 ***\n",
       "dose         0.34488    0.03481   9.908   <2e-16 ***\n",
       "---\n",
       "Signif. codes:  0 '***' 0.001 '**' 0.01 '*' 0.05 '.' 0.1 ' ' 1\n",
       "\n",
       "(Dispersion parameter for binomial family taken to be 1)\n",
       "\n",
       "    Null deviance: 163.745  on 5  degrees of freedom\n",
       "Residual deviance:  23.119  on 4  degrees of freedom\n",
       "AIC: 46.339\n",
       "\n",
       "Number of Fisher Scoring iterations: 7\n"
      ]
     },
     "metadata": {},
     "output_type": "display_data"
    }
   ],
   "source": [
    "summary(modelo3)"
   ]
  },
  {
   "cell_type": "code",
   "execution_count": 38,
   "metadata": {},
   "outputs": [
    {
     "data": {
      "text/html": [
       "<dl class=dl-horizontal>\n",
       "\t<dt>(Intercept)</dt>\n",
       "\t\t<dd>-2.39734719036855</dd>\n",
       "\t<dt>dose</dt>\n",
       "\t\t<dd>0.344883878570611</dd>\n",
       "</dl>\n"
      ],
      "text/latex": [
       "\\begin{description*}\n",
       "\\item[(Intercept)] -2.39734719036855\n",
       "\\item[dose] 0.344883878570611\n",
       "\\end{description*}\n"
      ],
      "text/markdown": [
       "(Intercept)\n",
       ":   -2.39734719036855dose\n",
       ":   0.344883878570611\n",
       "\n"
      ],
      "text/plain": [
       "(Intercept)        dose \n",
       " -2.3973472   0.3448839 "
      ]
     },
     "metadata": {},
     "output_type": "display_data"
    }
   ],
   "source": [
    "modelo3$coefficients"
   ]
  },
  {
   "cell_type": "code",
   "execution_count": 35,
   "metadata": {},
   "outputs": [
    {
     "data": {
      "text/html": [
       "<dl class=dl-horizontal>\n",
       "\t<dt>1</dt>\n",
       "\t\t<dd>0.953406304117936</dd>\n",
       "\t<dt>2</dt>\n",
       "\t\t<dd>0.726012741237065</dd>\n",
       "\t<dt>3</dt>\n",
       "\t\t<dd>0.41028502612436</dd>\n",
       "\t<dt>4</dt>\n",
       "\t\t<dd>0.286303876743523</dd>\n",
       "\t<dt>5</dt>\n",
       "\t\t<dd>0.199873446540032</dd>\n",
       "\t<dt>6</dt>\n",
       "\t\t<dd>0.0869447909136548</dd>\n",
       "</dl>\n"
      ],
      "text/latex": [
       "\\begin{description*}\n",
       "\\item[1] 0.953406304117936\n",
       "\\item[2] 0.726012741237065\n",
       "\\item[3] 0.41028502612436\n",
       "\\item[4] 0.286303876743523\n",
       "\\item[5] 0.199873446540032\n",
       "\\item[6] 0.0869447909136548\n",
       "\\end{description*}\n"
      ],
      "text/markdown": [
       "1\n",
       ":   0.9534063041179362\n",
       ":   0.7260127412370653\n",
       ":   0.410285026124364\n",
       ":   0.2863038767435235\n",
       ":   0.1998734465400326\n",
       ":   0.0869447909136548\n",
       "\n"
      ],
      "text/plain": [
       "         1          2          3          4          5          6 \n",
       "0.95340630 0.72601274 0.41028503 0.28630388 0.19987345 0.08694479 "
      ]
     },
     "metadata": {},
     "output_type": "display_data"
    }
   ],
   "source": [
    "modelo3$fitted.values"
   ]
  },
  {
   "cell_type": "code",
   "execution_count": 36,
   "metadata": {},
   "outputs": [
    {
     "data": {
      "text/html": [
       "<dl class=dl-horizontal>\n",
       "\t<dt>1</dt>\n",
       "\t\t<dd>47.6703152058968</dd>\n",
       "\t<dt>2</dt>\n",
       "\t\t<dd>35.5746243206162</dd>\n",
       "\t<dt>3</dt>\n",
       "\t\t<dd>18.8731112017206</dd>\n",
       "\t<dt>4</dt>\n",
       "\t\t<dd>13.7425860836891</dd>\n",
       "\t<dt>5</dt>\n",
       "\t\t<dd>9.99367232700158</dd>\n",
       "\t<dt>6</dt>\n",
       "\t\t<dd>4.26029475476908</dd>\n",
       "</dl>\n"
      ],
      "text/latex": [
       "\\begin{description*}\n",
       "\\item[1] 47.6703152058968\n",
       "\\item[2] 35.5746243206162\n",
       "\\item[3] 18.8731112017206\n",
       "\\item[4] 13.7425860836891\n",
       "\\item[5] 9.99367232700158\n",
       "\\item[6] 4.26029475476908\n",
       "\\end{description*}\n"
      ],
      "text/markdown": [
       "1\n",
       ":   47.67031520589682\n",
       ":   35.57462432061623\n",
       ":   18.87311120172064\n",
       ":   13.74258608368915\n",
       ":   9.993672327001586\n",
       ":   4.26029475476908\n",
       "\n"
      ],
      "text/plain": [
       "        1         2         3         4         5         6 \n",
       "47.670315 35.574624 18.873111 13.742586  9.993672  4.260295 "
      ]
     },
     "metadata": {},
     "output_type": "display_data"
    }
   ],
   "source": [
    "modelo3$fitted.values*m"
   ]
  },
  {
   "cell_type": "code",
   "execution_count": 37,
   "metadata": {},
   "outputs": [
    {
     "data": {
      "text/html": [
       "<dl class=dl-horizontal>\n",
       "\t<dt>1</dt>\n",
       "\t\t<dd>1.12046837105168</dd>\n",
       "\t<dt>2</dt>\n",
       "\t\t<dd>0.258258674625154</dd>\n",
       "\t<dt>3</dt>\n",
       "\t\t<dd>-0.638439409658435</dd>\n",
       "\t<dt>4</dt>\n",
       "\t\t<dd>-1.08678845180023</dd>\n",
       "\t<dt>5</dt>\n",
       "\t\t<dd>-1.50064910608496</dd>\n",
       "\t<dt>6</dt>\n",
       "\t\t<dd>-2.39734719036855</dd>\n",
       "</dl>\n"
      ],
      "text/latex": [
       "\\begin{description*}\n",
       "\\item[1] 1.12046837105168\n",
       "\\item[2] 0.258258674625154\n",
       "\\item[3] -0.638439409658435\n",
       "\\item[4] -1.08678845180023\n",
       "\\item[5] -1.50064910608496\n",
       "\\item[6] -2.39734719036855\n",
       "\\end{description*}\n"
      ],
      "text/markdown": [
       "1\n",
       ":   1.120468371051682\n",
       ":   0.2582586746251543\n",
       ":   -0.6384394096584354\n",
       ":   -1.086788451800235\n",
       ":   -1.500649106084966\n",
       ":   -2.39734719036855\n",
       "\n"
      ],
      "text/plain": [
       "         1          2          3          4          5          6 \n",
       " 1.1204684  0.2582587 -0.6384394 -1.0867885 -1.5006491 -2.3973472 "
      ]
     },
     "metadata": {},
     "output_type": "display_data"
    }
   ],
   "source": [
    "modelo3$linear.predictors"
   ]
  },
  {
   "cell_type": "code",
   "execution_count": 39,
   "metadata": {},
   "outputs": [
    {
     "data": {
      "text/html": [
       "<dl class=dl-horizontal>\n",
       "\t<dt>1</dt>\n",
       "\t\t<dd>-0.513798659946064</dd>\n",
       "\t<dt>2</dt>\n",
       "\t\t<dd>0.3696679171313</dd>\n",
       "\t<dt>3</dt>\n",
       "\t\t<dd>0.357869447899985</dd>\n",
       "\t<dt>4</dt>\n",
       "\t\t<dd>0.195363240599811</dd>\n",
       "\t<dt>5</dt>\n",
       "\t\t<dd>-0.447679664454373</dd>\n",
       "\t<dt>6</dt>\n",
       "\t\t<dd>-1.04689032177258</dd>\n",
       "</dl>\n"
      ],
      "text/latex": [
       "\\begin{description*}\n",
       "\\item[1] -0.513798659946064\n",
       "\\item[2] 0.3696679171313\n",
       "\\item[3] 0.357869447899985\n",
       "\\item[4] 0.195363240599811\n",
       "\\item[5] -0.447679664454373\n",
       "\\item[6] -1.04689032177258\n",
       "\\end{description*}\n"
      ],
      "text/markdown": [
       "1\n",
       ":   -0.5137986599460642\n",
       ":   0.36966791713133\n",
       ":   0.3578694478999854\n",
       ":   0.1953632405998115\n",
       ":   -0.4476796644543736\n",
       ":   -1.04689032177258\n",
       "\n"
      ],
      "text/plain": [
       "         1          2          3          4          5          6 \n",
       "-0.5137987  0.3696679  0.3578694  0.1953632 -0.4476797 -1.0468903 "
      ]
     },
     "metadata": {},
     "output_type": "display_data"
    }
   ],
   "source": [
    "modelo3$residuals"
   ]
  },
  {
   "cell_type": "code",
   "execution_count": 40,
   "metadata": {},
   "outputs": [
    {
     "data": {
      "text/html": [
       "<table>\n",
       "<thead><tr><th></th><th scope=col>p</th><th scope=col></th></tr></thead>\n",
       "<tbody>\n",
       "\t<tr><th scope=row>1</th><td>0.8800000 </td><td>0.95340630</td></tr>\n",
       "\t<tr><th scope=row>2</th><td>0.8571429 </td><td>0.72601274</td></tr>\n",
       "\t<tr><th scope=row>3</th><td>0.5217391 </td><td>0.41028503</td></tr>\n",
       "\t<tr><th scope=row>4</th><td>0.3333333 </td><td>0.28630388</td></tr>\n",
       "\t<tr><th scope=row>5</th><td>0.1200000 </td><td>0.19987345</td></tr>\n",
       "\t<tr><th scope=row>6</th><td>0.0000000 </td><td>0.08694479</td></tr>\n",
       "</tbody>\n",
       "</table>\n"
      ],
      "text/latex": [
       "\\begin{tabular}{r|ll}\n",
       "  & p & \\\\\n",
       "\\hline\n",
       "\t1 & 0.8800000  & 0.95340630\\\\\n",
       "\t2 & 0.8571429  & 0.72601274\\\\\n",
       "\t3 & 0.5217391  & 0.41028503\\\\\n",
       "\t4 & 0.3333333  & 0.28630388\\\\\n",
       "\t5 & 0.1200000  & 0.19987345\\\\\n",
       "\t6 & 0.0000000  & 0.08694479\\\\\n",
       "\\end{tabular}\n"
      ],
      "text/markdown": [
       "\n",
       "| <!--/--> | p |  | \n",
       "|---|---|---|---|---|---|\n",
       "| 1 | 0.8800000  | 0.95340630 | \n",
       "| 2 | 0.8571429  | 0.72601274 | \n",
       "| 3 | 0.5217391  | 0.41028503 | \n",
       "| 4 | 0.3333333  | 0.28630388 | \n",
       "| 5 | 0.1200000  | 0.19987345 | \n",
       "| 6 | 0.0000000  | 0.08694479 | \n",
       "\n",
       "\n"
      ],
      "text/plain": [
       "  p                   \n",
       "1 0.8800000 0.95340630\n",
       "2 0.8571429 0.72601274\n",
       "3 0.5217391 0.41028503\n",
       "4 0.3333333 0.28630388\n",
       "5 0.1200000 0.19987345\n",
       "6 0.0000000 0.08694479"
      ]
     },
     "metadata": {},
     "output_type": "display_data"
    }
   ],
   "source": [
    "cbind(p,modelo3$fitted.values)"
   ]
  },
  {
   "cell_type": "code",
   "execution_count": 47,
   "metadata": {},
   "outputs": [
    {
     "name": "stderr",
     "output_type": "stream",
     "text": [
      "Warning message in eval(family$initialize):\n",
      "\"non-integer #successes in a binomial glm!\""
     ]
    },
    {
     "data": {},
     "metadata": {},
     "output_type": "display_data"
    },
    {
     "data": {
      "image/png": "[encoded data removed]",
      "text/plain": [
       "plot without title"
      ]
     },
     "metadata": {},
     "output_type": "display_data"
    }
   ],
   "source": [
    "ggplot(dados)+aes(dose,p)+geom_point()+geom_smooth(method=glm, method.args = list(family = binomial(link=\"cloglog\")),se=F)"
   ]
  },
  {
   "cell_type": "code",
   "execution_count": 48,
   "metadata": {},
   "outputs": [
    {
     "data": {},
     "metadata": {},
     "output_type": "display_data"
    },
    {
     "data": {
      "image/png": "[encoded data removed]",
      "text/plain": [
       "plot without title"
      ]
     },
     "metadata": {},
     "output_type": "display_data"
    }
   ],
   "source": [
    "ggplot(dados)+aes(dose,modelo3$linear.predictors)+geom_point()+theme_bw()"
   ]
  },
  {
   "cell_type": "code",
   "execution_count": 41,
   "metadata": {},
   "outputs": [
    {
     "name": "stderr",
     "output_type": "stream",
     "text": [
      "Loading required package: MASS\n"
     ]
    }
   ],
   "source": [
    "require(MASS)"
   ]
  },
  {
   "cell_type": "code",
   "execution_count": 50,
   "metadata": {},
   "outputs": [
    {
     "data": {
      "text/html": [
       "<table>\n",
       "<thead><tr><th></th><th scope=col>p = 0.5:</th></tr></thead>\n",
       "<tbody>\n",
       "\t<tr><th scope=row>Modelo Binomial-Logit</th><td>5.330569</td></tr>\n",
       "\t<tr><th scope=row>Modelo Binomial-Probit</th><td>5.434366</td></tr>\n",
       "\t<tr><th scope=row>Modelo Binomial-cloglog</th><td>5.888458</td></tr>\n",
       "</tbody>\n",
       "</table>\n"
      ],
      "text/latex": [
       "\\begin{tabular}{r|l}\n",
       "  & p = 0.5:\\\\\n",
       "\\hline\n",
       "\tModelo Binomial-Logit & 5.330569\\\\\n",
       "\tModelo Binomial-Probit & 5.434366\\\\\n",
       "\tModelo Binomial-cloglog & 5.888458\\\\\n",
       "\\end{tabular}\n"
      ],
      "text/markdown": [
       "\n",
       "| <!--/--> | p = 0.5: | \n",
       "|---|---|---|\n",
       "| Modelo Binomial-Logit | 5.330569 | \n",
       "| Modelo Binomial-Probit | 5.434366 | \n",
       "| Modelo Binomial-cloglog | 5.888458 | \n",
       "\n",
       "\n"
      ],
      "text/plain": [
       "                        p = 0.5:\n",
       "Modelo Binomial-Logit   5.330569\n",
       "Modelo Binomial-Probit  5.434366\n",
       "Modelo Binomial-cloglog 5.888458"
      ]
     },
     "metadata": {},
     "output_type": "display_data"
    }
   ],
   "source": [
    "x=rbind(dose.p(modelo1,cf=1:2,p=0.5),dose.p(modelo2,cf=1:2,p=0.5),dose.p(modelo3,cf=1:2,p=0.5))\n",
    "rownames(x)=c(\"Modelo Binomial-Logit\",\"Modelo Binomial-Probit\",\"Modelo Binomial-cloglog\")\n",
    "x"
   ]
  },
  {
   "cell_type": "code",
   "execution_count": 51,
   "metadata": {},
   "outputs": [
    {
     "data": {
      "text/html": [
       "<table>\n",
       "<thead><tr><th></th><th scope=col>p = 0.9:</th></tr></thead>\n",
       "<tbody>\n",
       "\t<tr><th scope=row>Modelo Binomial-Logit</th><td>8.961591</td></tr>\n",
       "\t<tr><th scope=row>Modelo Binomial-Probit</th><td>9.143277</td></tr>\n",
       "\t<tr><th scope=row>Modelo Binomial-cloglog</th><td>9.369471</td></tr>\n",
       "</tbody>\n",
       "</table>\n"
      ],
      "text/latex": [
       "\\begin{tabular}{r|l}\n",
       "  & p = 0.9:\\\\\n",
       "\\hline\n",
       "\tModelo Binomial-Logit & 8.961591\\\\\n",
       "\tModelo Binomial-Probit & 9.143277\\\\\n",
       "\tModelo Binomial-cloglog & 9.369471\\\\\n",
       "\\end{tabular}\n"
      ],
      "text/markdown": [
       "\n",
       "| <!--/--> | p = 0.9: | \n",
       "|---|---|---|\n",
       "| Modelo Binomial-Logit | 8.961591 | \n",
       "| Modelo Binomial-Probit | 9.143277 | \n",
       "| Modelo Binomial-cloglog | 9.369471 | \n",
       "\n",
       "\n"
      ],
      "text/plain": [
       "                        p = 0.9:\n",
       "Modelo Binomial-Logit   8.961591\n",
       "Modelo Binomial-Probit  9.143277\n",
       "Modelo Binomial-cloglog 9.369471"
      ]
     },
     "metadata": {},
     "output_type": "display_data"
    }
   ],
   "source": [
    "x=rbind(dose.p(modelo1,cf=1:2,p=0.9),dose.p(modelo2,cf=1:2,p=0.9),dose.p(modelo3,cf=1:2,p=0.9))\n",
    "rownames(x)=c(\"Modelo Binomial-Logit\",\"Modelo Binomial-Probit\",\"Modelo Binomial-cloglog\")\n",
    "x"
   ]
  },
  {
   "cell_type": "code",
   "execution_count": 49,
   "metadata": {},
   "outputs": [
    {
     "name": "stderr",
     "output_type": "stream",
     "text": [
      "Warning message in eval(family$initialize):\n",
      "\"non-integer #successes in a binomial glm!\"Warning message in eval(family$initialize):\n",
      "\"non-integer #successes in a binomial glm!\"Warning message in eval(family$initialize):\n",
      "\"non-integer #successes in a binomial glm!\""
     ]
    },
    {
     "data": {},
     "metadata": {},
     "output_type": "display_data"
    },
    {
     "data": {
      "image/png": "[encoded data removed]",
      "text/plain": [
       "plot without title"
      ]
     },
     "metadata": {},
     "output_type": "display_data"
    }
   ],
   "source": [
    "#Gráficos dos glms\n",
    "(ggplot(dados)+aes(dose,p)+geom_point()\n",
    "  +geom_smooth(color=\"blue\",method=glm, method.args = list(family = binomial),se=F)\n",
    "  +geom_smooth(color=\"red\",method=glm, method.args = list(family = binomial(link=probit)),se=F)+\n",
    "  geom_smooth(color=\"green\",method=glm, method.args = list(family = binomial(link=cloglog)),se=F))"
   ]
  }
 ],
 "metadata": {
  "kernelspec": {
   "display_name": "R",
   "language": "R",
   "name": "ir"
  },
  "language_info": {
   "codemirror_mode": "r",
   "file_extension": ".r",
   "mimetype": "text/x-r-source",
   "name": "R",
   "pygments_lexer": "r",
   "version": "3.5.1"
  }
 },
 "nbformat": 4,
 "nbformat_minor": 2
}
