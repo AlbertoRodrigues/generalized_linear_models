{
 "cells": [
  {
   "cell_type": "markdown",
   "metadata": {},
   "source": [
    "# Ajuste de Modelos Lineares Generalizados Binomial com diferentes funções de ligação para dados reais de insetos três tipos de inseticidas."
   ]
  },
  {
   "cell_type": "code",
   "execution_count": 1,
   "metadata": {},
   "outputs": [
    {
     "name": "stderr",
     "output_type": "stream",
     "text": [
      "Loading required package: ggplot2\n",
      "Loading required package: MASS\n"
     ]
    }
   ],
   "source": [
    "require(ggplot2)\n",
    "require(MASS)"
   ]
  },
  {
   "cell_type": "code",
   "execution_count": 2,
   "metadata": {},
   "outputs": [],
   "source": [
    "#Inseticida DDT\n",
    "dose=c(2,2.64,3.48,4.59,6.06,8)\n",
    "p=c(3/50,5/49,19/47,19/50,24/49,35/50)\n",
    "m=c(50,49,47,50,49,50)\n",
    "y=p*m"
   ]
  },
  {
   "cell_type": "code",
   "execution_count": 4,
   "metadata": {},
   "outputs": [
    {
     "data": {
      "text/html": [
       "<table>\n",
       "<thead><tr><th scope=col>Sucessos</th><th scope=col>Fracassos</th></tr></thead>\n",
       "<tbody>\n",
       "\t<tr><td> 3</td><td>47</td></tr>\n",
       "\t<tr><td> 5</td><td>44</td></tr>\n",
       "\t<tr><td>19</td><td>28</td></tr>\n",
       "\t<tr><td>19</td><td>31</td></tr>\n",
       "\t<tr><td>24</td><td>25</td></tr>\n",
       "\t<tr><td>35</td><td>15</td></tr>\n",
       "</tbody>\n",
       "</table>\n"
      ],
      "text/latex": [
       "\\begin{tabular}{ll}\n",
       " Sucessos & Fracassos\\\\\n",
       "\\hline\n",
       "\t  3 & 47\\\\\n",
       "\t  5 & 44\\\\\n",
       "\t 19 & 28\\\\\n",
       "\t 19 & 31\\\\\n",
       "\t 24 & 25\\\\\n",
       "\t 35 & 15\\\\\n",
       "\\end{tabular}\n"
      ],
      "text/markdown": [
       "\n",
       "Sucessos | Fracassos | \n",
       "|---|---|---|---|---|---|\n",
       "|  3 | 47 | \n",
       "|  5 | 44 | \n",
       "| 19 | 28 | \n",
       "| 19 | 31 | \n",
       "| 24 | 25 | \n",
       "| 35 | 15 | \n",
       "\n",
       "\n"
      ],
      "text/plain": [
       "     Sucessos Fracassos\n",
       "[1,]  3       47       \n",
       "[2,]  5       44       \n",
       "[3,] 19       28       \n",
       "[4,] 19       31       \n",
       "[5,] 24       25       \n",
       "[6,] 35       15       "
      ]
     },
     "metadata": {},
     "output_type": "display_data"
    }
   ],
   "source": [
    "resp=cbind(y,m-y)\n",
    "colnames(resp)=c(\"Sucessos\",\"Fracassos\")\n",
    "resp"
   ]
  },
  {
   "cell_type": "code",
   "execution_count": 5,
   "metadata": {},
   "outputs": [
    {
     "data": {
      "text/html": [
       "<table>\n",
       "<thead><tr><th scope=col>dose</th><th scope=col>p</th><th scope=col>m</th><th scope=col>y</th></tr></thead>\n",
       "<tbody>\n",
       "\t<tr><td>2.00     </td><td>0.0600000</td><td>50       </td><td> 3       </td></tr>\n",
       "\t<tr><td>2.64     </td><td>0.1020408</td><td>49       </td><td> 5       </td></tr>\n",
       "\t<tr><td>3.48     </td><td>0.4042553</td><td>47       </td><td>19       </td></tr>\n",
       "\t<tr><td>4.59     </td><td>0.3800000</td><td>50       </td><td>19       </td></tr>\n",
       "\t<tr><td>6.06     </td><td>0.4897959</td><td>49       </td><td>24       </td></tr>\n",
       "\t<tr><td>8.00     </td><td>0.7000000</td><td>50       </td><td>35       </td></tr>\n",
       "</tbody>\n",
       "</table>\n"
      ],
      "text/latex": [
       "\\begin{tabular}{r|llll}\n",
       " dose & p & m & y\\\\\n",
       "\\hline\n",
       "\t 2.00      & 0.0600000 & 50        &  3       \\\\\n",
       "\t 2.64      & 0.1020408 & 49        &  5       \\\\\n",
       "\t 3.48      & 0.4042553 & 47        & 19       \\\\\n",
       "\t 4.59      & 0.3800000 & 50        & 19       \\\\\n",
       "\t 6.06      & 0.4897959 & 49        & 24       \\\\\n",
       "\t 8.00      & 0.7000000 & 50        & 35       \\\\\n",
       "\\end{tabular}\n"
      ],
      "text/markdown": [
       "\n",
       "dose | p | m | y | \n",
       "|---|---|---|---|---|---|\n",
       "| 2.00      | 0.0600000 | 50        |  3        | \n",
       "| 2.64      | 0.1020408 | 49        |  5        | \n",
       "| 3.48      | 0.4042553 | 47        | 19        | \n",
       "| 4.59      | 0.3800000 | 50        | 19        | \n",
       "| 6.06      | 0.4897959 | 49        | 24        | \n",
       "| 8.00      | 0.7000000 | 50        | 35        | \n",
       "\n",
       "\n"
      ],
      "text/plain": [
       "  dose p         m  y \n",
       "1 2.00 0.0600000 50  3\n",
       "2 2.64 0.1020408 49  5\n",
       "3 3.48 0.4042553 47 19\n",
       "4 4.59 0.3800000 50 19\n",
       "5 6.06 0.4897959 49 24\n",
       "6 8.00 0.7000000 50 35"
      ]
     },
     "metadata": {},
     "output_type": "display_data"
    }
   ],
   "source": [
    "dados=cbind(dose,p,m,y)\n",
    "dados=data.frame(dados);dados"
   ]
  },
  {
   "cell_type": "code",
   "execution_count": 6,
   "metadata": {},
   "outputs": [
    {
     "data": {},
     "metadata": {},
     "output_type": "display_data"
    },
    {
     "data": {
      "image/png": "[encoded data removed]",
      "text/plain": [
       "plot without title"
      ]
     },
     "metadata": {},
     "output_type": "display_data"
    }
   ],
   "source": [
    "#Análise exploratória \n",
    "ggplot(dados)+aes(dose,p)+geom_point()"
   ]
  },
  {
   "cell_type": "code",
   "execution_count": 7,
   "metadata": {},
   "outputs": [
    {
     "data": {
      "text/plain": [
       "\n",
       "Call:  glm(formula = resp ~ dose, family = binomial(link = \"probit\"))\n",
       "\n",
       "Coefficients:\n",
       "(Intercept)         dose  \n",
       "    -1.7470       0.2949  \n",
       "\n",
       "Degrees of Freedom: 5 Total (i.e. Null);  4 Residual\n",
       "Null Deviance:\t    70.3 \n",
       "Residual Deviance: 11.06 \tAIC: 38.51"
      ]
     },
     "metadata": {},
     "output_type": "display_data"
    }
   ],
   "source": [
    "modelo=glm(resp~dose,family = binomial(link=\"probit\"));modelo"
   ]
  },
  {
   "cell_type": "code",
   "execution_count": 10,
   "metadata": {},
   "outputs": [
    {
     "data": {
      "text/plain": [
       "\n",
       "Call:\n",
       "glm(formula = resp ~ dose, family = binomial(link = \"probit\"))\n",
       "\n",
       "Deviance Residuals: \n",
       "      1        2        3        4        5        6  \n",
       "-1.4999  -1.2867   2.5613   0.4860  -0.3677  -0.4705  \n",
       "\n",
       "Coefficients:\n",
       "            Estimate Std. Error z value Pr(>|z|)    \n",
       "(Intercept) -1.74699    0.20442  -8.546  < 2e-16 ***\n",
       "dose         0.29493    0.03982   7.406  1.3e-13 ***\n",
       "---\n",
       "Signif. codes:  0 '***' 0.001 '**' 0.01 '*' 0.05 '.' 0.1 ' ' 1\n",
       "\n",
       "(Dispersion parameter for binomial family taken to be 1)\n",
       "\n",
       "    Null deviance: 70.300  on 5  degrees of freedom\n",
       "Residual deviance: 11.058  on 4  degrees of freedom\n",
       "AIC: 38.507\n",
       "\n",
       "Number of Fisher Scoring iterations: 4\n"
      ]
     },
     "metadata": {},
     "output_type": "display_data"
    }
   ],
   "source": [
    "summary(modelo)"
   ]
  },
  {
   "cell_type": "code",
   "execution_count": 12,
   "metadata": {},
   "outputs": [
    {
     "data": {
      "text/html": [
       "<table>\n",
       "<thead><tr><th></th><th scope=col>(Intercept)</th><th scope=col>dose</th></tr></thead>\n",
       "<tbody>\n",
       "\t<tr><th scope=row>1</th><td>1   </td><td>2.00</td></tr>\n",
       "\t<tr><th scope=row>2</th><td>1   </td><td>2.64</td></tr>\n",
       "\t<tr><th scope=row>3</th><td>1   </td><td>3.48</td></tr>\n",
       "\t<tr><th scope=row>4</th><td>1   </td><td>4.59</td></tr>\n",
       "\t<tr><th scope=row>5</th><td>1   </td><td>6.06</td></tr>\n",
       "\t<tr><th scope=row>6</th><td>1   </td><td>8.00</td></tr>\n",
       "</tbody>\n",
       "</table>\n"
      ],
      "text/latex": [
       "\\begin{tabular}{r|ll}\n",
       "  & (Intercept) & dose\\\\\n",
       "\\hline\n",
       "\t1 & 1    & 2.00\\\\\n",
       "\t2 & 1    & 2.64\\\\\n",
       "\t3 & 1    & 3.48\\\\\n",
       "\t4 & 1    & 4.59\\\\\n",
       "\t5 & 1    & 6.06\\\\\n",
       "\t6 & 1    & 8.00\\\\\n",
       "\\end{tabular}\n"
      ],
      "text/markdown": [
       "\n",
       "| <!--/--> | (Intercept) | dose | \n",
       "|---|---|---|---|---|---|\n",
       "| 1 | 1    | 2.00 | \n",
       "| 2 | 1    | 2.64 | \n",
       "| 3 | 1    | 3.48 | \n",
       "| 4 | 1    | 4.59 | \n",
       "| 5 | 1    | 6.06 | \n",
       "| 6 | 1    | 8.00 | \n",
       "\n",
       "\n"
      ],
      "text/plain": [
       "  (Intercept) dose\n",
       "1 1           2.00\n",
       "2 1           2.64\n",
       "3 1           3.48\n",
       "4 1           4.59\n",
       "5 1           6.06\n",
       "6 1           8.00"
      ]
     },
     "metadata": {},
     "output_type": "display_data"
    }
   ],
   "source": [
    "model.matrix(modelo)"
   ]
  },
  {
   "cell_type": "code",
   "execution_count": 18,
   "metadata": {},
   "outputs": [
    {
     "data": {
      "text/html": [
       "<dl class=dl-horizontal>\n",
       "\t<dt>(Intercept)</dt>\n",
       "\t\t<dd>-1.74698664234554</dd>\n",
       "\t<dt>dose</dt>\n",
       "\t\t<dd>0.294925336138655</dd>\n",
       "</dl>\n"
      ],
      "text/latex": [
       "\\begin{description*}\n",
       "\\item[(Intercept)] -1.74698664234554\n",
       "\\item[dose] 0.294925336138655\n",
       "\\end{description*}\n"
      ],
      "text/markdown": [
       "(Intercept)\n",
       ":   -1.74698664234554dose\n",
       ":   0.294925336138655\n",
       "\n"
      ],
      "text/plain": [
       "(Intercept)        dose \n",
       " -1.7469866   0.2949253 "
      ]
     },
     "metadata": {},
     "output_type": "display_data"
    }
   ],
   "source": [
    "modelo$coefficients"
   ]
  },
  {
   "cell_type": "code",
   "execution_count": 8,
   "metadata": {},
   "outputs": [
    {
     "data": {
      "text/html": [
       "<dl class=dl-horizontal>\n",
       "\t<dt>1</dt>\n",
       "\t\t<dd>0.123608406375505</dd>\n",
       "\t<dt>2</dt>\n",
       "\t\t<dd>0.166426374771855</dd>\n",
       "\t<dt>3</dt>\n",
       "\t\t<dd>0.235563526703727</dd>\n",
       "\t<dt>4</dt>\n",
       "\t\t<dd>0.347056584359691</dd>\n",
       "\t<dt>5</dt>\n",
       "\t\t<dd>0.516057434985264</dd>\n",
       "\t<dt>6</dt>\n",
       "\t\t<dd>0.729868736200065</dd>\n",
       "</dl>\n"
      ],
      "text/latex": [
       "\\begin{description*}\n",
       "\\item[1] 0.123608406375505\n",
       "\\item[2] 0.166426374771855\n",
       "\\item[3] 0.235563526703727\n",
       "\\item[4] 0.347056584359691\n",
       "\\item[5] 0.516057434985264\n",
       "\\item[6] 0.729868736200065\n",
       "\\end{description*}\n"
      ],
      "text/markdown": [
       "1\n",
       ":   0.1236084063755052\n",
       ":   0.1664263747718553\n",
       ":   0.2355635267037274\n",
       ":   0.3470565843596915\n",
       ":   0.5160574349852646\n",
       ":   0.729868736200065\n",
       "\n"
      ],
      "text/plain": [
       "        1         2         3         4         5         6 \n",
       "0.1236084 0.1664264 0.2355635 0.3470566 0.5160574 0.7298687 "
      ]
     },
     "metadata": {},
     "output_type": "display_data"
    }
   ],
   "source": [
    "modelo$fitted.values"
   ]
  },
  {
   "cell_type": "code",
   "execution_count": 9,
   "metadata": {},
   "outputs": [
    {
     "data": {
      "text/html": [
       "<dl class=dl-horizontal>\n",
       "\t<dt>1</dt>\n",
       "\t\t<dd>-1.15713597006823</dd>\n",
       "\t<dt>2</dt>\n",
       "\t\t<dd>-0.968383754939489</dd>\n",
       "\t<dt>3</dt>\n",
       "\t\t<dd>-0.720646472583019</dd>\n",
       "\t<dt>4</dt>\n",
       "\t\t<dd>-0.393279349469113</dd>\n",
       "\t<dt>5</dt>\n",
       "\t\t<dd>0.0402608946547097</dd>\n",
       "\t<dt>6</dt>\n",
       "\t\t<dd>0.6124160467637</dd>\n",
       "</dl>\n"
      ],
      "text/latex": [
       "\\begin{description*}\n",
       "\\item[1] -1.15713597006823\n",
       "\\item[2] -0.968383754939489\n",
       "\\item[3] -0.720646472583019\n",
       "\\item[4] -0.393279349469113\n",
       "\\item[5] 0.0402608946547097\n",
       "\\item[6] 0.6124160467637\n",
       "\\end{description*}\n"
      ],
      "text/markdown": [
       "1\n",
       ":   -1.157135970068232\n",
       ":   -0.9683837549394893\n",
       ":   -0.7206464725830194\n",
       ":   -0.3932793494691135\n",
       ":   0.04026089465470976\n",
       ":   0.6124160467637\n",
       "\n"
      ],
      "text/plain": [
       "          1           2           3           4           5           6 \n",
       "-1.15713597 -0.96838375 -0.72064647 -0.39327935  0.04026089  0.61241605 "
      ]
     },
     "metadata": {},
     "output_type": "display_data"
    }
   ],
   "source": [
    "modelo$linear.predictors"
   ]
  },
  {
   "cell_type": "code",
   "execution_count": 11,
   "metadata": {},
   "outputs": [
    {
     "data": {
      "text/html": [
       "<dl class=dl-horizontal>\n",
       "\t<dt>1</dt>\n",
       "\t\t<dd>-0.31142732273232</dd>\n",
       "\t<dt>2</dt>\n",
       "\t\t<dd>-0.257935987027367</dd>\n",
       "\t<dt>3</dt>\n",
       "\t\t<dd>0.548220478475981</dd>\n",
       "\t<dt>4</dt>\n",
       "\t\t<dd>0.0892163455363779</dd>\n",
       "\t<dt>5</dt>\n",
       "\t\t<dd>-0.0658812332087567</dd>\n",
       "\t<dt>6</dt>\n",
       "\t\t<dd>-0.0903126520312713</dd>\n",
       "</dl>\n"
      ],
      "text/latex": [
       "\\begin{description*}\n",
       "\\item[1] -0.31142732273232\n",
       "\\item[2] -0.257935987027367\n",
       "\\item[3] 0.548220478475981\n",
       "\\item[4] 0.0892163455363779\n",
       "\\item[5] -0.0658812332087567\n",
       "\\item[6] -0.0903126520312713\n",
       "\\end{description*}\n"
      ],
      "text/markdown": [
       "1\n",
       ":   -0.311427322732322\n",
       ":   -0.2579359870273673\n",
       ":   0.5482204784759814\n",
       ":   0.08921634553637795\n",
       ":   -0.06588123320875676\n",
       ":   -0.0903126520312713\n",
       "\n"
      ],
      "text/plain": [
       "          1           2           3           4           5           6 \n",
       "-0.31142732 -0.25793599  0.54822048  0.08921635 -0.06588123 -0.09031265 "
      ]
     },
     "metadata": {},
     "output_type": "display_data"
    }
   ],
   "source": [
    "modelo$residuals"
   ]
  },
  {
   "cell_type": "code",
   "execution_count": 13,
   "metadata": {},
   "outputs": [
    {
     "data": {
      "text/plain": [
       "             Dose        SE\n",
       "p = 0.5: 5.923488 0.3171371"
      ]
     },
     "metadata": {},
     "output_type": "display_data"
    },
    {
     "data": {
      "text/plain": [
       "             Dose        SE\n",
       "p = 0.9: 10.26883 0.7971605"
      ]
     },
     "metadata": {},
     "output_type": "display_data"
    }
   ],
   "source": [
    "dose.p(modelo,cf=1:2,p=0.5)\n",
    "dose.p(modelo,cf=1:2,p=0.9)"
   ]
  },
  {
   "cell_type": "code",
   "execution_count": 93,
   "metadata": {},
   "outputs": [
    {
     "data": {},
     "metadata": {},
     "output_type": "display_data"
    },
    {
     "data": {
      "image/png": "[encoded data removed]",
      "text/plain": [
       "plot without title"
      ]
     },
     "metadata": {},
     "output_type": "display_data"
    }
   ],
   "source": [
    "ggplot(dados)+aes(dose,modelo$linear.predictors)+geom_point()+theme_bw()"
   ]
  },
  {
   "cell_type": "code",
   "execution_count": 14,
   "metadata": {},
   "outputs": [
    {
     "data": {
      "text/plain": [
       "\n",
       "Call:  glm(formula = resp ~ dose, family = binomial(link = \"logit\"))\n",
       "\n",
       "Coefficients:\n",
       "(Intercept)         dose  \n",
       "    -2.8498       0.4806  \n",
       "\n",
       "Degrees of Freedom: 5 Total (i.e. Null);  4 Residual\n",
       "Null Deviance:\t    70.3 \n",
       "Residual Deviance: 11.77 \tAIC: 39.22"
      ]
     },
     "metadata": {},
     "output_type": "display_data"
    }
   ],
   "source": [
    "modelo1=glm(resp~dose,family = binomial(link=\"logit\"));modelo1"
   ]
  },
  {
   "cell_type": "code",
   "execution_count": 15,
   "metadata": {},
   "outputs": [
    {
     "data": {
      "text/plain": [
       "\n",
       "Call:\n",
       "glm(formula = resp ~ dose, family = binomial(link = \"logit\"))\n",
       "\n",
       "Deviance Residuals: \n",
       "      1        2        3        4        5        6  \n",
       "-1.6501  -1.3611   2.5615   0.5256  -0.3628  -0.4746  \n",
       "\n",
       "Coefficients:\n",
       "            Estimate Std. Error z value Pr(>|z|)    \n",
       "(Intercept) -2.84984    0.35887  -7.941 2.00e-15 ***\n",
       "dose         0.48064    0.06859   7.007 2.43e-12 ***\n",
       "---\n",
       "Signif. codes:  0 '***' 0.001 '**' 0.01 '*' 0.05 '.' 0.1 ' ' 1\n",
       "\n",
       "(Dispersion parameter for binomial family taken to be 1)\n",
       "\n",
       "    Null deviance: 70.30  on 5  degrees of freedom\n",
       "Residual deviance: 11.77  on 4  degrees of freedom\n",
       "AIC: 39.219\n",
       "\n",
       "Number of Fisher Scoring iterations: 4\n"
      ]
     },
     "metadata": {},
     "output_type": "display_data"
    }
   ],
   "source": [
    "summary(modelo1)"
   ]
  },
  {
   "cell_type": "code",
   "execution_count": 21,
   "metadata": {},
   "outputs": [
    {
     "data": {
      "text/html": [
       "<table>\n",
       "<thead><tr><th></th><th scope=col>(Intercept)</th><th scope=col>dose</th></tr></thead>\n",
       "<tbody>\n",
       "\t<tr><th scope=row>1</th><td>1   </td><td>2.00</td></tr>\n",
       "\t<tr><th scope=row>2</th><td>1   </td><td>2.64</td></tr>\n",
       "\t<tr><th scope=row>3</th><td>1   </td><td>3.48</td></tr>\n",
       "\t<tr><th scope=row>4</th><td>1   </td><td>4.59</td></tr>\n",
       "\t<tr><th scope=row>5</th><td>1   </td><td>6.06</td></tr>\n",
       "\t<tr><th scope=row>6</th><td>1   </td><td>8.00</td></tr>\n",
       "</tbody>\n",
       "</table>\n"
      ],
      "text/latex": [
       "\\begin{tabular}{r|ll}\n",
       "  & (Intercept) & dose\\\\\n",
       "\\hline\n",
       "\t1 & 1    & 2.00\\\\\n",
       "\t2 & 1    & 2.64\\\\\n",
       "\t3 & 1    & 3.48\\\\\n",
       "\t4 & 1    & 4.59\\\\\n",
       "\t5 & 1    & 6.06\\\\\n",
       "\t6 & 1    & 8.00\\\\\n",
       "\\end{tabular}\n"
      ],
      "text/markdown": [
       "\n",
       "| <!--/--> | (Intercept) | dose | \n",
       "|---|---|---|---|---|---|\n",
       "| 1 | 1    | 2.00 | \n",
       "| 2 | 1    | 2.64 | \n",
       "| 3 | 1    | 3.48 | \n",
       "| 4 | 1    | 4.59 | \n",
       "| 5 | 1    | 6.06 | \n",
       "| 6 | 1    | 8.00 | \n",
       "\n",
       "\n"
      ],
      "text/plain": [
       "  (Intercept) dose\n",
       "1 1           2.00\n",
       "2 1           2.64\n",
       "3 1           3.48\n",
       "4 1           4.59\n",
       "5 1           6.06\n",
       "6 1           8.00"
      ]
     },
     "metadata": {},
     "output_type": "display_data"
    }
   ],
   "source": [
    "model.matrix(modelo1)"
   ]
  },
  {
   "cell_type": "code",
   "execution_count": 17,
   "metadata": {},
   "outputs": [
    {
     "data": {
      "text/html": [
       "<dl class=dl-horizontal>\n",
       "\t<dt>(Intercept)</dt>\n",
       "\t\t<dd>-2.84984018524068</dd>\n",
       "\t<dt>dose</dt>\n",
       "\t\t<dd>0.480638725638842</dd>\n",
       "</dl>\n"
      ],
      "text/latex": [
       "\\begin{description*}\n",
       "\\item[(Intercept)] -2.84984018524068\n",
       "\\item[dose] 0.480638725638842\n",
       "\\end{description*}\n"
      ],
      "text/markdown": [
       "(Intercept)\n",
       ":   -2.84984018524068dose\n",
       ":   0.480638725638842\n",
       "\n"
      ],
      "text/plain": [
       "(Intercept)        dose \n",
       " -2.8498402   0.4806387 "
      ]
     },
     "metadata": {},
     "output_type": "display_data"
    }
   ],
   "source": [
    "modelo1$coefficients"
   ]
  },
  {
   "cell_type": "code",
   "execution_count": 16,
   "metadata": {},
   "outputs": [
    {
     "data": {
      "text/html": [
       "<dl class=dl-horizontal>\n",
       "\t<dt>1</dt>\n",
       "\t\t<dd>0.131408432462461</dd>\n",
       "\t<dt>2</dt>\n",
       "\t\t<dd>0.170660421928245</dd>\n",
       "\t<dt>3</dt>\n",
       "\t\t<dd>0.235552880322821</dd>\n",
       "\t<dt>4</dt>\n",
       "\t\t<dd>0.344408724470797</dd>\n",
       "\t<dt>5</dt>\n",
       "\t\t<dd>0.515702457694784</dd>\n",
       "\t<dt>6</dt>\n",
       "\t\t<dd>0.730127513534445</dd>\n",
       "</dl>\n"
      ],
      "text/latex": [
       "\\begin{description*}\n",
       "\\item[1] 0.131408432462461\n",
       "\\item[2] 0.170660421928245\n",
       "\\item[3] 0.235552880322821\n",
       "\\item[4] 0.344408724470797\n",
       "\\item[5] 0.515702457694784\n",
       "\\item[6] 0.730127513534445\n",
       "\\end{description*}\n"
      ],
      "text/markdown": [
       "1\n",
       ":   0.1314084324624612\n",
       ":   0.1706604219282453\n",
       ":   0.2355528803228214\n",
       ":   0.3444087244707975\n",
       ":   0.5157024576947846\n",
       ":   0.730127513534445\n",
       "\n"
      ],
      "text/plain": [
       "        1         2         3         4         5         6 \n",
       "0.1314084 0.1706604 0.2355529 0.3444087 0.5157025 0.7301275 "
      ]
     },
     "metadata": {},
     "output_type": "display_data"
    }
   ],
   "source": [
    "modelo1$fitted.values"
   ]
  },
  {
   "cell_type": "code",
   "execution_count": 19,
   "metadata": {},
   "outputs": [
    {
     "data": {
      "text/html": [
       "<dl class=dl-horizontal>\n",
       "\t<dt>1</dt>\n",
       "\t\t<dd>-1.88856273396299</dd>\n",
       "\t<dt>2</dt>\n",
       "\t\t<dd>-1.58095394955413</dd>\n",
       "\t<dt>3</dt>\n",
       "\t\t<dd>-1.1772174200175</dd>\n",
       "\t<dt>4</dt>\n",
       "\t\t<dd>-0.643708434558389</dd>\n",
       "\t<dt>5</dt>\n",
       "\t\t<dd>0.0628304921307091</dd>\n",
       "\t<dt>6</dt>\n",
       "\t\t<dd>0.995269619870064</dd>\n",
       "</dl>\n"
      ],
      "text/latex": [
       "\\begin{description*}\n",
       "\\item[1] -1.88856273396299\n",
       "\\item[2] -1.58095394955413\n",
       "\\item[3] -1.1772174200175\n",
       "\\item[4] -0.643708434558389\n",
       "\\item[5] 0.0628304921307091\n",
       "\\item[6] 0.995269619870064\n",
       "\\end{description*}\n"
      ],
      "text/markdown": [
       "1\n",
       ":   -1.888562733962992\n",
       ":   -1.580953949554133\n",
       ":   -1.17721742001754\n",
       ":   -0.6437084345583895\n",
       ":   0.06283049213070916\n",
       ":   0.995269619870064\n",
       "\n"
      ],
      "text/plain": [
       "          1           2           3           4           5           6 \n",
       "-1.88856273 -1.58095395 -1.17721742 -0.64370843  0.06283049  0.99526962 "
      ]
     },
     "metadata": {},
     "output_type": "display_data"
    }
   ],
   "source": [
    "modelo1$linear.predictors"
   ]
  },
  {
   "cell_type": "code",
   "execution_count": 20,
   "metadata": {},
   "outputs": [
    {
     "data": {
      "text/html": [
       "<dl class=dl-horizontal>\n",
       "\t<dt>1</dt>\n",
       "\t\t<dd>-0.625620046354307</dd>\n",
       "\t<dt>2</dt>\n",
       "\t\t<dd>-0.484822772862388</dd>\n",
       "\t<dt>3</dt>\n",
       "\t\t<dd>0.936883290287263</dd>\n",
       "\t<dt>4</dt>\n",
       "\t\t<dd>0.157629044444517</dd>\n",
       "\t<dt>5</dt>\n",
       "\t\t<dd>-0.103728461445675</dd>\n",
       "\t<dt>6</dt>\n",
       "\t\t<dd>-0.152899464871071</dd>\n",
       "</dl>\n"
      ],
      "text/latex": [
       "\\begin{description*}\n",
       "\\item[1] -0.625620046354307\n",
       "\\item[2] -0.484822772862388\n",
       "\\item[3] 0.936883290287263\n",
       "\\item[4] 0.157629044444517\n",
       "\\item[5] -0.103728461445675\n",
       "\\item[6] -0.152899464871071\n",
       "\\end{description*}\n"
      ],
      "text/markdown": [
       "1\n",
       ":   -0.6256200463543072\n",
       ":   -0.4848227728623883\n",
       ":   0.9368832902872634\n",
       ":   0.1576290444445175\n",
       ":   -0.1037284614456756\n",
       ":   -0.152899464871071\n",
       "\n"
      ],
      "text/plain": [
       "         1          2          3          4          5          6 \n",
       "-0.6256200 -0.4848228  0.9368833  0.1576290 -0.1037285 -0.1528995 "
      ]
     },
     "metadata": {},
     "output_type": "display_data"
    }
   ],
   "source": [
    "modelo1$residuals"
   ]
  },
  {
   "cell_type": "code",
   "execution_count": 22,
   "metadata": {},
   "outputs": [
    {
     "data": {
      "text/plain": [
       "             Dose        SE\n",
       "p = 0.5: 5.929277 0.3215552"
      ]
     },
     "metadata": {},
     "output_type": "display_data"
    },
    {
     "data": {
      "text/plain": [
       "             Dose        SE\n",
       "p = 0.9: 10.50075 0.8549464"
      ]
     },
     "metadata": {},
     "output_type": "display_data"
    }
   ],
   "source": [
    "dose.p(modelo1,cf=1:2,p=0.5)\n",
    "dose.p(modelo1,cf=1:2,p=0.9)"
   ]
  },
  {
   "cell_type": "code",
   "execution_count": 94,
   "metadata": {},
   "outputs": [
    {
     "data": {},
     "metadata": {},
     "output_type": "display_data"
    },
    {
     "data": {
      "image/png": "[encoded data removed]",
      "text/plain": [
       "plot without title"
      ]
     },
     "metadata": {},
     "output_type": "display_data"
    }
   ],
   "source": [
    "ggplot(dados)+aes(dose,modelo2$linear.predictors)+geom_point()+theme_bw()"
   ]
  },
  {
   "cell_type": "code",
   "execution_count": 23,
   "metadata": {},
   "outputs": [
    {
     "data": {
      "text/plain": [
       "\n",
       "Call:  glm(formula = resp ~ dose, family = binomial(link = \"cloglog\"))\n",
       "\n",
       "Coefficients:\n",
       "(Intercept)         dose  \n",
       "     -2.540        0.353  \n",
       "\n",
       "Degrees of Freedom: 5 Total (i.e. Null);  4 Residual\n",
       "Null Deviance:\t    70.3 \n",
       "Residual Deviance: 13.59 \tAIC: 41.04"
      ]
     },
     "metadata": {},
     "output_type": "display_data"
    }
   ],
   "source": [
    "modelo2=glm(resp~dose,family = binomial(link=\"cloglog\"))\n",
    "modelo2"
   ]
  },
  {
   "cell_type": "code",
   "execution_count": 24,
   "metadata": {},
   "outputs": [
    {
     "data": {
      "text/plain": [
       "\n",
       "Call:\n",
       "glm(formula = resp ~ dose, family = binomial(link = \"cloglog\"))\n",
       "\n",
       "Deviance Residuals: \n",
       "       1         2         3         4         5         6  \n",
       "-1.94983  -1.54807   2.55011   0.76125   0.02197  -0.55561  \n",
       "\n",
       "Coefficients:\n",
       "            Estimate Std. Error z value Pr(>|z|)    \n",
       "(Intercept) -2.53961    0.28655  -8.863  < 2e-16 ***\n",
       "dose         0.35296    0.04839   7.294 3.01e-13 ***\n",
       "---\n",
       "Signif. codes:  0 '***' 0.001 '**' 0.01 '*' 0.05 '.' 0.1 ' ' 1\n",
       "\n",
       "(Dispersion parameter for binomial family taken to be 1)\n",
       "\n",
       "    Null deviance: 70.30  on 5  degrees of freedom\n",
       "Residual deviance: 13.59  on 4  degrees of freedom\n",
       "AIC: 41.039\n",
       "\n",
       "Number of Fisher Scoring iterations: 5\n"
      ]
     },
     "metadata": {},
     "output_type": "display_data"
    }
   ],
   "source": [
    "summary(modelo2)"
   ]
  },
  {
   "cell_type": "code",
   "execution_count": 29,
   "metadata": {},
   "outputs": [
    {
     "data": {
      "text/html": [
       "<table>\n",
       "<thead><tr><th></th><th scope=col>(Intercept)</th><th scope=col>dose</th></tr></thead>\n",
       "<tbody>\n",
       "\t<tr><th scope=row>1</th><td>1   </td><td>2.00</td></tr>\n",
       "\t<tr><th scope=row>2</th><td>1   </td><td>2.64</td></tr>\n",
       "\t<tr><th scope=row>3</th><td>1   </td><td>3.48</td></tr>\n",
       "\t<tr><th scope=row>4</th><td>1   </td><td>4.59</td></tr>\n",
       "\t<tr><th scope=row>5</th><td>1   </td><td>6.06</td></tr>\n",
       "\t<tr><th scope=row>6</th><td>1   </td><td>8.00</td></tr>\n",
       "</tbody>\n",
       "</table>\n"
      ],
      "text/latex": [
       "\\begin{tabular}{r|ll}\n",
       "  & (Intercept) & dose\\\\\n",
       "\\hline\n",
       "\t1 & 1    & 2.00\\\\\n",
       "\t2 & 1    & 2.64\\\\\n",
       "\t3 & 1    & 3.48\\\\\n",
       "\t4 & 1    & 4.59\\\\\n",
       "\t5 & 1    & 6.06\\\\\n",
       "\t6 & 1    & 8.00\\\\\n",
       "\\end{tabular}\n"
      ],
      "text/markdown": [
       "\n",
       "| <!--/--> | (Intercept) | dose | \n",
       "|---|---|---|---|---|---|\n",
       "| 1 | 1    | 2.00 | \n",
       "| 2 | 1    | 2.64 | \n",
       "| 3 | 1    | 3.48 | \n",
       "| 4 | 1    | 4.59 | \n",
       "| 5 | 1    | 6.06 | \n",
       "| 6 | 1    | 8.00 | \n",
       "\n",
       "\n"
      ],
      "text/plain": [
       "  (Intercept) dose\n",
       "1 1           2.00\n",
       "2 1           2.64\n",
       "3 1           3.48\n",
       "4 1           4.59\n",
       "5 1           6.06\n",
       "6 1           8.00"
      ]
     },
     "metadata": {},
     "output_type": "display_data"
    }
   ],
   "source": [
    "model.matrix(modelo2)"
   ]
  },
  {
   "cell_type": "code",
   "execution_count": 25,
   "metadata": {},
   "outputs": [
    {
     "data": {
      "text/html": [
       "<dl class=dl-horizontal>\n",
       "\t<dt>(Intercept)</dt>\n",
       "\t\t<dd>-2.53960792926303</dd>\n",
       "\t<dt>dose</dt>\n",
       "\t\t<dd>0.352960748015839</dd>\n",
       "</dl>\n"
      ],
      "text/latex": [
       "\\begin{description*}\n",
       "\\item[(Intercept)] -2.53960792926303\n",
       "\\item[dose] 0.352960748015839\n",
       "\\end{description*}\n"
      ],
      "text/markdown": [
       "(Intercept)\n",
       ":   -2.53960792926303dose\n",
       ":   0.352960748015839\n",
       "\n"
      ],
      "text/plain": [
       "(Intercept)        dose \n",
       " -2.5396079   0.3529607 "
      ]
     },
     "metadata": {},
     "output_type": "display_data"
    }
   ],
   "source": [
    "modelo2$coefficients"
   ]
  },
  {
   "cell_type": "code",
   "execution_count": 26,
   "metadata": {},
   "outputs": [
    {
     "data": {
      "text/html": [
       "<dl class=dl-horizontal>\n",
       "\t<dt>1</dt>\n",
       "\t\t<dd>0.147705626072937</dd>\n",
       "\t<dt>2</dt>\n",
       "\t\t<dd>0.181539009282852</dd>\n",
       "\t<dt>3</dt>\n",
       "\t\t<dd>0.236214507753101</dd>\n",
       "\t<dt>4</dt>\n",
       "\t\t<dd>0.328815445147006</dd>\n",
       "\t<dt>5</dt>\n",
       "\t\t<dd>0.488226890657506</dd>\n",
       "\t<dt>6</dt>\n",
       "\t\t<dd>0.735135426084605</dd>\n",
       "</dl>\n"
      ],
      "text/latex": [
       "\\begin{description*}\n",
       "\\item[1] 0.147705626072937\n",
       "\\item[2] 0.181539009282852\n",
       "\\item[3] 0.236214507753101\n",
       "\\item[4] 0.328815445147006\n",
       "\\item[5] 0.488226890657506\n",
       "\\item[6] 0.735135426084605\n",
       "\\end{description*}\n"
      ],
      "text/markdown": [
       "1\n",
       ":   0.1477056260729372\n",
       ":   0.1815390092828523\n",
       ":   0.2362145077531014\n",
       ":   0.3288154451470065\n",
       ":   0.4882268906575066\n",
       ":   0.735135426084605\n",
       "\n"
      ],
      "text/plain": [
       "        1         2         3         4         5         6 \n",
       "0.1477056 0.1815390 0.2362145 0.3288154 0.4882269 0.7351354 "
      ]
     },
     "metadata": {},
     "output_type": "display_data"
    }
   ],
   "source": [
    "modelo2$fitted.values"
   ]
  },
  {
   "cell_type": "code",
   "execution_count": 27,
   "metadata": {},
   "outputs": [
    {
     "data": {
      "text/html": [
       "<dl class=dl-horizontal>\n",
       "\t<dt>1</dt>\n",
       "\t\t<dd>-1.83368643323135</dd>\n",
       "\t<dt>2</dt>\n",
       "\t\t<dd>-1.60779155450122</dd>\n",
       "\t<dt>3</dt>\n",
       "\t\t<dd>-1.31130452616791</dd>\n",
       "\t<dt>4</dt>\n",
       "\t\t<dd>-0.919518095870333</dd>\n",
       "\t<dt>5</dt>\n",
       "\t\t<dd>-0.40066579628705</dd>\n",
       "\t<dt>6</dt>\n",
       "\t\t<dd>0.284078054863678</dd>\n",
       "</dl>\n"
      ],
      "text/latex": [
       "\\begin{description*}\n",
       "\\item[1] -1.83368643323135\n",
       "\\item[2] -1.60779155450122\n",
       "\\item[3] -1.31130452616791\n",
       "\\item[4] -0.919518095870333\n",
       "\\item[5] -0.40066579628705\n",
       "\\item[6] 0.284078054863678\n",
       "\\end{description*}\n"
      ],
      "text/markdown": [
       "1\n",
       ":   -1.833686433231352\n",
       ":   -1.607791554501223\n",
       ":   -1.311304526167914\n",
       ":   -0.9195180958703335\n",
       ":   -0.400665796287056\n",
       ":   0.284078054863678\n",
       "\n"
      ],
      "text/plain": [
       "         1          2          3          4          5          6 \n",
       "-1.8336864 -1.6077916 -1.3113045 -0.9195181 -0.4006658  0.2840781 "
      ]
     },
     "metadata": {},
     "output_type": "display_data"
    }
   ],
   "source": [
    "modelo2$linear.predictors"
   ]
  },
  {
   "cell_type": "code",
   "execution_count": 28,
   "metadata": {},
   "outputs": [
    {
     "data": {
      "text/html": [
       "<dl class=dl-horizontal>\n",
       "\t<dt>1</dt>\n",
       "\t\t<dd>-0.643869318816059</dd>\n",
       "\t<dt>2</dt>\n",
       "\t\t<dd>-0.484857672243847</dd>\n",
       "\t<dt>3</dt>\n",
       "\t\t<dd>0.816461451645247</dd>\n",
       "\t<dt>4</dt>\n",
       "\t\t<dd>0.191266368259853</dd>\n",
       "\t<dt>5</dt>\n",
       "\t\t<dd>0.00457678061598898</dd>\n",
       "\t<dt>6</dt>\n",
       "\t\t<dd>-0.0998499423232763</dd>\n",
       "</dl>\n"
      ],
      "text/latex": [
       "\\begin{description*}\n",
       "\\item[1] -0.643869318816059\n",
       "\\item[2] -0.484857672243847\n",
       "\\item[3] 0.816461451645247\n",
       "\\item[4] 0.191266368259853\n",
       "\\item[5] 0.00457678061598898\n",
       "\\item[6] -0.0998499423232763\n",
       "\\end{description*}\n"
      ],
      "text/markdown": [
       "1\n",
       ":   -0.6438693188160592\n",
       ":   -0.4848576722438473\n",
       ":   0.8164614516452474\n",
       ":   0.1912663682598535\n",
       ":   0.004576780615988986\n",
       ":   -0.0998499423232763\n",
       "\n"
      ],
      "text/plain": [
       "           1            2            3            4            5            6 \n",
       "-0.643869319 -0.484857672  0.816461452  0.191266368  0.004576781 -0.099849942 "
      ]
     },
     "metadata": {},
     "output_type": "display_data"
    }
   ],
   "source": [
    "modelo2$residuals"
   ]
  },
  {
   "cell_type": "code",
   "execution_count": 30,
   "metadata": {},
   "outputs": [
    {
     "data": {
      "text/plain": [
       "             Dose        SE\n",
       "p = 0.5: 6.156761 0.2978483"
      ]
     },
     "metadata": {},
     "output_type": "display_data"
    }
   ],
   "source": [
    "dose.p(modelo2,cf=1:2,p=0.5)"
   ]
  },
  {
   "cell_type": "code",
   "execution_count": 31,
   "metadata": {},
   "outputs": [
    {
     "data": {
      "text/plain": [
       "             Dose        SE\n",
       "p = 0.9: 9.558118 0.6202478"
      ]
     },
     "metadata": {},
     "output_type": "display_data"
    }
   ],
   "source": [
    "dose.p(modelo2,cf=1:2,p=0.9)"
   ]
  },
  {
   "cell_type": "code",
   "execution_count": 95,
   "metadata": {},
   "outputs": [
    {
     "data": {},
     "metadata": {},
     "output_type": "display_data"
    },
    {
     "data": {
      "image/png": "[encoded data removed]",
      "text/plain": [
       "plot without title"
      ]
     },
     "metadata": {},
     "output_type": "display_data"
    }
   ],
   "source": [
    "ggplot(dados)+aes(dose,modelo2$linear.predictors)+geom_point()+theme_bw()"
   ]
  },
  {
   "cell_type": "code",
   "execution_count": 33,
   "metadata": {},
   "outputs": [
    {
     "name": "stderr",
     "output_type": "stream",
     "text": [
      "Warning message in eval(family$initialize):\n",
      "\"non-integer #successes in a binomial glm!\"Warning message in eval(family$initialize):\n",
      "\"non-integer #successes in a binomial glm!\"Warning message in eval(family$initialize):\n",
      "\"non-integer #successes in a binomial glm!\""
     ]
    },
    {
     "data": {},
     "metadata": {},
     "output_type": "display_data"
    },
    {
     "data": {
      "image/png": "[encoded data removed]",
      "text/plain": [
       "plot without title"
      ]
     },
     "metadata": {},
     "output_type": "display_data"
    }
   ],
   "source": [
    "(ggplot(dados)+aes(dose,p)+geom_point()\n",
    "+geom_smooth(color=\"red\",method=glm, method.args = list(family = binomial(link=\"probit\")),se=F)\n",
    "+geom_smooth(color=\"blue\",method=glm, method.args = list(family = binomial(link=\"logit\")),se=F)\n",
    "+geom_smooth(color=\"green\",method=glm, method.args = list(family = binomial(link=\"cloglog\")),se=F))"
   ]
  },
  {
   "cell_type": "code",
   "execution_count": 34,
   "metadata": {},
   "outputs": [],
   "source": [
    "#Inseticidade BHC\n",
    "dose1=c(2,2.64,3.48,4.59,6.06,8)\n",
    "p1=c(2/50,14/49,20/50,27/50,41/50,40/50)\n",
    "m1=c(50,49,50,50,50,50)\n",
    "y1=p1*m1"
   ]
  },
  {
   "cell_type": "code",
   "execution_count": 35,
   "metadata": {},
   "outputs": [
    {
     "data": {
      "text/html": [
       "<table>\n",
       "<thead><tr><th scope=col>Sucessos</th><th scope=col>Fracassos</th></tr></thead>\n",
       "<tbody>\n",
       "\t<tr><td> 2</td><td>48</td></tr>\n",
       "\t<tr><td>14</td><td>35</td></tr>\n",
       "\t<tr><td>20</td><td>30</td></tr>\n",
       "\t<tr><td>27</td><td>23</td></tr>\n",
       "\t<tr><td>41</td><td> 9</td></tr>\n",
       "\t<tr><td>40</td><td>10</td></tr>\n",
       "</tbody>\n",
       "</table>\n"
      ],
      "text/latex": [
       "\\begin{tabular}{ll}\n",
       " Sucessos & Fracassos\\\\\n",
       "\\hline\n",
       "\t  2 & 48\\\\\n",
       "\t 14 & 35\\\\\n",
       "\t 20 & 30\\\\\n",
       "\t 27 & 23\\\\\n",
       "\t 41 &  9\\\\\n",
       "\t 40 & 10\\\\\n",
       "\\end{tabular}\n"
      ],
      "text/markdown": [
       "\n",
       "Sucessos | Fracassos | \n",
       "|---|---|---|---|---|---|\n",
       "|  2 | 48 | \n",
       "| 14 | 35 | \n",
       "| 20 | 30 | \n",
       "| 27 | 23 | \n",
       "| 41 |  9 | \n",
       "| 40 | 10 | \n",
       "\n",
       "\n"
      ],
      "text/plain": [
       "     Sucessos Fracassos\n",
       "[1,]  2       48       \n",
       "[2,] 14       35       \n",
       "[3,] 20       30       \n",
       "[4,] 27       23       \n",
       "[5,] 41        9       \n",
       "[6,] 40       10       "
      ]
     },
     "metadata": {},
     "output_type": "display_data"
    }
   ],
   "source": [
    "resp1=cbind(y1,m1-y1)\n",
    "colnames(resp1)=c(\"Sucessos\",\"Fracassos\")\n",
    "resp1"
   ]
  },
  {
   "cell_type": "code",
   "execution_count": 36,
   "metadata": {},
   "outputs": [
    {
     "data": {
      "text/html": [
       "<table>\n",
       "<thead><tr><th scope=col>dose1</th><th scope=col>p1</th><th scope=col>m1</th><th scope=col>y1</th></tr></thead>\n",
       "<tbody>\n",
       "\t<tr><td>2.00     </td><td>0.0400000</td><td>50       </td><td> 2       </td></tr>\n",
       "\t<tr><td>2.64     </td><td>0.2857143</td><td>49       </td><td>14       </td></tr>\n",
       "\t<tr><td>3.48     </td><td>0.4000000</td><td>50       </td><td>20       </td></tr>\n",
       "\t<tr><td>4.59     </td><td>0.5400000</td><td>50       </td><td>27       </td></tr>\n",
       "\t<tr><td>6.06     </td><td>0.8200000</td><td>50       </td><td>41       </td></tr>\n",
       "\t<tr><td>8.00     </td><td>0.8000000</td><td>50       </td><td>40       </td></tr>\n",
       "</tbody>\n",
       "</table>\n"
      ],
      "text/latex": [
       "\\begin{tabular}{r|llll}\n",
       " dose1 & p1 & m1 & y1\\\\\n",
       "\\hline\n",
       "\t 2.00      & 0.0400000 & 50        &  2       \\\\\n",
       "\t 2.64      & 0.2857143 & 49        & 14       \\\\\n",
       "\t 3.48      & 0.4000000 & 50        & 20       \\\\\n",
       "\t 4.59      & 0.5400000 & 50        & 27       \\\\\n",
       "\t 6.06      & 0.8200000 & 50        & 41       \\\\\n",
       "\t 8.00      & 0.8000000 & 50        & 40       \\\\\n",
       "\\end{tabular}\n"
      ],
      "text/markdown": [
       "\n",
       "dose1 | p1 | m1 | y1 | \n",
       "|---|---|---|---|---|---|\n",
       "| 2.00      | 0.0400000 | 50        |  2        | \n",
       "| 2.64      | 0.2857143 | 49        | 14        | \n",
       "| 3.48      | 0.4000000 | 50        | 20        | \n",
       "| 4.59      | 0.5400000 | 50        | 27        | \n",
       "| 6.06      | 0.8200000 | 50        | 41        | \n",
       "| 8.00      | 0.8000000 | 50        | 40        | \n",
       "\n",
       "\n"
      ],
      "text/plain": [
       "  dose1 p1        m1 y1\n",
       "1 2.00  0.0400000 50  2\n",
       "2 2.64  0.2857143 49 14\n",
       "3 3.48  0.4000000 50 20\n",
       "4 4.59  0.5400000 50 27\n",
       "5 6.06  0.8200000 50 41\n",
       "6 8.00  0.8000000 50 40"
      ]
     },
     "metadata": {},
     "output_type": "display_data"
    }
   ],
   "source": [
    "dados1=cbind(dose1,p1,m1,y1)\n",
    "dados1=data.frame(dados1);dados1"
   ]
  },
  {
   "cell_type": "code",
   "execution_count": 37,
   "metadata": {},
   "outputs": [
    {
     "data": {},
     "metadata": {},
     "output_type": "display_data"
    },
    {
     "data": {
      "image/png": "[encoded data removed]",
      "text/plain": [
       "plot without title"
      ]
     },
     "metadata": {},
     "output_type": "display_data"
    }
   ],
   "source": [
    "#Análise exploratória \n",
    "ggplot(dados1)+aes(dose1,p1)+geom_point()"
   ]
  },
  {
   "cell_type": "code",
   "execution_count": 38,
   "metadata": {},
   "outputs": [
    {
     "data": {
      "text/plain": [
       "\n",
       "Call:  glm(formula = resp1 ~ dose1, family = binomial(link = \"probit\"))\n",
       "\n",
       "Coefficients:\n",
       "(Intercept)        dose1  \n",
       "    -1.6812       0.3672  \n",
       "\n",
       "Degrees of Freedom: 5 Total (i.e. Null);  4 Residual\n",
       "Null Deviance:\t    105.2 \n",
       "Residual Deviance: 17.29 \tAIC: 44.51"
      ]
     },
     "metadata": {},
     "output_type": "display_data"
    }
   ],
   "source": [
    "modelo3=glm(resp1~dose1,family = binomial(link=\"probit\"))\n",
    "modelo3"
   ]
  },
  {
   "cell_type": "code",
   "execution_count": 39,
   "metadata": {},
   "outputs": [
    {
     "data": {
      "text/plain": [
       "\n",
       "Call:\n",
       "glm(formula = resp1 ~ dose1, family = binomial(link = \"probit\"))\n",
       "\n",
       "Deviance Residuals: \n",
       "      1        2        3        4        5        6  \n",
       "-2.8901   0.7633   0.8343   0.5426   1.8445  -1.9900  \n",
       "\n",
       "Coefficients:\n",
       "            Estimate Std. Error z value Pr(>|z|)    \n",
       "(Intercept)  -1.6812     0.2021  -8.318   <2e-16 ***\n",
       "dose1         0.3672     0.0429   8.560   <2e-16 ***\n",
       "---\n",
       "Signif. codes:  0 '***' 0.001 '**' 0.01 '*' 0.05 '.' 0.1 ' ' 1\n",
       "\n",
       "(Dispersion parameter for binomial family taken to be 1)\n",
       "\n",
       "    Null deviance: 105.197  on 5  degrees of freedom\n",
       "Residual deviance:  17.288  on 4  degrees of freedom\n",
       "AIC: 44.506\n",
       "\n",
       "Number of Fisher Scoring iterations: 5\n"
      ]
     },
     "metadata": {},
     "output_type": "display_data"
    }
   ],
   "source": [
    "summary(modelo3)"
   ]
  },
  {
   "cell_type": "code",
   "execution_count": 40,
   "metadata": {},
   "outputs": [
    {
     "data": {
      "text/html": [
       "<table>\n",
       "<thead><tr><th></th><th scope=col>(Intercept)</th><th scope=col>dose1</th></tr></thead>\n",
       "<tbody>\n",
       "\t<tr><th scope=row>1</th><td>1   </td><td>2.00</td></tr>\n",
       "\t<tr><th scope=row>2</th><td>1   </td><td>2.64</td></tr>\n",
       "\t<tr><th scope=row>3</th><td>1   </td><td>3.48</td></tr>\n",
       "\t<tr><th scope=row>4</th><td>1   </td><td>4.59</td></tr>\n",
       "\t<tr><th scope=row>5</th><td>1   </td><td>6.06</td></tr>\n",
       "\t<tr><th scope=row>6</th><td>1   </td><td>8.00</td></tr>\n",
       "</tbody>\n",
       "</table>\n"
      ],
      "text/latex": [
       "\\begin{tabular}{r|ll}\n",
       "  & (Intercept) & dose1\\\\\n",
       "\\hline\n",
       "\t1 & 1    & 2.00\\\\\n",
       "\t2 & 1    & 2.64\\\\\n",
       "\t3 & 1    & 3.48\\\\\n",
       "\t4 & 1    & 4.59\\\\\n",
       "\t5 & 1    & 6.06\\\\\n",
       "\t6 & 1    & 8.00\\\\\n",
       "\\end{tabular}\n"
      ],
      "text/markdown": [
       "\n",
       "| <!--/--> | (Intercept) | dose1 | \n",
       "|---|---|---|---|---|---|\n",
       "| 1 | 1    | 2.00 | \n",
       "| 2 | 1    | 2.64 | \n",
       "| 3 | 1    | 3.48 | \n",
       "| 4 | 1    | 4.59 | \n",
       "| 5 | 1    | 6.06 | \n",
       "| 6 | 1    | 8.00 | \n",
       "\n",
       "\n"
      ],
      "text/plain": [
       "  (Intercept) dose1\n",
       "1 1           2.00 \n",
       "2 1           2.64 \n",
       "3 1           3.48 \n",
       "4 1           4.59 \n",
       "5 1           6.06 \n",
       "6 1           8.00 "
      ]
     },
     "metadata": {},
     "output_type": "display_data"
    }
   ],
   "source": [
    "model.matrix(modelo3)"
   ]
  },
  {
   "cell_type": "code",
   "execution_count": 41,
   "metadata": {},
   "outputs": [
    {
     "data": {
      "text/html": [
       "<dl class=dl-horizontal>\n",
       "\t<dt>(Intercept)</dt>\n",
       "\t\t<dd>-1.68123936656158</dd>\n",
       "\t<dt>dose1</dt>\n",
       "\t\t<dd>0.36718800984473</dd>\n",
       "</dl>\n"
      ],
      "text/latex": [
       "\\begin{description*}\n",
       "\\item[(Intercept)] -1.68123936656158\n",
       "\\item[dose1] 0.36718800984473\n",
       "\\end{description*}\n"
      ],
      "text/markdown": [
       "(Intercept)\n",
       ":   -1.68123936656158dose1\n",
       ":   0.36718800984473\n",
       "\n"
      ],
      "text/plain": [
       "(Intercept)       dose1 \n",
       "  -1.681239    0.367188 "
      ]
     },
     "metadata": {},
     "output_type": "display_data"
    }
   ],
   "source": [
    "modelo3$coefficients"
   ]
  },
  {
   "cell_type": "code",
   "execution_count": 42,
   "metadata": {},
   "outputs": [
    {
     "data": {
      "text/html": [
       "<dl class=dl-horizontal>\n",
       "\t<dt>1</dt>\n",
       "\t\t<dd>0.171854208615391</dd>\n",
       "\t<dt>2</dt>\n",
       "\t\t<dd>0.238274801607215</dd>\n",
       "\t<dt>3</dt>\n",
       "\t\t<dd>0.343317765290673</dd>\n",
       "\t<dt>4</dt>\n",
       "\t\t<dd>0.501657041342969</dd>\n",
       "\t<dt>5</dt>\n",
       "\t\t<dd>0.706751728020753</dd>\n",
       "\t<dt>6</dt>\n",
       "\t\t<dd>0.895489994292716</dd>\n",
       "</dl>\n"
      ],
      "text/latex": [
       "\\begin{description*}\n",
       "\\item[1] 0.171854208615391\n",
       "\\item[2] 0.238274801607215\n",
       "\\item[3] 0.343317765290673\n",
       "\\item[4] 0.501657041342969\n",
       "\\item[5] 0.706751728020753\n",
       "\\item[6] 0.895489994292716\n",
       "\\end{description*}\n"
      ],
      "text/markdown": [
       "1\n",
       ":   0.1718542086153912\n",
       ":   0.2382748016072153\n",
       ":   0.3433177652906734\n",
       ":   0.5016570413429695\n",
       ":   0.7067517280207536\n",
       ":   0.895489994292716\n",
       "\n"
      ],
      "text/plain": [
       "        1         2         3         4         5         6 \n",
       "0.1718542 0.2382748 0.3433178 0.5016570 0.7067517 0.8954900 "
      ]
     },
     "metadata": {},
     "output_type": "display_data"
    }
   ],
   "source": [
    "modelo3$fitted.values"
   ]
  },
  {
   "cell_type": "code",
   "execution_count": 43,
   "metadata": {},
   "outputs": [
    {
     "data": {
      "text/html": [
       "<dl class=dl-horizontal>\n",
       "\t<dt>1</dt>\n",
       "\t\t<dd>-0.946863346872119</dd>\n",
       "\t<dt>2</dt>\n",
       "\t\t<dd>-0.711863020571492</dd>\n",
       "\t<dt>3</dt>\n",
       "\t\t<dd>-0.403425092301919</dd>\n",
       "\t<dt>4</dt>\n",
       "\t\t<dd>0.00415359862573152</dd>\n",
       "\t<dt>5</dt>\n",
       "\t\t<dd>0.543919973097484</dd>\n",
       "\t<dt>6</dt>\n",
       "\t\t<dd>1.25626471219626</dd>\n",
       "</dl>\n"
      ],
      "text/latex": [
       "\\begin{description*}\n",
       "\\item[1] -0.946863346872119\n",
       "\\item[2] -0.711863020571492\n",
       "\\item[3] -0.403425092301919\n",
       "\\item[4] 0.00415359862573152\n",
       "\\item[5] 0.543919973097484\n",
       "\\item[6] 1.25626471219626\n",
       "\\end{description*}\n"
      ],
      "text/markdown": [
       "1\n",
       ":   -0.9468633468721192\n",
       ":   -0.7118630205714923\n",
       ":   -0.4034250923019194\n",
       ":   0.004153598625731525\n",
       ":   0.5439199730974846\n",
       ":   1.25626471219626\n",
       "\n"
      ],
      "text/plain": [
       "           1            2            3            4            5            6 \n",
       "-0.946863347 -0.711863021 -0.403425092  0.004153599  0.543919973  1.256264712 "
      ]
     },
     "metadata": {},
     "output_type": "display_data"
    }
   ],
   "source": [
    "modelo3$linear.predictors"
   ]
  },
  {
   "cell_type": "code",
   "execution_count": 44,
   "metadata": {},
   "outputs": [
    {
     "data": {
      "text/html": [
       "<dl class=dl-horizontal>\n",
       "\t<dt>1</dt>\n",
       "\t\t<dd>-0.517448738420998</dd>\n",
       "\t<dt>2</dt>\n",
       "\t\t<dd>0.15320362106527</dd>\n",
       "\t<dt>3</dt>\n",
       "\t\t<dd>0.154126743947325</dd>\n",
       "\t<dt>4</dt>\n",
       "\t\t<dd>0.0961123733828149</dd>\n",
       "\t<dt>5</dt>\n",
       "\t\t<dd>0.329127596721158</dd>\n",
       "\t<dt>6</dt>\n",
       "\t\t<dd>-0.526926208519708</dd>\n",
       "</dl>\n"
      ],
      "text/latex": [
       "\\begin{description*}\n",
       "\\item[1] -0.517448738420998\n",
       "\\item[2] 0.15320362106527\n",
       "\\item[3] 0.154126743947325\n",
       "\\item[4] 0.0961123733828149\n",
       "\\item[5] 0.329127596721158\n",
       "\\item[6] -0.526926208519708\n",
       "\\end{description*}\n"
      ],
      "text/markdown": [
       "1\n",
       ":   -0.5174487384209982\n",
       ":   0.153203621065273\n",
       ":   0.1541267439473254\n",
       ":   0.09611237338281495\n",
       ":   0.3291275967211586\n",
       ":   -0.526926208519708\n",
       "\n"
      ],
      "text/plain": [
       "          1           2           3           4           5           6 \n",
       "-0.51744874  0.15320362  0.15412674  0.09611237  0.32912760 -0.52692621 "
      ]
     },
     "metadata": {},
     "output_type": "display_data"
    }
   ],
   "source": [
    "modelo3$residuals"
   ]
  },
  {
   "cell_type": "code",
   "execution_count": 45,
   "metadata": {},
   "outputs": [
    {
     "data": {
      "text/plain": [
       "             Dose        SE\n",
       "p = 0.5: 4.578688 0.2195681"
      ]
     },
     "metadata": {},
     "output_type": "display_data"
    },
    {
     "data": {
      "text/plain": [
       "             Dose       SE\n",
       "p = 0.9: 8.068866 0.488219"
      ]
     },
     "metadata": {},
     "output_type": "display_data"
    }
   ],
   "source": [
    "dose.p(modelo3,cf=1:2,p=0.5)\n",
    "dose.p(modelo3,cf=1:2,p=0.9)"
   ]
  },
  {
   "cell_type": "code",
   "execution_count": 96,
   "metadata": {},
   "outputs": [
    {
     "data": {},
     "metadata": {},
     "output_type": "display_data"
    },
    {
     "data": {
      "image/png": "[encoded data removed]",
      "text/plain": [
       "plot without title"
      ]
     },
     "metadata": {},
     "output_type": "display_data"
    }
   ],
   "source": [
    "ggplot(dados)+aes(dose,modelo3$linear.predictors)+geom_point()+theme_bw()"
   ]
  },
  {
   "cell_type": "code",
   "execution_count": 46,
   "metadata": {},
   "outputs": [
    {
     "data": {
      "text/plain": [
       "\n",
       "Call:  glm(formula = resp1 ~ dose1, family = binomial(link = \"logit\"))\n",
       "\n",
       "Coefficients:\n",
       "(Intercept)        dose1  \n",
       "    -2.8109       0.6221  \n",
       "\n",
       "Degrees of Freedom: 5 Total (i.e. Null);  4 Residual\n",
       "Null Deviance:\t    105.2 \n",
       "Residual Deviance: 16.59 \tAIC: 43.81"
      ]
     },
     "metadata": {},
     "output_type": "display_data"
    }
   ],
   "source": [
    "modelo4=glm(resp1~dose1,family = binomial(link=\"logit\"))\n",
    "modelo4"
   ]
  },
  {
   "cell_type": "code",
   "execution_count": 47,
   "metadata": {},
   "outputs": [
    {
     "data": {
      "text/plain": [
       "\n",
       "Call:\n",
       "glm(formula = resp1 ~ dose1, family = binomial(link = \"logit\"))\n",
       "\n",
       "Deviance Residuals: \n",
       "      1        2        3        4        5        6  \n",
       "-2.9032   0.7831   0.8261   0.4092   1.6031  -2.0320  \n",
       "\n",
       "Coefficients:\n",
       "            Estimate Std. Error z value Pr(>|z|)    \n",
       "(Intercept) -2.81091    0.35845  -7.842 4.44e-15 ***\n",
       "dose1        0.62207    0.07786   7.990 1.35e-15 ***\n",
       "---\n",
       "Signif. codes:  0 '***' 0.001 '**' 0.01 '*' 0.05 '.' 0.1 ' ' 1\n",
       "\n",
       "(Dispersion parameter for binomial family taken to be 1)\n",
       "\n",
       "    Null deviance: 105.20  on 5  degrees of freedom\n",
       "Residual deviance:  16.59  on 4  degrees of freedom\n",
       "AIC: 43.809\n",
       "\n",
       "Number of Fisher Scoring iterations: 4\n"
      ]
     },
     "metadata": {},
     "output_type": "display_data"
    }
   ],
   "source": [
    "summary(modelo4)"
   ]
  },
  {
   "cell_type": "code",
   "execution_count": 48,
   "metadata": {},
   "outputs": [
    {
     "data": {
      "text/html": [
       "<table>\n",
       "<thead><tr><th></th><th scope=col>(Intercept)</th><th scope=col>dose1</th></tr></thead>\n",
       "<tbody>\n",
       "\t<tr><th scope=row>1</th><td>1   </td><td>2.00</td></tr>\n",
       "\t<tr><th scope=row>2</th><td>1   </td><td>2.64</td></tr>\n",
       "\t<tr><th scope=row>3</th><td>1   </td><td>3.48</td></tr>\n",
       "\t<tr><th scope=row>4</th><td>1   </td><td>4.59</td></tr>\n",
       "\t<tr><th scope=row>5</th><td>1   </td><td>6.06</td></tr>\n",
       "\t<tr><th scope=row>6</th><td>1   </td><td>8.00</td></tr>\n",
       "</tbody>\n",
       "</table>\n"
      ],
      "text/latex": [
       "\\begin{tabular}{r|ll}\n",
       "  & (Intercept) & dose1\\\\\n",
       "\\hline\n",
       "\t1 & 1    & 2.00\\\\\n",
       "\t2 & 1    & 2.64\\\\\n",
       "\t3 & 1    & 3.48\\\\\n",
       "\t4 & 1    & 4.59\\\\\n",
       "\t5 & 1    & 6.06\\\\\n",
       "\t6 & 1    & 8.00\\\\\n",
       "\\end{tabular}\n"
      ],
      "text/markdown": [
       "\n",
       "| <!--/--> | (Intercept) | dose1 | \n",
       "|---|---|---|---|---|---|\n",
       "| 1 | 1    | 2.00 | \n",
       "| 2 | 1    | 2.64 | \n",
       "| 3 | 1    | 3.48 | \n",
       "| 4 | 1    | 4.59 | \n",
       "| 5 | 1    | 6.06 | \n",
       "| 6 | 1    | 8.00 | \n",
       "\n",
       "\n"
      ],
      "text/plain": [
       "  (Intercept) dose1\n",
       "1 1           2.00 \n",
       "2 1           2.64 \n",
       "3 1           3.48 \n",
       "4 1           4.59 \n",
       "5 1           6.06 \n",
       "6 1           8.00 "
      ]
     },
     "metadata": {},
     "output_type": "display_data"
    }
   ],
   "source": [
    "model.matrix(modelo4)"
   ]
  },
  {
   "cell_type": "code",
   "execution_count": 49,
   "metadata": {},
   "outputs": [
    {
     "data": {
      "text/html": [
       "<dl class=dl-horizontal>\n",
       "\t<dt>(Intercept)</dt>\n",
       "\t\t<dd>-2.8109052537143</dd>\n",
       "\t<dt>dose1</dt>\n",
       "\t\t<dd>0.622066880664274</dd>\n",
       "</dl>\n"
      ],
      "text/latex": [
       "\\begin{description*}\n",
       "\\item[(Intercept)] -2.8109052537143\n",
       "\\item[dose1] 0.622066880664274\n",
       "\\end{description*}\n"
      ],
      "text/markdown": [
       "(Intercept)\n",
       ":   -2.8109052537143dose1\n",
       ":   0.622066880664274\n",
       "\n"
      ],
      "text/plain": [
       "(Intercept)       dose1 \n",
       " -2.8109053   0.6220669 "
      ]
     },
     "metadata": {},
     "output_type": "display_data"
    }
   ],
   "source": [
    "modelo4$coefficients"
   ]
  },
  {
   "cell_type": "code",
   "execution_count": 50,
   "metadata": {},
   "outputs": [
    {
     "data": {
      "text/html": [
       "<dl class=dl-horizontal>\n",
       "\t<dt>1</dt>\n",
       "\t\t<dd>0.172677128194386</dd>\n",
       "\t<dt>2</dt>\n",
       "\t\t<dd>0.237099326980611</dd>\n",
       "\t<dt>3</dt>\n",
       "\t\t<dd>0.343866108473049</dd>\n",
       "\t<dt>4</dt>\n",
       "\t\t<dd>0.511093611234649</dd>\n",
       "\t<dt>5</dt>\n",
       "\t\t<dd>0.722885495910398</dd>\n",
       "\t<dt>6</dt>\n",
       "\t\t<dd>0.897120315624473</dd>\n",
       "</dl>\n"
      ],
      "text/latex": [
       "\\begin{description*}\n",
       "\\item[1] 0.172677128194386\n",
       "\\item[2] 0.237099326980611\n",
       "\\item[3] 0.343866108473049\n",
       "\\item[4] 0.511093611234649\n",
       "\\item[5] 0.722885495910398\n",
       "\\item[6] 0.897120315624473\n",
       "\\end{description*}\n"
      ],
      "text/markdown": [
       "1\n",
       ":   0.1726771281943862\n",
       ":   0.2370993269806113\n",
       ":   0.3438661084730494\n",
       ":   0.5110936112346495\n",
       ":   0.7228854959103986\n",
       ":   0.897120315624473\n",
       "\n"
      ],
      "text/plain": [
       "        1         2         3         4         5         6 \n",
       "0.1726771 0.2370993 0.3438661 0.5110936 0.7228855 0.8971203 "
      ]
     },
     "metadata": {},
     "output_type": "display_data"
    }
   ],
   "source": [
    "modelo4$fitted.values"
   ]
  },
  {
   "cell_type": "code",
   "execution_count": 51,
   "metadata": {},
   "outputs": [
    {
     "data": {
      "text/html": [
       "<dl class=dl-horizontal>\n",
       "\t<dt>1</dt>\n",
       "\t\t<dd>-1.56677149238575</dd>\n",
       "\t<dt>2</dt>\n",
       "\t\t<dd>-1.16864868876062</dd>\n",
       "\t<dt>3</dt>\n",
       "\t\t<dd>-0.646112509002627</dd>\n",
       "\t<dt>4</dt>\n",
       "\t\t<dd>0.0443817285347173</dd>\n",
       "\t<dt>5</dt>\n",
       "\t\t<dd>0.9588200431112</dd>\n",
       "\t<dt>6</dt>\n",
       "\t\t<dd>2.16562979159989</dd>\n",
       "</dl>\n"
      ],
      "text/latex": [
       "\\begin{description*}\n",
       "\\item[1] -1.56677149238575\n",
       "\\item[2] -1.16864868876062\n",
       "\\item[3] -0.646112509002627\n",
       "\\item[4] 0.0443817285347173\n",
       "\\item[5] 0.9588200431112\n",
       "\\item[6] 2.16562979159989\n",
       "\\end{description*}\n"
      ],
      "text/markdown": [
       "1\n",
       ":   -1.566771492385752\n",
       ":   -1.168648688760623\n",
       ":   -0.6461125090026274\n",
       ":   0.04438172853471735\n",
       ":   0.95882004311126\n",
       ":   2.16562979159989\n",
       "\n"
      ],
      "text/plain": [
       "          1           2           3           4           5           6 \n",
       "-1.56677149 -1.16864869 -0.64611251  0.04438173  0.95882004  2.16562979 "
      ]
     },
     "metadata": {},
     "output_type": "display_data"
    }
   ],
   "source": [
    "modelo4$linear.predictors"
   ]
  },
  {
   "cell_type": "code",
   "execution_count": 52,
   "metadata": {},
   "outputs": [
    {
     "data": {
      "text/html": [
       "<dl class=dl-horizontal>\n",
       "\t<dt>1</dt>\n",
       "\t\t<dd>-0.928723028824576</dd>\n",
       "\t<dt>2</dt>\n",
       "\t\t<dd>0.268764313238092</dd>\n",
       "\t<dt>3</dt>\n",
       "\t\t<dd>0.24879594985476</dd>\n",
       "\t<dt>4</dt>\n",
       "\t\t<dd>0.115682502415512</dd>\n",
       "\t<dt>5</dt>\n",
       "\t\t<dd>0.484791870491016</dd>\n",
       "\t<dt>6</dt>\n",
       "\t\t<dd>-1.05227625466957</dd>\n",
       "</dl>\n"
      ],
      "text/latex": [
       "\\begin{description*}\n",
       "\\item[1] -0.928723028824576\n",
       "\\item[2] 0.268764313238092\n",
       "\\item[3] 0.24879594985476\n",
       "\\item[4] 0.115682502415512\n",
       "\\item[5] 0.484791870491016\n",
       "\\item[6] -1.05227625466957\n",
       "\\end{description*}\n"
      ],
      "text/markdown": [
       "1\n",
       ":   -0.9287230288245762\n",
       ":   0.2687643132380923\n",
       ":   0.248795949854764\n",
       ":   0.1156825024155125\n",
       ":   0.4847918704910166\n",
       ":   -1.05227625466957\n",
       "\n"
      ],
      "text/plain": [
       "         1          2          3          4          5          6 \n",
       "-0.9287230  0.2687643  0.2487959  0.1156825  0.4847919 -1.0522763 "
      ]
     },
     "metadata": {},
     "output_type": "display_data"
    }
   ],
   "source": [
    "modelo4$residuals"
   ]
  },
  {
   "cell_type": "code",
   "execution_count": 53,
   "metadata": {},
   "outputs": [
    {
     "data": {
      "text/plain": [
       "             Dose        SE\n",
       "p = 0.5: 4.518654 0.2202814"
      ]
     },
     "metadata": {},
     "output_type": "display_data"
    },
    {
     "data": {
      "text/plain": [
       "            Dose        SE\n",
       "p = 0.9: 8.05079 0.5218674"
      ]
     },
     "metadata": {},
     "output_type": "display_data"
    }
   ],
   "source": [
    "dose.p(modelo4,cf=1:2,p=0.5)\n",
    "dose.p(modelo4,cf=1:2,p=0.9)"
   ]
  },
  {
   "cell_type": "code",
   "execution_count": 97,
   "metadata": {},
   "outputs": [
    {
     "data": {},
     "metadata": {},
     "output_type": "display_data"
    },
    {
     "data": {
      "image/png": "[encoded data removed]",
      "text/plain": [
       "plot without title"
      ]
     },
     "metadata": {},
     "output_type": "display_data"
    }
   ],
   "source": [
    "ggplot(dados)+aes(dose,modelo4$linear.predictors)+geom_point()+theme_bw()"
   ]
  },
  {
   "cell_type": "code",
   "execution_count": 54,
   "metadata": {},
   "outputs": [
    {
     "data": {
      "text/plain": [
       "\n",
       "Call:  glm(formula = resp1 ~ dose1, family = binomial(link = \"cloglog\"))\n",
       "\n",
       "Coefficients:\n",
       "(Intercept)        dose1  \n",
       "    -2.1308       0.3665  \n",
       "\n",
       "Degrees of Freedom: 5 Total (i.e. Null);  4 Residual\n",
       "Null Deviance:\t    105.2 \n",
       "Residual Deviance: 24.25 \tAIC: 51.47"
      ]
     },
     "metadata": {},
     "output_type": "display_data"
    }
   ],
   "source": [
    "modelo5=glm(resp1~dose1,family = binomial(link=\"cloglog\"))\n",
    "modelo5"
   ]
  },
  {
   "cell_type": "code",
   "execution_count": 55,
   "metadata": {},
   "outputs": [
    {
     "data": {
      "text/plain": [
       "\n",
       "Call:\n",
       "glm(formula = resp1 ~ dose1, family = binomial(link = \"cloglog\"))\n",
       "\n",
       "Deviance Residuals: \n",
       "      1        2        3        4        5        6  \n",
       "-3.6064   0.2723   0.7893   0.9632   2.4459  -1.9081  \n",
       "\n",
       "Coefficients:\n",
       "            Estimate Std. Error z value Pr(>|z|)    \n",
       "(Intercept) -2.13077    0.24594  -8.664   <2e-16 ***\n",
       "dose1        0.36649    0.04414   8.303   <2e-16 ***\n",
       "---\n",
       "Signif. codes:  0 '***' 0.001 '**' 0.01 '*' 0.05 '.' 0.1 ' ' 1\n",
       "\n",
       "(Dispersion parameter for binomial family taken to be 1)\n",
       "\n",
       "    Null deviance: 105.197  on 5  degrees of freedom\n",
       "Residual deviance:  24.255  on 4  degrees of freedom\n",
       "AIC: 51.473\n",
       "\n",
       "Number of Fisher Scoring iterations: 6\n"
      ]
     },
     "metadata": {},
     "output_type": "display_data"
    }
   ],
   "source": [
    "summary(modelo5)"
   ]
  },
  {
   "cell_type": "code",
   "execution_count": 56,
   "metadata": {},
   "outputs": [
    {
     "data": {
      "text/html": [
       "<table>\n",
       "<thead><tr><th></th><th scope=col>(Intercept)</th><th scope=col>dose1</th></tr></thead>\n",
       "<tbody>\n",
       "\t<tr><th scope=row>1</th><td>1   </td><td>2.00</td></tr>\n",
       "\t<tr><th scope=row>2</th><td>1   </td><td>2.64</td></tr>\n",
       "\t<tr><th scope=row>3</th><td>1   </td><td>3.48</td></tr>\n",
       "\t<tr><th scope=row>4</th><td>1   </td><td>4.59</td></tr>\n",
       "\t<tr><th scope=row>5</th><td>1   </td><td>6.06</td></tr>\n",
       "\t<tr><th scope=row>6</th><td>1   </td><td>8.00</td></tr>\n",
       "</tbody>\n",
       "</table>\n"
      ],
      "text/latex": [
       "\\begin{tabular}{r|ll}\n",
       "  & (Intercept) & dose1\\\\\n",
       "\\hline\n",
       "\t1 & 1    & 2.00\\\\\n",
       "\t2 & 1    & 2.64\\\\\n",
       "\t3 & 1    & 3.48\\\\\n",
       "\t4 & 1    & 4.59\\\\\n",
       "\t5 & 1    & 6.06\\\\\n",
       "\t6 & 1    & 8.00\\\\\n",
       "\\end{tabular}\n"
      ],
      "text/markdown": [
       "\n",
       "| <!--/--> | (Intercept) | dose1 | \n",
       "|---|---|---|---|---|---|\n",
       "| 1 | 1    | 2.00 | \n",
       "| 2 | 1    | 2.64 | \n",
       "| 3 | 1    | 3.48 | \n",
       "| 4 | 1    | 4.59 | \n",
       "| 5 | 1    | 6.06 | \n",
       "| 6 | 1    | 8.00 | \n",
       "\n",
       "\n"
      ],
      "text/plain": [
       "  (Intercept) dose1\n",
       "1 1           2.00 \n",
       "2 1           2.64 \n",
       "3 1           3.48 \n",
       "4 1           4.59 \n",
       "5 1           6.06 \n",
       "6 1           8.00 "
      ]
     },
     "metadata": {},
     "output_type": "display_data"
    }
   ],
   "source": [
    "model.matrix(modelo5)"
   ]
  },
  {
   "cell_type": "code",
   "execution_count": 57,
   "metadata": {},
   "outputs": [
    {
     "data": {
      "text/html": [
       "<dl class=dl-horizontal>\n",
       "\t<dt>(Intercept)</dt>\n",
       "\t\t<dd>-2.13077209610614</dd>\n",
       "\t<dt>dose1</dt>\n",
       "\t\t<dd>0.366489541100394</dd>\n",
       "</dl>\n"
      ],
      "text/latex": [
       "\\begin{description*}\n",
       "\\item[(Intercept)] -2.13077209610614\n",
       "\\item[dose1] 0.366489541100394\n",
       "\\end{description*}\n"
      ],
      "text/markdown": [
       "(Intercept)\n",
       ":   -2.13077209610614dose1\n",
       ":   0.366489541100394\n",
       "\n"
      ],
      "text/plain": [
       "(Intercept)       dose1 \n",
       " -2.1307721   0.3664895 "
      ]
     },
     "metadata": {},
     "output_type": "display_data"
    }
   ],
   "source": [
    "modelo5$coefficients"
   ]
  },
  {
   "cell_type": "code",
   "execution_count": 58,
   "metadata": {},
   "outputs": [
    {
     "data": {
      "text/html": [
       "<dl class=dl-horizontal>\n",
       "\t<dt>1</dt>\n",
       "\t\t<dd>0.218970065158621</dd>\n",
       "\t<dt>2</dt>\n",
       "\t\t<dd>0.26836404698179</dd>\n",
       "\t<dt>3</dt>\n",
       "\t\t<dd>0.346307357504142</dd>\n",
       "\t<dt>4</dt>\n",
       "\t\t<dd>0.471932397626912</dd>\n",
       "\t<dt>5</dt>\n",
       "\t\t<dd>0.665240652782349</dd>\n",
       "\t<dt>6</dt>\n",
       "\t\t<dd>0.892265878234533</dd>\n",
       "</dl>\n"
      ],
      "text/latex": [
       "\\begin{description*}\n",
       "\\item[1] 0.218970065158621\n",
       "\\item[2] 0.26836404698179\n",
       "\\item[3] 0.346307357504142\n",
       "\\item[4] 0.471932397626912\n",
       "\\item[5] 0.665240652782349\n",
       "\\item[6] 0.892265878234533\n",
       "\\end{description*}\n"
      ],
      "text/markdown": [
       "1\n",
       ":   0.2189700651586212\n",
       ":   0.268364046981793\n",
       ":   0.3463073575041424\n",
       ":   0.4719323976269125\n",
       ":   0.6652406527823496\n",
       ":   0.892265878234533\n",
       "\n"
      ],
      "text/plain": [
       "        1         2         3         4         5         6 \n",
       "0.2189701 0.2683640 0.3463074 0.4719324 0.6652407 0.8922659 "
      ]
     },
     "metadata": {},
     "output_type": "display_data"
    }
   ],
   "source": [
    "modelo5$fitted.values"
   ]
  },
  {
   "cell_type": "code",
   "execution_count": 59,
   "metadata": {},
   "outputs": [
    {
     "data": {
      "text/html": [
       "<dl class=dl-horizontal>\n",
       "\t<dt>1</dt>\n",
       "\t\t<dd>-1.39779301390535</dd>\n",
       "\t<dt>2</dt>\n",
       "\t\t<dd>-1.1632397076011</dd>\n",
       "\t<dt>3</dt>\n",
       "\t\t<dd>-0.855388493076767</dd>\n",
       "\t<dt>4</dt>\n",
       "\t\t<dd>-0.44858510245533</dd>\n",
       "\t<dt>5</dt>\n",
       "\t\t<dd>0.0901545229622489</dd>\n",
       "\t<dt>6</dt>\n",
       "\t\t<dd>0.801144232697013</dd>\n",
       "</dl>\n"
      ],
      "text/latex": [
       "\\begin{description*}\n",
       "\\item[1] -1.39779301390535\n",
       "\\item[2] -1.1632397076011\n",
       "\\item[3] -0.855388493076767\n",
       "\\item[4] -0.44858510245533\n",
       "\\item[5] 0.0901545229622489\n",
       "\\item[6] 0.801144232697013\n",
       "\\end{description*}\n"
      ],
      "text/markdown": [
       "1\n",
       ":   -1.397793013905352\n",
       ":   -1.16323970760113\n",
       ":   -0.8553884930767674\n",
       ":   -0.448585102455335\n",
       ":   0.09015452296224896\n",
       ":   0.801144232697013\n",
       "\n"
      ],
      "text/plain": [
       "          1           2           3           4           5           6 \n",
       "-1.39779301 -1.16323971 -0.85538849 -0.44858510  0.09015452  0.80114423 "
      ]
     },
     "metadata": {},
     "output_type": "display_data"
    }
   ],
   "source": [
    "modelo5$linear.predictors"
   ]
  },
  {
   "cell_type": "code",
   "execution_count": 60,
   "metadata": {},
   "outputs": [
    {
     "data": {
      "text/html": [
       "<dl class=dl-horizontal>\n",
       "\t<dt>1</dt>\n",
       "\t\t<dd>-0.927185240020219</dd>\n",
       "\t<dt>2</dt>\n",
       "\t\t<dd>0.0758925249747936</dd>\n",
       "\t<dt>3</dt>\n",
       "\t\t<dd>0.193210926884137</dd>\n",
       "\t<dt>4</dt>\n",
       "\t\t<dd>0.201868689694397</dd>\n",
       "\t<dt>5</dt>\n",
       "\t\t<dd>0.422445380134262</dd>\n",
       "\t<dt>6</dt>\n",
       "\t\t<dd>-0.384375169623823</dd>\n",
       "</dl>\n"
      ],
      "text/latex": [
       "\\begin{description*}\n",
       "\\item[1] -0.927185240020219\n",
       "\\item[2] 0.0758925249747936\n",
       "\\item[3] 0.193210926884137\n",
       "\\item[4] 0.201868689694397\n",
       "\\item[5] 0.422445380134262\n",
       "\\item[6] -0.384375169623823\n",
       "\\end{description*}\n"
      ],
      "text/markdown": [
       "1\n",
       ":   -0.9271852400202192\n",
       ":   0.07589252497479363\n",
       ":   0.1932109268841374\n",
       ":   0.2018686896943975\n",
       ":   0.4224453801342626\n",
       ":   -0.384375169623823\n",
       "\n"
      ],
      "text/plain": [
       "          1           2           3           4           5           6 \n",
       "-0.92718524  0.07589252  0.19321093  0.20186869  0.42244538 -0.38437517 "
      ]
     },
     "metadata": {},
     "output_type": "display_data"
    }
   ],
   "source": [
    "modelo5$residuals"
   ]
  },
  {
   "cell_type": "code",
   "execution_count": 61,
   "metadata": {},
   "outputs": [
    {
     "data": {
      "text/plain": [
       "             Dose        SE\n",
       "p = 0.5: 4.813941 0.2491998"
      ]
     },
     "metadata": {},
     "output_type": "display_data"
    },
    {
     "data": {
      "text/plain": [
       "             Dose        SE\n",
       "p = 0.9: 8.089738 0.4270381"
      ]
     },
     "metadata": {},
     "output_type": "display_data"
    }
   ],
   "source": [
    "dose.p(modelo5,cf=1:2,p=0.5)\n",
    "dose.p(modelo5,cf=1:2,p=0.9)"
   ]
  },
  {
   "cell_type": "code",
   "execution_count": 98,
   "metadata": {},
   "outputs": [
    {
     "data": {},
     "metadata": {},
     "output_type": "display_data"
    },
    {
     "data": {
      "image/png": "[encoded data removed]",
      "text/plain": [
       "plot without title"
      ]
     },
     "metadata": {},
     "output_type": "display_data"
    }
   ],
   "source": [
    "ggplot(dados)+aes(dose,modelo5$linear.predictors)+geom_point()+theme_bw()"
   ]
  },
  {
   "cell_type": "code",
   "execution_count": 63,
   "metadata": {},
   "outputs": [
    {
     "name": "stderr",
     "output_type": "stream",
     "text": [
      "Warning message in eval(family$initialize):\n",
      "\"non-integer #successes in a binomial glm!\"Warning message in eval(family$initialize):\n",
      "\"non-integer #successes in a binomial glm!\"Warning message in eval(family$initialize):\n",
      "\"non-integer #successes in a binomial glm!\""
     ]
    },
    {
     "data": {},
     "metadata": {},
     "output_type": "display_data"
    },
    {
     "data": {
      "image/png": "[encoded data removed]",
      "text/plain": [
       "plot without title"
      ]
     },
     "metadata": {},
     "output_type": "display_data"
    }
   ],
   "source": [
    "(ggplot(dados1)+aes(dose1,p1)+geom_point()\n",
    "  +geom_smooth(color=\"red\",method=glm, method.args = list(family = binomial(link=\"probit\")),se=F)\n",
    "  +geom_smooth(color=\"blue\",method=glm, method.args = list(family = binomial(link=\"logit\")),se=F)\n",
    "  +geom_smooth(color=\"green\",method=glm, method.args = list(family = binomial(link=\"cloglog\")),se=F))"
   ]
  },
  {
   "cell_type": "code",
   "execution_count": 64,
   "metadata": {},
   "outputs": [],
   "source": [
    "#Insecicidade DDT + BHC\n",
    "dose2=c(2,2.64,3.48,4.59,6.06,8)\n",
    "p2=c(28/50,37/50,46/50,48/50,48/50,50/50)\n",
    "m2=c(50,50,50,50,50,50)\n",
    "y2=p2*m2"
   ]
  },
  {
   "cell_type": "code",
   "execution_count": 65,
   "metadata": {},
   "outputs": [
    {
     "data": {
      "text/html": [
       "<table>\n",
       "<thead><tr><th scope=col>Sucessos</th><th scope=col>Fracassos</th></tr></thead>\n",
       "<tbody>\n",
       "\t<tr><td>28</td><td>22</td></tr>\n",
       "\t<tr><td>37</td><td>13</td></tr>\n",
       "\t<tr><td>46</td><td> 4</td></tr>\n",
       "\t<tr><td>48</td><td> 2</td></tr>\n",
       "\t<tr><td>48</td><td> 2</td></tr>\n",
       "\t<tr><td>50</td><td> 0</td></tr>\n",
       "</tbody>\n",
       "</table>\n"
      ],
      "text/latex": [
       "\\begin{tabular}{ll}\n",
       " Sucessos & Fracassos\\\\\n",
       "\\hline\n",
       "\t 28 & 22\\\\\n",
       "\t 37 & 13\\\\\n",
       "\t 46 &  4\\\\\n",
       "\t 48 &  2\\\\\n",
       "\t 48 &  2\\\\\n",
       "\t 50 &  0\\\\\n",
       "\\end{tabular}\n"
      ],
      "text/markdown": [
       "\n",
       "Sucessos | Fracassos | \n",
       "|---|---|---|---|---|---|\n",
       "| 28 | 22 | \n",
       "| 37 | 13 | \n",
       "| 46 |  4 | \n",
       "| 48 |  2 | \n",
       "| 48 |  2 | \n",
       "| 50 |  0 | \n",
       "\n",
       "\n"
      ],
      "text/plain": [
       "     Sucessos Fracassos\n",
       "[1,] 28       22       \n",
       "[2,] 37       13       \n",
       "[3,] 46        4       \n",
       "[4,] 48        2       \n",
       "[5,] 48        2       \n",
       "[6,] 50        0       "
      ]
     },
     "metadata": {},
     "output_type": "display_data"
    }
   ],
   "source": [
    "resp2=cbind(y2,m2-y2)\n",
    "colnames(resp2)=c(\"Sucessos\",\"Fracassos\")\n",
    "resp2"
   ]
  },
  {
   "cell_type": "code",
   "execution_count": 66,
   "metadata": {},
   "outputs": [
    {
     "data": {
      "text/html": [
       "<table>\n",
       "<thead><tr><th scope=col>dose2</th><th scope=col>p2</th><th scope=col>m2</th><th scope=col>y2</th></tr></thead>\n",
       "<tbody>\n",
       "\t<tr><td>2.00</td><td>0.56</td><td>50  </td><td>28  </td></tr>\n",
       "\t<tr><td>2.64</td><td>0.74</td><td>50  </td><td>37  </td></tr>\n",
       "\t<tr><td>3.48</td><td>0.92</td><td>50  </td><td>46  </td></tr>\n",
       "\t<tr><td>4.59</td><td>0.96</td><td>50  </td><td>48  </td></tr>\n",
       "\t<tr><td>6.06</td><td>0.96</td><td>50  </td><td>48  </td></tr>\n",
       "\t<tr><td>8.00</td><td>1.00</td><td>50  </td><td>50  </td></tr>\n",
       "</tbody>\n",
       "</table>\n"
      ],
      "text/latex": [
       "\\begin{tabular}{r|llll}\n",
       " dose2 & p2 & m2 & y2\\\\\n",
       "\\hline\n",
       "\t 2.00 & 0.56 & 50   & 28  \\\\\n",
       "\t 2.64 & 0.74 & 50   & 37  \\\\\n",
       "\t 3.48 & 0.92 & 50   & 46  \\\\\n",
       "\t 4.59 & 0.96 & 50   & 48  \\\\\n",
       "\t 6.06 & 0.96 & 50   & 48  \\\\\n",
       "\t 8.00 & 1.00 & 50   & 50  \\\\\n",
       "\\end{tabular}\n"
      ],
      "text/markdown": [
       "\n",
       "dose2 | p2 | m2 | y2 | \n",
       "|---|---|---|---|---|---|\n",
       "| 2.00 | 0.56 | 50   | 28   | \n",
       "| 2.64 | 0.74 | 50   | 37   | \n",
       "| 3.48 | 0.92 | 50   | 46   | \n",
       "| 4.59 | 0.96 | 50   | 48   | \n",
       "| 6.06 | 0.96 | 50   | 48   | \n",
       "| 8.00 | 1.00 | 50   | 50   | \n",
       "\n",
       "\n"
      ],
      "text/plain": [
       "  dose2 p2   m2 y2\n",
       "1 2.00  0.56 50 28\n",
       "2 2.64  0.74 50 37\n",
       "3 3.48  0.92 50 46\n",
       "4 4.59  0.96 50 48\n",
       "5 6.06  0.96 50 48\n",
       "6 8.00  1.00 50 50"
      ]
     },
     "metadata": {},
     "output_type": "display_data"
    }
   ],
   "source": [
    "dados2=cbind(dose2,p2,m2,y2)\n",
    "dados2=data.frame(dados2);dados2"
   ]
  },
  {
   "cell_type": "code",
   "execution_count": 67,
   "metadata": {},
   "outputs": [
    {
     "data": {},
     "metadata": {},
     "output_type": "display_data"
    },
    {
     "data": {
      "image/png": "[encoded data removed]",
      "text/plain": [
       "plot without title"
      ]
     },
     "metadata": {},
     "output_type": "display_data"
    }
   ],
   "source": [
    "#Análise exploratória \n",
    "ggplot(dados2)+aes(dose2,p2)+geom_point()"
   ]
  },
  {
   "cell_type": "code",
   "execution_count": 100,
   "metadata": {},
   "outputs": [
    {
     "data": {
      "text/plain": [
       "\n",
       "Call:  glm(formula = resp2 ~ dose2, family = binomial(link = \"probit\"))\n",
       "\n",
       "Coefficients:\n",
       "(Intercept)        dose2  \n",
       "    -0.6538       0.4847  \n",
       "\n",
       "Degrees of Freedom: 5 Total (i.e. Null);  4 Residual\n",
       "Null Deviance:\t    59.22 \n",
       "Residual Deviance: 5.808 \tAIC: 26.61"
      ]
     },
     "metadata": {},
     "output_type": "display_data"
    }
   ],
   "source": [
    "modelo7=glm(resp2~dose2,family = binomial(link=\"probit\"))\n",
    "modelo7"
   ]
  },
  {
   "cell_type": "code",
   "execution_count": 69,
   "metadata": {},
   "outputs": [
    {
     "data": {
      "text/plain": [
       "\n",
       "Call:\n",
       "glm(formula = resp2 ~ dose2, family = binomial(link = \"probit\"))\n",
       "\n",
       "Deviance Residuals: \n",
       "       1         2         3         4         5         6  \n",
       "-0.92273   0.09216   1.51580   0.57825  -1.50097   0.25161  \n",
       "\n",
       "Coefficients:\n",
       "            Estimate Std. Error z value Pr(>|z|)    \n",
       "(Intercept) -0.65382    0.29886  -2.188   0.0287 *  \n",
       "dose2        0.48468    0.09265   5.232 1.68e-07 ***\n",
       "---\n",
       "Signif. codes:  0 '***' 0.001 '**' 0.01 '*' 0.05 '.' 0.1 ' ' 1\n",
       "\n",
       "(Dispersion parameter for binomial family taken to be 1)\n",
       "\n",
       "    Null deviance: 59.2167  on 5  degrees of freedom\n",
       "Residual deviance:  5.8082  on 4  degrees of freedom\n",
       "AIC: 26.612\n",
       "\n",
       "Number of Fisher Scoring iterations: 6\n"
      ]
     },
     "metadata": {},
     "output_type": "display_data"
    }
   ],
   "source": [
    "summary(modelo6)"
   ]
  },
  {
   "cell_type": "code",
   "execution_count": 70,
   "metadata": {},
   "outputs": [
    {
     "data": {
      "text/html": [
       "<table>\n",
       "<thead><tr><th></th><th scope=col>(Intercept)</th><th scope=col>dose2</th></tr></thead>\n",
       "<tbody>\n",
       "\t<tr><th scope=row>1</th><td>1   </td><td>2.00</td></tr>\n",
       "\t<tr><th scope=row>2</th><td>1   </td><td>2.64</td></tr>\n",
       "\t<tr><th scope=row>3</th><td>1   </td><td>3.48</td></tr>\n",
       "\t<tr><th scope=row>4</th><td>1   </td><td>4.59</td></tr>\n",
       "\t<tr><th scope=row>5</th><td>1   </td><td>6.06</td></tr>\n",
       "\t<tr><th scope=row>6</th><td>1   </td><td>8.00</td></tr>\n",
       "</tbody>\n",
       "</table>\n"
      ],
      "text/latex": [
       "\\begin{tabular}{r|ll}\n",
       "  & (Intercept) & dose2\\\\\n",
       "\\hline\n",
       "\t1 & 1    & 2.00\\\\\n",
       "\t2 & 1    & 2.64\\\\\n",
       "\t3 & 1    & 3.48\\\\\n",
       "\t4 & 1    & 4.59\\\\\n",
       "\t5 & 1    & 6.06\\\\\n",
       "\t6 & 1    & 8.00\\\\\n",
       "\\end{tabular}\n"
      ],
      "text/markdown": [
       "\n",
       "| <!--/--> | (Intercept) | dose2 | \n",
       "|---|---|---|---|---|---|\n",
       "| 1 | 1    | 2.00 | \n",
       "| 2 | 1    | 2.64 | \n",
       "| 3 | 1    | 3.48 | \n",
       "| 4 | 1    | 4.59 | \n",
       "| 5 | 1    | 6.06 | \n",
       "| 6 | 1    | 8.00 | \n",
       "\n",
       "\n"
      ],
      "text/plain": [
       "  (Intercept) dose2\n",
       "1 1           2.00 \n",
       "2 1           2.64 \n",
       "3 1           3.48 \n",
       "4 1           4.59 \n",
       "5 1           6.06 \n",
       "6 1           8.00 "
      ]
     },
     "metadata": {},
     "output_type": "display_data"
    }
   ],
   "source": [
    "model.matrix(modelo6)"
   ]
  },
  {
   "cell_type": "code",
   "execution_count": 71,
   "metadata": {},
   "outputs": [
    {
     "data": {
      "text/html": [
       "<dl class=dl-horizontal>\n",
       "\t<dt>(Intercept)</dt>\n",
       "\t\t<dd>-0.653820056795382</dd>\n",
       "\t<dt>dose2</dt>\n",
       "\t\t<dd>0.484680411136424</dd>\n",
       "</dl>\n"
      ],
      "text/latex": [
       "\\begin{description*}\n",
       "\\item[(Intercept)] -0.653820056795382\n",
       "\\item[dose2] 0.484680411136424\n",
       "\\end{description*}\n"
      ],
      "text/markdown": [
       "(Intercept)\n",
       ":   -0.653820056795382dose2\n",
       ":   0.484680411136424\n",
       "\n"
      ],
      "text/plain": [
       "(Intercept)       dose2 \n",
       " -0.6538201   0.4846804 "
      ]
     },
     "metadata": {},
     "output_type": "display_data"
    }
   ],
   "source": [
    "modelo6$coefficients"
   ]
  },
  {
   "cell_type": "code",
   "execution_count": 72,
   "metadata": {},
   "outputs": [
    {
     "data": {
      "text/html": [
       "<dl class=dl-horizontal>\n",
       "\t<dt>1</dt>\n",
       "\t\t<dd>0.623824447839956</dd>\n",
       "\t<dt>2</dt>\n",
       "\t\t<dd>0.734256016844421</dd>\n",
       "\t<dt>3</dt>\n",
       "\t\t<dd>0.849167109176477</dd>\n",
       "\t<dt>4</dt>\n",
       "\t\t<dd>0.941892766236261</dd>\n",
       "\t<dt>5</dt>\n",
       "\t\t<dd>0.988794920913318</dd>\n",
       "\t<dt>6</dt>\n",
       "\t\t<dd>0.999367100891472</dd>\n",
       "</dl>\n"
      ],
      "text/latex": [
       "\\begin{description*}\n",
       "\\item[1] 0.623824447839956\n",
       "\\item[2] 0.734256016844421\n",
       "\\item[3] 0.849167109176477\n",
       "\\item[4] 0.941892766236261\n",
       "\\item[5] 0.988794920913318\n",
       "\\item[6] 0.999367100891472\n",
       "\\end{description*}\n"
      ],
      "text/markdown": [
       "1\n",
       ":   0.6238244478399562\n",
       ":   0.7342560168444213\n",
       ":   0.8491671091764774\n",
       ":   0.9418927662362615\n",
       ":   0.9887949209133186\n",
       ":   0.999367100891472\n",
       "\n"
      ],
      "text/plain": [
       "        1         2         3         4         5         6 \n",
       "0.6238244 0.7342560 0.8491671 0.9418928 0.9887949 0.9993671 "
      ]
     },
     "metadata": {},
     "output_type": "display_data"
    }
   ],
   "source": [
    "modelo6$fitted.values"
   ]
  },
  {
   "cell_type": "code",
   "execution_count": 73,
   "metadata": {},
   "outputs": [
    {
     "data": {
      "text/html": [
       "<dl class=dl-horizontal>\n",
       "\t<dt>1</dt>\n",
       "\t\t<dd>0.315540765477465</dd>\n",
       "\t<dt>2</dt>\n",
       "\t\t<dd>0.625736228604777</dd>\n",
       "\t<dt>3</dt>\n",
       "\t\t<dd>1.03286777395937</dd>\n",
       "\t<dt>4</dt>\n",
       "\t\t<dd>1.5708630303208</dd>\n",
       "\t<dt>5</dt>\n",
       "\t\t<dd>2.28334323469135</dd>\n",
       "\t<dt>6</dt>\n",
       "\t\t<dd>3.22362323229601</dd>\n",
       "</dl>\n"
      ],
      "text/latex": [
       "\\begin{description*}\n",
       "\\item[1] 0.315540765477465\n",
       "\\item[2] 0.625736228604777\n",
       "\\item[3] 1.03286777395937\n",
       "\\item[4] 1.5708630303208\n",
       "\\item[5] 2.28334323469135\n",
       "\\item[6] 3.22362323229601\n",
       "\\end{description*}\n"
      ],
      "text/markdown": [
       "1\n",
       ":   0.3155407654774652\n",
       ":   0.6257362286047773\n",
       ":   1.032867773959374\n",
       ":   1.57086303032085\n",
       ":   2.283343234691356\n",
       ":   3.22362323229601\n",
       "\n"
      ],
      "text/plain": [
       "        1         2         3         4         5         6 \n",
       "0.3155408 0.6257362 1.0328678 1.5708630 2.2833432 3.2236232 "
      ]
     },
     "metadata": {},
     "output_type": "display_data"
    }
   ],
   "source": [
    "modelo6$linear.predictors"
   ]
  },
  {
   "cell_type": "code",
   "execution_count": 74,
   "metadata": {},
   "outputs": [
    {
     "data": {
      "text/html": [
       "<dl class=dl-horizontal>\n",
       "\t<dt>1</dt>\n",
       "\t\t<dd>-0.16815023445026</dd>\n",
       "\t<dt>2</dt>\n",
       "\t\t<dd>0.0175116144967471</dd>\n",
       "\t<dt>3</dt>\n",
       "\t\t<dd>0.302678112220925</dd>\n",
       "\t<dt>4</dt>\n",
       "\t\t<dd>0.155875151682784</dd>\n",
       "\t<dt>5</dt>\n",
       "\t\t<dd>-0.97844611009417</dd>\n",
       "\t<dt>6</dt>\n",
       "\t\t<dd>0.28639376063313</dd>\n",
       "</dl>\n"
      ],
      "text/latex": [
       "\\begin{description*}\n",
       "\\item[1] -0.16815023445026\n",
       "\\item[2] 0.0175116144967471\n",
       "\\item[3] 0.302678112220925\n",
       "\\item[4] 0.155875151682784\n",
       "\\item[5] -0.97844611009417\n",
       "\\item[6] 0.28639376063313\n",
       "\\end{description*}\n"
      ],
      "text/markdown": [
       "1\n",
       ":   -0.168150234450262\n",
       ":   0.01751161449674713\n",
       ":   0.3026781122209254\n",
       ":   0.1558751516827845\n",
       ":   -0.978446110094176\n",
       ":   0.28639376063313\n",
       "\n"
      ],
      "text/plain": [
       "          1           2           3           4           5           6 \n",
       "-0.16815023  0.01751161  0.30267811  0.15587515 -0.97844611  0.28639376 "
      ]
     },
     "metadata": {},
     "output_type": "display_data"
    }
   ],
   "source": [
    "modelo6$residuals"
   ]
  },
  {
   "cell_type": "code",
   "execution_count": 75,
   "metadata": {},
   "outputs": [
    {
     "data": {
      "text/plain": [
       "             Dose        SE\n",
       "p = 0.5: 1.348971 0.3844185"
      ]
     },
     "metadata": {},
     "output_type": "display_data"
    },
    {
     "data": {
      "text/plain": [
       "             Dose        SE\n",
       "p = 0.9: 3.993088 0.2791612"
      ]
     },
     "metadata": {},
     "output_type": "display_data"
    }
   ],
   "source": [
    "dose.p(modelo6,cf=1:2,p=0.5)\n",
    "dose.p(modelo6,cf=1:2,p=0.9)"
   ]
  },
  {
   "cell_type": "code",
   "execution_count": 99,
   "metadata": {},
   "outputs": [
    {
     "data": {},
     "metadata": {},
     "output_type": "display_data"
    },
    {
     "data": {
      "image/png": "[encoded data removed]",
      "text/plain": [
       "plot without title"
      ]
     },
     "metadata": {},
     "output_type": "display_data"
    }
   ],
   "source": [
    "ggplot(dados)+aes(dose,modelo6$linear.predictors)+geom_point()+theme_bw()"
   ]
  },
  {
   "cell_type": "code",
   "execution_count": 76,
   "metadata": {},
   "outputs": [
    {
     "data": {
      "text/plain": [
       "\n",
       "Call:  glm(formula = resp2 ~ dose2, family = binomial(link = \"logit\"))\n",
       "\n",
       "Coefficients:\n",
       "(Intercept)        dose2  \n",
       "    -1.5852       0.9922  \n",
       "\n",
       "Degrees of Freedom: 5 Total (i.e. Null);  4 Residual\n",
       "Null Deviance:\t    59.22 \n",
       "Residual Deviance: 4.103 \tAIC: 24.91"
      ]
     },
     "metadata": {},
     "output_type": "display_data"
    }
   ],
   "source": [
    "modelo7=glm(resp2~dose2,family = binomial(link=\"logit\"))\n",
    "modelo7"
   ]
  },
  {
   "cell_type": "code",
   "execution_count": 77,
   "metadata": {},
   "outputs": [
    {
     "data": {
      "text/plain": [
       "\n",
       "Call:\n",
       "glm(formula = resp2 ~ dose2, family = binomial(link = \"logit\"))\n",
       "\n",
       "Deviance Residuals: \n",
       "       1         2         3         4         5         6  \n",
       "-0.55263   0.03662   1.19587   0.29936  -1.45005   0.41730  \n",
       "\n",
       "Coefficients:\n",
       "            Estimate Std. Error z value Pr(>|z|)    \n",
       "(Intercept)  -1.5852     0.5681  -2.790  0.00527 ** \n",
       "dose2         0.9922     0.1939   5.116 3.12e-07 ***\n",
       "---\n",
       "Signif. codes:  0 '***' 0.001 '**' 0.01 '*' 0.05 '.' 0.1 ' ' 1\n",
       "\n",
       "(Dispersion parameter for binomial family taken to be 1)\n",
       "\n",
       "    Null deviance: 59.2167  on 5  degrees of freedom\n",
       "Residual deviance:  4.1032  on 4  degrees of freedom\n",
       "AIC: 24.907\n",
       "\n",
       "Number of Fisher Scoring iterations: 5\n"
      ]
     },
     "metadata": {},
     "output_type": "display_data"
    }
   ],
   "source": [
    "summary(modelo7)"
   ]
  },
  {
   "cell_type": "code",
   "execution_count": 78,
   "metadata": {},
   "outputs": [
    {
     "data": {
      "text/html": [
       "<table>\n",
       "<thead><tr><th></th><th scope=col>(Intercept)</th><th scope=col>dose2</th></tr></thead>\n",
       "<tbody>\n",
       "\t<tr><th scope=row>1</th><td>1   </td><td>2.00</td></tr>\n",
       "\t<tr><th scope=row>2</th><td>1   </td><td>2.64</td></tr>\n",
       "\t<tr><th scope=row>3</th><td>1   </td><td>3.48</td></tr>\n",
       "\t<tr><th scope=row>4</th><td>1   </td><td>4.59</td></tr>\n",
       "\t<tr><th scope=row>5</th><td>1   </td><td>6.06</td></tr>\n",
       "\t<tr><th scope=row>6</th><td>1   </td><td>8.00</td></tr>\n",
       "</tbody>\n",
       "</table>\n"
      ],
      "text/latex": [
       "\\begin{tabular}{r|ll}\n",
       "  & (Intercept) & dose2\\\\\n",
       "\\hline\n",
       "\t1 & 1    & 2.00\\\\\n",
       "\t2 & 1    & 2.64\\\\\n",
       "\t3 & 1    & 3.48\\\\\n",
       "\t4 & 1    & 4.59\\\\\n",
       "\t5 & 1    & 6.06\\\\\n",
       "\t6 & 1    & 8.00\\\\\n",
       "\\end{tabular}\n"
      ],
      "text/markdown": [
       "\n",
       "| <!--/--> | (Intercept) | dose2 | \n",
       "|---|---|---|---|---|---|\n",
       "| 1 | 1    | 2.00 | \n",
       "| 2 | 1    | 2.64 | \n",
       "| 3 | 1    | 3.48 | \n",
       "| 4 | 1    | 4.59 | \n",
       "| 5 | 1    | 6.06 | \n",
       "| 6 | 1    | 8.00 | \n",
       "\n",
       "\n"
      ],
      "text/plain": [
       "  (Intercept) dose2\n",
       "1 1           2.00 \n",
       "2 1           2.64 \n",
       "3 1           3.48 \n",
       "4 1           4.59 \n",
       "5 1           6.06 \n",
       "6 1           8.00 "
      ]
     },
     "metadata": {},
     "output_type": "display_data"
    }
   ],
   "source": [
    "model.matrix(modelo7)\n"
   ]
  },
  {
   "cell_type": "code",
   "execution_count": 79,
   "metadata": {},
   "outputs": [
    {
     "data": {
      "text/html": [
       "<dl class=dl-horizontal>\n",
       "\t<dt>(Intercept)</dt>\n",
       "\t\t<dd>-1.58515478627459</dd>\n",
       "\t<dt>dose2</dt>\n",
       "\t\t<dd>0.992169295692114</dd>\n",
       "</dl>\n"
      ],
      "text/latex": [
       "\\begin{description*}\n",
       "\\item[(Intercept)] -1.58515478627459\n",
       "\\item[dose2] 0.992169295692114\n",
       "\\end{description*}\n"
      ],
      "text/markdown": [
       "(Intercept)\n",
       ":   -1.58515478627459dose2\n",
       ":   0.992169295692114\n",
       "\n"
      ],
      "text/plain": [
       "(Intercept)       dose2 \n",
       " -1.5851548   0.9921693 "
      ]
     },
     "metadata": {},
     "output_type": "display_data"
    }
   ],
   "source": [
    "modelo7$coefficients"
   ]
  },
  {
   "cell_type": "code",
   "execution_count": 80,
   "metadata": {},
   "outputs": [
    {
     "data": {
      "text/html": [
       "<dl class=dl-horizontal>\n",
       "\t<dt>1</dt>\n",
       "\t\t<dd>0.598491544733537</dd>\n",
       "\t<dt>2</dt>\n",
       "\t\t<dd>0.737723955080665</dd>\n",
       "\t<dt>3</dt>\n",
       "\t\t<dd>0.866179679726188</dd>\n",
       "\t<dt>4</dt>\n",
       "\t\t<dd>0.95114929749353</dd>\n",
       "\t<dt>5</dt>\n",
       "\t\t<dd>0.988195399768595</dd>\n",
       "\t<dt>6</dt>\n",
       "\t\t<dd>0.998260123197474</dd>\n",
       "</dl>\n"
      ],
      "text/latex": [
       "\\begin{description*}\n",
       "\\item[1] 0.598491544733537\n",
       "\\item[2] 0.737723955080665\n",
       "\\item[3] 0.866179679726188\n",
       "\\item[4] 0.95114929749353\n",
       "\\item[5] 0.988195399768595\n",
       "\\item[6] 0.998260123197474\n",
       "\\end{description*}\n"
      ],
      "text/markdown": [
       "1\n",
       ":   0.5984915447335372\n",
       ":   0.7377239550806653\n",
       ":   0.8661796797261884\n",
       ":   0.951149297493535\n",
       ":   0.9881953997685956\n",
       ":   0.998260123197474\n",
       "\n"
      ],
      "text/plain": [
       "        1         2         3         4         5         6 \n",
       "0.5984915 0.7377240 0.8661797 0.9511493 0.9881954 0.9982601 "
      ]
     },
     "metadata": {},
     "output_type": "display_data"
    }
   ],
   "source": [
    "modelo7$fitted.values"
   ]
  },
  {
   "cell_type": "code",
   "execution_count": 81,
   "metadata": {},
   "outputs": [
    {
     "data": {
      "text/html": [
       "<dl class=dl-horizontal>\n",
       "\t<dt>1</dt>\n",
       "\t\t<dd>0.399183805109636</dd>\n",
       "\t<dt>2</dt>\n",
       "\t\t<dd>1.03417215435259</dd>\n",
       "\t<dt>3</dt>\n",
       "\t\t<dd>1.86759436273396</dd>\n",
       "\t<dt>4</dt>\n",
       "\t\t<dd>2.96890228095221</dd>\n",
       "\t<dt>5</dt>\n",
       "\t\t<dd>4.42739114561962</dd>\n",
       "\t<dt>6</dt>\n",
       "\t\t<dd>6.35219957926232</dd>\n",
       "</dl>\n"
      ],
      "text/latex": [
       "\\begin{description*}\n",
       "\\item[1] 0.399183805109636\n",
       "\\item[2] 1.03417215435259\n",
       "\\item[3] 1.86759436273396\n",
       "\\item[4] 2.96890228095221\n",
       "\\item[5] 4.42739114561962\n",
       "\\item[6] 6.35219957926232\n",
       "\\end{description*}\n"
      ],
      "text/markdown": [
       "1\n",
       ":   0.3991838051096362\n",
       ":   1.034172154352593\n",
       ":   1.867594362733964\n",
       ":   2.968902280952215\n",
       ":   4.427391145619626\n",
       ":   6.35219957926232\n",
       "\n"
      ],
      "text/plain": [
       "        1         2         3         4         5         6 \n",
       "0.3991838 1.0341722 1.8675944 2.9689023 4.4273911 6.3521996 "
      ]
     },
     "metadata": {},
     "output_type": "display_data"
    }
   ],
   "source": [
    "modelo7$linear.predictors"
   ]
  },
  {
   "cell_type": "code",
   "execution_count": 82,
   "metadata": {},
   "outputs": [
    {
     "data": {
      "text/html": [
       "<dl class=dl-horizontal>\n",
       "\t<dt>1</dt>\n",
       "\t\t<dd>-0.160181599421975</dd>\n",
       "\t<dt>2</dt>\n",
       "\t\t<dd>0.0117632768154761</dd>\n",
       "\t<dt>3</dt>\n",
       "\t\t<dd>0.464318750195529</dd>\n",
       "\t<dt>4</dt>\n",
       "\t\t<dd>0.190483884196245</dd>\n",
       "\t<dt>5</dt>\n",
       "\t\t<dd>-2.41704170875797</dd>\n",
       "\t<dt>6</dt>\n",
       "\t\t<dd>1.00174290924989</dd>\n",
       "</dl>\n"
      ],
      "text/latex": [
       "\\begin{description*}\n",
       "\\item[1] -0.160181599421975\n",
       "\\item[2] 0.0117632768154761\n",
       "\\item[3] 0.464318750195529\n",
       "\\item[4] 0.190483884196245\n",
       "\\item[5] -2.41704170875797\n",
       "\\item[6] 1.00174290924989\n",
       "\\end{description*}\n"
      ],
      "text/markdown": [
       "1\n",
       ":   -0.1601815994219752\n",
       ":   0.01176327681547613\n",
       ":   0.4643187501955294\n",
       ":   0.1904838841962455\n",
       ":   -2.417041708757976\n",
       ":   1.00174290924989\n",
       "\n"
      ],
      "text/plain": [
       "          1           2           3           4           5           6 \n",
       "-0.16018160  0.01176328  0.46431875  0.19048388 -2.41704171  1.00174291 "
      ]
     },
     "metadata": {},
     "output_type": "display_data"
    }
   ],
   "source": [
    "modelo7$residuals"
   ]
  },
  {
   "cell_type": "code",
   "execution_count": 83,
   "metadata": {},
   "outputs": [
    {
     "data": {
      "text/plain": [
       "             Dose        SE\n",
       "p = 0.5: 1.597666 0.2940139"
      ]
     },
     "metadata": {},
     "output_type": "display_data"
    },
    {
     "data": {
      "text/plain": [
       "             Dose        SE\n",
       "p = 0.9: 3.812232 0.2725578"
      ]
     },
     "metadata": {},
     "output_type": "display_data"
    }
   ],
   "source": [
    "dose.p(modelo7,cf=1:2,p=0.5)\n",
    "dose.p(modelo7,cf=1:2,p=0.9)"
   ]
  },
  {
   "cell_type": "code",
   "execution_count": 101,
   "metadata": {},
   "outputs": [
    {
     "data": {},
     "metadata": {},
     "output_type": "display_data"
    },
    {
     "data": {
      "image/png": "[encoded data removed]",
      "text/plain": [
       "plot without title"
      ]
     },
     "metadata": {},
     "output_type": "display_data"
    }
   ],
   "source": [
    "ggplot(dados)+aes(dose,modelo7$linear.predictors)+geom_point()+theme_bw()"
   ]
  },
  {
   "cell_type": "code",
   "execution_count": 84,
   "metadata": {},
   "outputs": [
    {
     "data": {
      "text/plain": [
       "\n",
       "Call:  glm(formula = resp2 ~ dose2, family = binomial(link = \"cloglog\"))\n",
       "\n",
       "Coefficients:\n",
       "(Intercept)        dose2  \n",
       "    -0.6406       0.3517  \n",
       "\n",
       "Degrees of Freedom: 5 Total (i.e. Null);  4 Residual\n",
       "Null Deviance:\t    59.22 \n",
       "Residual Deviance: 8.135 \tAIC: 28.94"
      ]
     },
     "metadata": {},
     "output_type": "display_data"
    }
   ],
   "source": [
    "modelo8=glm(resp2~dose2,family = binomial(link=\"cloglog\"))\n",
    "modelo8"
   ]
  },
  {
   "cell_type": "code",
   "execution_count": 85,
   "metadata": {},
   "outputs": [
    {
     "data": {
      "text/plain": [
       "\n",
       "Call:\n",
       "glm(formula = resp2 ~ dose2, family = binomial(link = \"cloglog\"))\n",
       "\n",
       "Deviance Residuals: \n",
       "      1        2        3        4        5        6  \n",
       "-1.3918   0.0561   1.7961   0.9196  -1.4519   0.1236  \n",
       "\n",
       "Coefficients:\n",
       "            Estimate Std. Error z value Pr(>|z|)    \n",
       "(Intercept) -0.64059    0.25106  -2.552   0.0107 *  \n",
       "dose2        0.35174    0.06893   5.103 3.34e-07 ***\n",
       "---\n",
       "Signif. codes:  0 '***' 0.001 '**' 0.01 '*' 0.05 '.' 0.1 ' ' 1\n",
       "\n",
       "(Dispersion parameter for binomial family taken to be 1)\n",
       "\n",
       "    Null deviance: 59.2167  on 5  degrees of freedom\n",
       "Residual deviance:  8.1353  on 4  degrees of freedom\n",
       "AIC: 28.939\n",
       "\n",
       "Number of Fisher Scoring iterations: 6\n"
      ]
     },
     "metadata": {},
     "output_type": "display_data"
    }
   ],
   "source": [
    "summary(modelo8)"
   ]
  },
  {
   "cell_type": "code",
   "execution_count": 86,
   "metadata": {},
   "outputs": [
    {
     "data": {
      "text/html": [
       "<table>\n",
       "<thead><tr><th></th><th scope=col>(Intercept)</th><th scope=col>dose2</th></tr></thead>\n",
       "<tbody>\n",
       "\t<tr><th scope=row>1</th><td>1   </td><td>2.00</td></tr>\n",
       "\t<tr><th scope=row>2</th><td>1   </td><td>2.64</td></tr>\n",
       "\t<tr><th scope=row>3</th><td>1   </td><td>3.48</td></tr>\n",
       "\t<tr><th scope=row>4</th><td>1   </td><td>4.59</td></tr>\n",
       "\t<tr><th scope=row>5</th><td>1   </td><td>6.06</td></tr>\n",
       "\t<tr><th scope=row>6</th><td>1   </td><td>8.00</td></tr>\n",
       "</tbody>\n",
       "</table>\n"
      ],
      "text/latex": [
       "\\begin{tabular}{r|ll}\n",
       "  & (Intercept) & dose2\\\\\n",
       "\\hline\n",
       "\t1 & 1    & 2.00\\\\\n",
       "\t2 & 1    & 2.64\\\\\n",
       "\t3 & 1    & 3.48\\\\\n",
       "\t4 & 1    & 4.59\\\\\n",
       "\t5 & 1    & 6.06\\\\\n",
       "\t6 & 1    & 8.00\\\\\n",
       "\\end{tabular}\n"
      ],
      "text/markdown": [
       "\n",
       "| <!--/--> | (Intercept) | dose2 | \n",
       "|---|---|---|---|---|---|\n",
       "| 1 | 1    | 2.00 | \n",
       "| 2 | 1    | 2.64 | \n",
       "| 3 | 1    | 3.48 | \n",
       "| 4 | 1    | 4.59 | \n",
       "| 5 | 1    | 6.06 | \n",
       "| 6 | 1    | 8.00 | \n",
       "\n",
       "\n"
      ],
      "text/plain": [
       "  (Intercept) dose2\n",
       "1 1           2.00 \n",
       "2 1           2.64 \n",
       "3 1           3.48 \n",
       "4 1           4.59 \n",
       "5 1           6.06 \n",
       "6 1           8.00 "
      ]
     },
     "metadata": {},
     "output_type": "display_data"
    }
   ],
   "source": [
    "model.matrix(modelo8)"
   ]
  },
  {
   "cell_type": "code",
   "execution_count": 87,
   "metadata": {},
   "outputs": [
    {
     "data": {
      "text/html": [
       "<dl class=dl-horizontal>\n",
       "\t<dt>(Intercept)</dt>\n",
       "\t\t<dd>-0.64059393449581</dd>\n",
       "\t<dt>dose2</dt>\n",
       "\t\t<dd>0.351735241453059</dd>\n",
       "</dl>\n"
      ],
      "text/latex": [
       "\\begin{description*}\n",
       "\\item[(Intercept)] -0.64059393449581\n",
       "\\item[dose2] 0.351735241453059\n",
       "\\end{description*}\n"
      ],
      "text/markdown": [
       "(Intercept)\n",
       ":   -0.64059393449581dose2\n",
       ":   0.351735241453059\n",
       "\n"
      ],
      "text/plain": [
       "(Intercept)       dose2 \n",
       " -0.6405939   0.3517352 "
      ]
     },
     "metadata": {},
     "output_type": "display_data"
    }
   ],
   "source": [
    "modelo8$coefficients"
   ]
  },
  {
   "cell_type": "code",
   "execution_count": 88,
   "metadata": {},
   "outputs": [
    {
     "data": {
      "text/html": [
       "<dl class=dl-horizontal>\n",
       "\t<dt>1</dt>\n",
       "\t\t<dd>0.655236073811919</dd>\n",
       "\t<dt>2</dt>\n",
       "\t\t<dd>0.736510063317084</dd>\n",
       "\t<dt>3</dt>\n",
       "\t\t<dd>0.833406974915184</dd>\n",
       "\t<dt>4</dt>\n",
       "\t\t<dd>0.929219749542122</dd>\n",
       "\t<dt>5</dt>\n",
       "\t\t<dd>0.988218052108743</dd>\n",
       "\t<dt>6</dt>\n",
       "\t\t<dd>0.999847314246594</dd>\n",
       "</dl>\n"
      ],
      "text/latex": [
       "\\begin{description*}\n",
       "\\item[1] 0.655236073811919\n",
       "\\item[2] 0.736510063317084\n",
       "\\item[3] 0.833406974915184\n",
       "\\item[4] 0.929219749542122\n",
       "\\item[5] 0.988218052108743\n",
       "\\item[6] 0.999847314246594\n",
       "\\end{description*}\n"
      ],
      "text/markdown": [
       "1\n",
       ":   0.6552360738119192\n",
       ":   0.7365100633170843\n",
       ":   0.8334069749151844\n",
       ":   0.9292197495421225\n",
       ":   0.9882180521087436\n",
       ":   0.999847314246594\n",
       "\n"
      ],
      "text/plain": [
       "        1         2         3         4         5         6 \n",
       "0.6552361 0.7365101 0.8334070 0.9292197 0.9882181 0.9998473 "
      ]
     },
     "metadata": {},
     "output_type": "display_data"
    }
   ],
   "source": [
    "modelo8$fitted.values"
   ]
  },
  {
   "cell_type": "code",
   "execution_count": 89,
   "metadata": {},
   "outputs": [
    {
     "data": {
      "text/html": [
       "<dl class=dl-horizontal>\n",
       "\t<dt>1</dt>\n",
       "\t\t<dd>0.0628765484103083</dd>\n",
       "\t<dt>2</dt>\n",
       "\t\t<dd>0.287987102940266</dd>\n",
       "\t<dt>3</dt>\n",
       "\t\t<dd>0.583444705760836</dd>\n",
       "\t<dt>4</dt>\n",
       "\t\t<dd>0.973870823773731</dd>\n",
       "\t<dt>5</dt>\n",
       "\t\t<dd>1.49092162870973</dd>\n",
       "\t<dt>6</dt>\n",
       "\t\t<dd>2.17328799712866</dd>\n",
       "</dl>\n"
      ],
      "text/latex": [
       "\\begin{description*}\n",
       "\\item[1] 0.0628765484103083\n",
       "\\item[2] 0.287987102940266\n",
       "\\item[3] 0.583444705760836\n",
       "\\item[4] 0.973870823773731\n",
       "\\item[5] 1.49092162870973\n",
       "\\item[6] 2.17328799712866\n",
       "\\end{description*}\n"
      ],
      "text/markdown": [
       "1\n",
       ":   0.06287654841030832\n",
       ":   0.2879871029402663\n",
       ":   0.5834447057608364\n",
       ":   0.9738708237737315\n",
       ":   1.490921628709736\n",
       ":   2.17328799712866\n",
       "\n"
      ],
      "text/plain": [
       "         1          2          3          4          5          6 \n",
       "0.06287655 0.28798710 0.58344471 0.97387082 1.49092163 2.17328800 "
      ]
     },
     "metadata": {},
     "output_type": "display_data"
    }
   ],
   "source": [
    "modelo8$linear.predictors"
   ]
  },
  {
   "cell_type": "code",
   "execution_count": 90,
   "metadata": {},
   "outputs": [
    {
     "data": {
      "text/html": [
       "<dl class=dl-horizontal>\n",
       "\t<dt>1</dt>\n",
       "\t\t<dd>-0.259401645746775</dd>\n",
       "\t<dt>2</dt>\n",
       "\t\t<dd>0.00993075585377681</dd>\n",
       "\t<dt>3</dt>\n",
       "\t\t<dd>0.290027568188563</dd>\n",
       "\t<dt>4</dt>\n",
       "\t\t<dd>0.164215190869189</dd>\n",
       "\t<dt>5</dt>\n",
       "\t\t<dd>-0.539275757078969</dd>\n",
       "\t<dt>6</dt>\n",
       "\t\t<dd>0.11380281774127</dd>\n",
       "</dl>\n"
      ],
      "text/latex": [
       "\\begin{description*}\n",
       "\\item[1] -0.259401645746775\n",
       "\\item[2] 0.00993075585377681\n",
       "\\item[3] 0.290027568188563\n",
       "\\item[4] 0.164215190869189\n",
       "\\item[5] -0.539275757078969\n",
       "\\item[6] 0.11380281774127\n",
       "\\end{description*}\n"
      ],
      "text/markdown": [
       "1\n",
       ":   -0.2594016457467752\n",
       ":   0.009930755853776813\n",
       ":   0.2900275681885634\n",
       ":   0.1642151908691895\n",
       ":   -0.5392757570789696\n",
       ":   0.11380281774127\n",
       "\n"
      ],
      "text/plain": [
       "           1            2            3            4            5            6 \n",
       "-0.259401646  0.009930756  0.290027568  0.164215191 -0.539275757  0.113802818 "
      ]
     },
     "metadata": {},
     "output_type": "display_data"
    }
   ],
   "source": [
    "modelo8$residuals"
   ]
  },
  {
   "cell_type": "code",
   "execution_count": 102,
   "metadata": {},
   "outputs": [
    {
     "data": {
      "text/plain": [
       "              Dose        SE\n",
       "p = 0.5: 0.7792253 0.5729199"
      ]
     },
     "metadata": {},
     "output_type": "display_data"
    },
    {
     "data": {
      "text/plain": [
       "             Dose        SE\n",
       "p = 0.9: 4.192433 0.2896439"
      ]
     },
     "metadata": {},
     "output_type": "display_data"
    }
   ],
   "source": [
    "dose.p(modelo8,cf=1:2,p=0.5)\n",
    "dose.p(modelo8,cf=1:2,p=0.9)"
   ]
  },
  {
   "cell_type": "code",
   "execution_count": 103,
   "metadata": {},
   "outputs": [
    {
     "data": {},
     "metadata": {},
     "output_type": "display_data"
    },
    {
     "data": {
      "image/png": "[encoded data removed]",
      "text/plain": [
       "plot without title"
      ]
     },
     "metadata": {},
     "output_type": "display_data"
    }
   ],
   "source": [
    "ggplot(dados)+aes(dose,modelo8$linear.predictors)+geom_point()+theme_bw()"
   ]
  },
  {
   "cell_type": "code",
   "execution_count": 92,
   "metadata": {},
   "outputs": [
    {
     "name": "stderr",
     "output_type": "stream",
     "text": [
      "Warning message in eval(family$initialize):\n",
      "\"non-integer #successes in a binomial glm!\"Warning message in eval(family$initialize):\n",
      "\"non-integer #successes in a binomial glm!\"Warning message in eval(family$initialize):\n",
      "\"non-integer #successes in a binomial glm!\""
     ]
    },
    {
     "data": {},
     "metadata": {},
     "output_type": "display_data"
    },
    {
     "data": {
      "image/png": "[encoded data removed]",
      "text/plain": [
       "plot without title"
      ]
     },
     "metadata": {},
     "output_type": "display_data"
    }
   ],
   "source": [
    "(ggplot(dados2)+aes(dose2,p2)+geom_point()\n",
    "  +geom_smooth(color=\"red\",method=glm, method.args = list(family = binomial(link=\"probit\")),se=F)\n",
    "  +geom_smooth(color=\"blue\",method=glm, method.args = list(family = binomial(link=\"logit\")),se=F)\n",
    "  +geom_smooth(color=\"green\",method=glm, method.args = list(family = binomial(link=\"cloglog\")),se=F))\n"
   ]
  }
 ],
 "metadata": {
  "kernelspec": {
   "display_name": "R",
   "language": "R",
   "name": "ir"
  },
  "language_info": {
   "codemirror_mode": "r",
   "file_extension": ".r",
   "mimetype": "text/x-r-source",
   "name": "R",
   "pygments_lexer": "r",
   "version": "3.5.1"
  }
 },
 "nbformat": 4,
 "nbformat_minor": 2
}
