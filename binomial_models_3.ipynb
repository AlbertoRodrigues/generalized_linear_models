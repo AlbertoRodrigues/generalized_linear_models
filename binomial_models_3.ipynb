{
 "cells": [
  {
   "cell_type": "code",
   "execution_count": 1,
   "metadata": {},
   "outputs": [
    {
     "name": "stderr",
     "output_type": "stream",
     "text": [
      "Loading required package: ggplot2\n",
      "\n",
      "Warning message:\n",
      "\"package 'ggplot2' was built under R version 3.6.3\"\n"
     ]
    }
   ],
   "source": [
    "require(ggplot2)"
   ]
  },
  {
   "cell_type": "code",
   "execution_count": 21,
   "metadata": {},
   "outputs": [],
   "source": [
    "m=rep(240,4)\n",
    "y=c(107,31,156,84)\n",
    "p=y/m\n",
    "A=factor(c(\"A1\",\"A1\",\"A2\",\"A2\"))\n",
    "B=factor(c(\"B1\",\"B2\",\"B1\",\"B2\"))"
   ]
  },
  {
   "cell_type": "code",
   "execution_count": 22,
   "metadata": {},
   "outputs": [
    {
     "data": {
      "text/html": [
       "<style>\n",
       ".list-inline {list-style: none; margin:0; padding: 0}\n",
       ".list-inline>li {display: inline-block}\n",
       ".list-inline>li:not(:last-child)::after {content: \"\\00b7\"; padding: 0 .5ex}\n",
       "</style>\n",
       "<ol class=list-inline><li>107</li><li>31</li><li>156</li><li>84</li></ol>\n"
      ],
      "text/latex": [
       "\\begin{enumerate*}\n",
       "\\item 107\n",
       "\\item 31\n",
       "\\item 156\n",
       "\\item 84\n",
       "\\end{enumerate*}\n"
      ],
      "text/markdown": [
       "1. 107\n",
       "2. 31\n",
       "3. 156\n",
       "4. 84\n",
       "\n",
       "\n"
      ],
      "text/plain": [
       "[1] 107  31 156  84"
      ]
     },
     "metadata": {},
     "output_type": "display_data"
    }
   ],
   "source": [
    "y"
   ]
  },
  {
   "cell_type": "code",
   "execution_count": 23,
   "metadata": {},
   "outputs": [
    {
     "data": {
      "text/html": [
       "<style>\n",
       ".list-inline {list-style: none; margin:0; padding: 0}\n",
       ".list-inline>li {display: inline-block}\n",
       ".list-inline>li:not(:last-child)::after {content: \"\\00b7\"; padding: 0 .5ex}\n",
       "</style>\n",
       "<ol class=list-inline><li>0.445833333333333</li><li>0.129166666666667</li><li>0.65</li><li>0.35</li></ol>\n"
      ],
      "text/latex": [
       "\\begin{enumerate*}\n",
       "\\item 0.445833333333333\n",
       "\\item 0.129166666666667\n",
       "\\item 0.65\n",
       "\\item 0.35\n",
       "\\end{enumerate*}\n"
      ],
      "text/markdown": [
       "1. 0.445833333333333\n",
       "2. 0.129166666666667\n",
       "3. 0.65\n",
       "4. 0.35\n",
       "\n",
       "\n"
      ],
      "text/plain": [
       "[1] 0.4458333 0.1291667 0.6500000 0.3500000"
      ]
     },
     "metadata": {},
     "output_type": "display_data"
    }
   ],
   "source": [
    "p"
   ]
  },
  {
   "cell_type": "code",
   "execution_count": 5,
   "metadata": {},
   "outputs": [
    {
     "data": {
      "text/html": [
       "<style>\n",
       ".list-inline {list-style: none; margin:0; padding: 0}\n",
       ".list-inline>li {display: inline-block}\n",
       ".list-inline>li:not(:last-child)::after {content: \"\\00b7\"; padding: 0 .5ex}\n",
       "</style>\n",
       "<ol class=list-inline><li>A1</li><li>A1</li><li>A2</li><li>A2</li></ol>\n",
       "\n",
       "<details>\n",
       "\t<summary style=display:list-item;cursor:pointer>\n",
       "\t\t<strong>Levels</strong>:\n",
       "\t</summary>\n",
       "\t<style>\n",
       "\t.list-inline {list-style: none; margin:0; padding: 0}\n",
       "\t.list-inline>li {display: inline-block}\n",
       "\t.list-inline>li:not(:last-child)::after {content: \"\\00b7\"; padding: 0 .5ex}\n",
       "\t</style>\n",
       "\t<ol class=list-inline><li>'A1'</li><li>'A2'</li></ol>\n",
       "</details>"
      ],
      "text/latex": [
       "\\begin{enumerate*}\n",
       "\\item A1\n",
       "\\item A1\n",
       "\\item A2\n",
       "\\item A2\n",
       "\\end{enumerate*}\n",
       "\n",
       "\\emph{Levels}: \\begin{enumerate*}\n",
       "\\item 'A1'\n",
       "\\item 'A2'\n",
       "\\end{enumerate*}\n"
      ],
      "text/markdown": [
       "1. A1\n",
       "2. A1\n",
       "3. A2\n",
       "4. A2\n",
       "\n",
       "\n",
       "\n",
       "**Levels**: 1. 'A1'\n",
       "2. 'A2'\n",
       "\n",
       "\n"
      ],
      "text/plain": [
       "[1] A1 A1 A2 A2\n",
       "Levels: A1 A2"
      ]
     },
     "metadata": {},
     "output_type": "display_data"
    }
   ],
   "source": [
    "A"
   ]
  },
  {
   "cell_type": "code",
   "execution_count": 6,
   "metadata": {},
   "outputs": [
    {
     "data": {
      "text/html": [
       "<style>\n",
       ".list-inline {list-style: none; margin:0; padding: 0}\n",
       ".list-inline>li {display: inline-block}\n",
       ".list-inline>li:not(:last-child)::after {content: \"\\00b7\"; padding: 0 .5ex}\n",
       "</style>\n",
       "<ol class=list-inline><li>B1</li><li>B2</li><li>B1</li><li>B2</li></ol>\n",
       "\n",
       "<details>\n",
       "\t<summary style=display:list-item;cursor:pointer>\n",
       "\t\t<strong>Levels</strong>:\n",
       "\t</summary>\n",
       "\t<style>\n",
       "\t.list-inline {list-style: none; margin:0; padding: 0}\n",
       "\t.list-inline>li {display: inline-block}\n",
       "\t.list-inline>li:not(:last-child)::after {content: \"\\00b7\"; padding: 0 .5ex}\n",
       "\t</style>\n",
       "\t<ol class=list-inline><li>'B1'</li><li>'B2'</li></ol>\n",
       "</details>"
      ],
      "text/latex": [
       "\\begin{enumerate*}\n",
       "\\item B1\n",
       "\\item B2\n",
       "\\item B1\n",
       "\\item B2\n",
       "\\end{enumerate*}\n",
       "\n",
       "\\emph{Levels}: \\begin{enumerate*}\n",
       "\\item 'B1'\n",
       "\\item 'B2'\n",
       "\\end{enumerate*}\n"
      ],
      "text/markdown": [
       "1. B1\n",
       "2. B2\n",
       "3. B1\n",
       "4. B2\n",
       "\n",
       "\n",
       "\n",
       "**Levels**: 1. 'B1'\n",
       "2. 'B2'\n",
       "\n",
       "\n"
      ],
      "text/plain": [
       "[1] B1 B2 B1 B2\n",
       "Levels: B1 B2"
      ]
     },
     "metadata": {},
     "output_type": "display_data"
    }
   ],
   "source": [
    "B"
   ]
  },
  {
   "cell_type": "code",
   "execution_count": 7,
   "metadata": {},
   "outputs": [
    {
     "data": {
      "text/html": [
       "<table class=\"dataframe\">\n",
       "<caption>A data.frame: 4 × 5</caption>\n",
       "<thead>\n",
       "\t<tr><th scope=col>m</th><th scope=col>y</th><th scope=col>p</th><th scope=col>A</th><th scope=col>B</th></tr>\n",
       "\t<tr><th scope=col>&lt;dbl&gt;</th><th scope=col>&lt;dbl&gt;</th><th scope=col>&lt;dbl&gt;</th><th scope=col>&lt;fct&gt;</th><th scope=col>&lt;fct&gt;</th></tr>\n",
       "</thead>\n",
       "<tbody>\n",
       "\t<tr><td>240</td><td>107</td><td>0.45</td><td>A1</td><td>B1</td></tr>\n",
       "\t<tr><td>240</td><td> 31</td><td>0.13</td><td>A1</td><td>B2</td></tr>\n",
       "\t<tr><td>240</td><td>156</td><td>0.65</td><td>A2</td><td>B1</td></tr>\n",
       "\t<tr><td>240</td><td> 84</td><td>0.35</td><td>A2</td><td>B2</td></tr>\n",
       "</tbody>\n",
       "</table>\n"
      ],
      "text/latex": [
       "A data.frame: 4 × 5\n",
       "\\begin{tabular}{lllll}\n",
       " m & y & p & A & B\\\\\n",
       " <dbl> & <dbl> & <dbl> & <fct> & <fct>\\\\\n",
       "\\hline\n",
       "\t 240 & 107 & 0.45 & A1 & B1\\\\\n",
       "\t 240 &  31 & 0.13 & A1 & B2\\\\\n",
       "\t 240 & 156 & 0.65 & A2 & B1\\\\\n",
       "\t 240 &  84 & 0.35 & A2 & B2\\\\\n",
       "\\end{tabular}\n"
      ],
      "text/markdown": [
       "\n",
       "A data.frame: 4 × 5\n",
       "\n",
       "| m &lt;dbl&gt; | y &lt;dbl&gt; | p &lt;dbl&gt; | A &lt;fct&gt; | B &lt;fct&gt; |\n",
       "|---|---|---|---|---|\n",
       "| 240 | 107 | 0.45 | A1 | B1 |\n",
       "| 240 |  31 | 0.13 | A1 | B2 |\n",
       "| 240 | 156 | 0.65 | A2 | B1 |\n",
       "| 240 |  84 | 0.35 | A2 | B2 |\n",
       "\n"
      ],
      "text/plain": [
       "  m   y   p    A  B \n",
       "1 240 107 0.45 A1 B1\n",
       "2 240  31 0.13 A1 B2\n",
       "3 240 156 0.65 A2 B1\n",
       "4 240  84 0.35 A2 B2"
      ]
     },
     "metadata": {},
     "output_type": "display_data"
    }
   ],
   "source": [
    "dados=data.frame(m,y,p,A,B)\n",
    "dados"
   ]
  },
  {
   "cell_type": "code",
   "execution_count": 8,
   "metadata": {},
   "outputs": [
    {
     "data": {
      "text/html": [
       "<table class=\"dataframe\">\n",
       "<caption>A matrix: 4 × 2 of type dbl</caption>\n",
       "<thead>\n",
       "\t<tr><th scope=col>y</th><th scope=col></th></tr>\n",
       "</thead>\n",
       "<tbody>\n",
       "\t<tr><td>107</td><td>133</td></tr>\n",
       "\t<tr><td> 31</td><td>209</td></tr>\n",
       "\t<tr><td>156</td><td> 84</td></tr>\n",
       "\t<tr><td> 84</td><td>156</td></tr>\n",
       "</tbody>\n",
       "</table>\n"
      ],
      "text/latex": [
       "A matrix: 4 × 2 of type dbl\n",
       "\\begin{tabular}{ll}\n",
       " y & \\\\\n",
       "\\hline\n",
       "\t 107 & 133\\\\\n",
       "\t  31 & 209\\\\\n",
       "\t 156 &  84\\\\\n",
       "\t  84 & 156\\\\\n",
       "\\end{tabular}\n"
      ],
      "text/markdown": [
       "\n",
       "A matrix: 4 × 2 of type dbl\n",
       "\n",
       "| y | <!----> |\n",
       "|---|---|\n",
       "| 107 | 133 |\n",
       "|  31 | 209 |\n",
       "| 156 |  84 |\n",
       "|  84 | 156 |\n",
       "\n"
      ],
      "text/plain": [
       "     y      \n",
       "[1,] 107 133\n",
       "[2,]  31 209\n",
       "[3,] 156  84\n",
       "[4,]  84 156"
      ]
     },
     "metadata": {},
     "output_type": "display_data"
    }
   ],
   "source": [
    "resp=cbind(y,m-y)\n",
    "resp"
   ]
  },
  {
   "cell_type": "code",
   "execution_count": 9,
   "metadata": {},
   "outputs": [
    {
     "data": {
      "image/png": "[encoded data removed]",
      "text/plain": [
       "plot without title"
      ]
     },
     "metadata": {
      "image/png": {
       "height": 420,
       "width": 420
      }
     },
     "output_type": "display_data"
    }
   ],
   "source": [
    "#Análise exploratória\n",
    "ggplot(dados)+aes(A,y)+geom_boxplot()"
   ]
  },
  {
   "cell_type": "code",
   "execution_count": 10,
   "metadata": {},
   "outputs": [
    {
     "data": {
      "image/png": "[encoded data removed]",
      "text/plain": [
       "plot without title"
      ]
     },
     "metadata": {
      "image/png": {
       "height": 420,
       "width": 420
      }
     },
     "output_type": "display_data"
    }
   ],
   "source": [
    "ggplot(dados)+aes(B,y)+geom_boxplot()"
   ]
  },
  {
   "cell_type": "code",
   "execution_count": 11,
   "metadata": {},
   "outputs": [
    {
     "data": {
      "text/plain": [
       "\n",
       "Call:\n",
       "glm(formula = resp ~ 1, family = binomial(link = \"logit\"))\n",
       "\n",
       "Deviance Residuals: \n",
       "     1       2       3       4  \n",
       " 1.640  -9.071   8.006  -1.397  \n",
       "\n",
       "Coefficients:\n",
       "            Estimate Std. Error z value Pr(>|z|)    \n",
       "(Intercept) -0.43158    0.06606  -6.533 6.44e-11 ***\n",
       "---\n",
       "Signif. codes:  0 '***' 0.001 '**' 0.01 '*' 0.05 '.' 0.1 ' ' 1\n",
       "\n",
       "(Dispersion parameter for binomial family taken to be 1)\n",
       "\n",
       "    Null deviance: 151.02  on 3  degrees of freedom\n",
       "Residual deviance: 151.02  on 3  degrees of freedom\n",
       "AIC: 175.76\n",
       "\n",
       "Number of Fisher Scoring iterations: 4\n"
      ]
     },
     "metadata": {},
     "output_type": "display_data"
    }
   ],
   "source": [
    "#Modelo só com o intercepto\n",
    "modelo=glm(resp~1,family=binomial(link=\"logit\"))\n",
    "summary(modelo)"
   ]
  },
  {
   "cell_type": "code",
   "execution_count": 12,
   "metadata": {},
   "outputs": [
    {
     "data": {
      "text/plain": [
       "\n",
       "Call:\n",
       "glm(formula = resp ~ A, family = binomial(link = \"logit\"))\n",
       "\n",
       "Deviance Residuals: \n",
       "     1       2       3       4  \n",
       " 5.200  -5.854   4.684  -4.684  \n",
       "\n",
       "Coefficients:\n",
       "            Estimate Std. Error z value Pr(>|z|)    \n",
       "(Intercept)  -0.9076     0.1008  -8.999  < 2e-16 ***\n",
       "AA2           0.9076     0.1360   6.672 2.53e-11 ***\n",
       "---\n",
       "Signif. codes:  0 '***' 0.001 '**' 0.01 '*' 0.05 '.' 0.1 ' ' 1\n",
       "\n",
       "(Dispersion parameter for binomial family taken to be 1)\n",
       "\n",
       "    Null deviance: 151.02  on 3  degrees of freedom\n",
       "Residual deviance: 105.18  on 2  degrees of freedom\n",
       "AIC: 131.92\n",
       "\n",
       "Number of Fisher Scoring iterations: 4\n"
      ]
     },
     "metadata": {},
     "output_type": "display_data"
    }
   ],
   "source": [
    "#Modelo só com o fator A\n",
    "modelo1=glm(resp~A,family=binomial(link=\"logit\"))\n",
    "summary(modelo1)"
   ]
  },
  {
   "cell_type": "code",
   "execution_count": 13,
   "metadata": {},
   "outputs": [
    {
     "data": {
      "text/html": [
       "<table class=\"dataframe\">\n",
       "<caption>A anova: 2 × 5</caption>\n",
       "<thead>\n",
       "\t<tr><th></th><th scope=col>Df</th><th scope=col>Deviance</th><th scope=col>Resid. Df</th><th scope=col>Resid. Dev</th><th scope=col>Pr(&gt;Chi)</th></tr>\n",
       "\t<tr><th></th><th scope=col>&lt;int&gt;</th><th scope=col>&lt;dbl&gt;</th><th scope=col>&lt;int&gt;</th><th scope=col>&lt;dbl&gt;</th><th scope=col>&lt;dbl&gt;</th></tr>\n",
       "</thead>\n",
       "<tbody>\n",
       "\t<tr><th scope=row>NULL</th><td>NA</td><td>     NA</td><td>3</td><td>151.0193</td><td>          NA</td></tr>\n",
       "\t<tr><th scope=row>A</th><td> 1</td><td>45.8369</td><td>2</td><td>105.1824</td><td>1.285196e-11</td></tr>\n",
       "</tbody>\n",
       "</table>\n"
      ],
      "text/latex": [
       "A anova: 2 × 5\n",
       "\\begin{tabular}{r|lllll}\n",
       "  & Df & Deviance & Resid. Df & Resid. Dev & Pr(>Chi)\\\\\n",
       "  & <int> & <dbl> & <int> & <dbl> & <dbl>\\\\\n",
       "\\hline\n",
       "\tNULL & NA &      NA & 3 & 151.0193 &           NA\\\\\n",
       "\tA &  1 & 45.8369 & 2 & 105.1824 & 1.285196e-11\\\\\n",
       "\\end{tabular}\n"
      ],
      "text/markdown": [
       "\n",
       "A anova: 2 × 5\n",
       "\n",
       "| <!--/--> | Df &lt;int&gt; | Deviance &lt;dbl&gt; | Resid. Df &lt;int&gt; | Resid. Dev &lt;dbl&gt; | Pr(&gt;Chi) &lt;dbl&gt; |\n",
       "|---|---|---|---|---|---|\n",
       "| NULL | NA |      NA | 3 | 151.0193 |           NA |\n",
       "| A |  1 | 45.8369 | 2 | 105.1824 | 1.285196e-11 |\n",
       "\n"
      ],
      "text/plain": [
       "     Df Deviance Resid. Df Resid. Dev Pr(>Chi)    \n",
       "NULL NA      NA  3         151.0193             NA\n",
       "A     1 45.8369  2         105.1824   1.285196e-11"
      ]
     },
     "metadata": {},
     "output_type": "display_data"
    }
   ],
   "source": [
    "anova(modelo1,test = \"Chisq\")"
   ]
  },
  {
   "cell_type": "code",
   "execution_count": 14,
   "metadata": {},
   "outputs": [
    {
     "data": {
      "text/plain": [
       "\n",
       "Call:\n",
       "glm(formula = resp ~ B, family = binomial(link = \"logit\"))\n",
       "\n",
       "Deviance Residuals: \n",
       "     1       2       3       4  \n",
       "-3.168  -4.286   3.211   3.837  \n",
       "\n",
       "Coefficients:\n",
       "            Estimate Std. Error z value Pr(>|z|)    \n",
       "(Intercept)  0.19226    0.09171   2.096    0.036 *  \n",
       "BB2         -1.34722    0.14088  -9.563   <2e-16 ***\n",
       "---\n",
       "Signif. codes:  0 '***' 0.001 '**' 0.01 '*' 0.05 '.' 0.1 ' ' 1\n",
       "\n",
       "(Dispersion parameter for binomial family taken to be 1)\n",
       "\n",
       "    Null deviance: 151.02  on 3  degrees of freedom\n",
       "Residual deviance:  53.44  on 2  degrees of freedom\n",
       "AIC: 80.183\n",
       "\n",
       "Number of Fisher Scoring iterations: 4\n"
      ]
     },
     "metadata": {},
     "output_type": "display_data"
    }
   ],
   "source": [
    "#Modelo só com fator b\n",
    "modelo2=glm(resp~B,family=binomial(link=\"logit\"))\n",
    "summary(modelo2)"
   ]
  },
  {
   "cell_type": "code",
   "execution_count": 15,
   "metadata": {},
   "outputs": [
    {
     "data": {
      "text/html": [
       "<table class=\"dataframe\">\n",
       "<caption>A anova: 2 × 5</caption>\n",
       "<thead>\n",
       "\t<tr><th></th><th scope=col>Df</th><th scope=col>Deviance</th><th scope=col>Resid. Df</th><th scope=col>Resid. Dev</th><th scope=col>Pr(&gt;Chi)</th></tr>\n",
       "\t<tr><th></th><th scope=col>&lt;int&gt;</th><th scope=col>&lt;dbl&gt;</th><th scope=col>&lt;int&gt;</th><th scope=col>&lt;dbl&gt;</th><th scope=col>&lt;dbl&gt;</th></tr>\n",
       "</thead>\n",
       "<tbody>\n",
       "\t<tr><th scope=row>NULL</th><td>NA</td><td>     NA</td><td>3</td><td>151.01932</td><td>          NA</td></tr>\n",
       "\t<tr><th scope=row>B</th><td> 1</td><td>97.5789</td><td>2</td><td> 53.44041</td><td>5.175238e-23</td></tr>\n",
       "</tbody>\n",
       "</table>\n"
      ],
      "text/latex": [
       "A anova: 2 × 5\n",
       "\\begin{tabular}{r|lllll}\n",
       "  & Df & Deviance & Resid. Df & Resid. Dev & Pr(>Chi)\\\\\n",
       "  & <int> & <dbl> & <int> & <dbl> & <dbl>\\\\\n",
       "\\hline\n",
       "\tNULL & NA &      NA & 3 & 151.01932 &           NA\\\\\n",
       "\tB &  1 & 97.5789 & 2 &  53.44041 & 5.175238e-23\\\\\n",
       "\\end{tabular}\n"
      ],
      "text/markdown": [
       "\n",
       "A anova: 2 × 5\n",
       "\n",
       "| <!--/--> | Df &lt;int&gt; | Deviance &lt;dbl&gt; | Resid. Df &lt;int&gt; | Resid. Dev &lt;dbl&gt; | Pr(&gt;Chi) &lt;dbl&gt; |\n",
       "|---|---|---|---|---|---|\n",
       "| NULL | NA |      NA | 3 | 151.01932 |           NA |\n",
       "| B |  1 | 97.5789 | 2 |  53.44041 | 5.175238e-23 |\n",
       "\n"
      ],
      "text/plain": [
       "     Df Deviance Resid. Df Resid. Dev Pr(>Chi)    \n",
       "NULL NA      NA  3         151.01932            NA\n",
       "B     1 97.5789  2          53.44041  5.175238e-23"
      ]
     },
     "metadata": {},
     "output_type": "display_data"
    }
   ],
   "source": [
    "anova(modelo2,test = \"Chisq\")"
   ]
  },
  {
   "cell_type": "code",
   "execution_count": 16,
   "metadata": {},
   "outputs": [
    {
     "data": {
      "text/plain": [
       "\n",
       "Call:\n",
       "glm(formula = resp ~ A + B, family = binomial(link = \"logit\"))\n",
       "\n",
       "Deviance Residuals: \n",
       "      1        2        3        4  \n",
       " 0.6642  -0.9393  -0.6966   0.6966  \n",
       "\n",
       "Coefficients:\n",
       "            Estimate Std. Error z value Pr(>|z|)    \n",
       "(Intercept)  -0.3039     0.1172  -2.594  0.00949 ** \n",
       "AA2           1.0177     0.1455   6.995 2.64e-12 ***\n",
       "BB2          -1.4275     0.1465  -9.747  < 2e-16 ***\n",
       "---\n",
       "Signif. codes:  0 '***' 0.001 '**' 0.01 '*' 0.05 '.' 0.1 ' ' 1\n",
       "\n",
       "(Dispersion parameter for binomial family taken to be 1)\n",
       "\n",
       "    Null deviance: 151.0193  on 3  degrees of freedom\n",
       "Residual deviance:   2.2938  on 1  degrees of freedom\n",
       "AIC: 31.036\n",
       "\n",
       "Number of Fisher Scoring iterations: 3\n"
      ]
     },
     "metadata": {},
     "output_type": "display_data"
    }
   ],
   "source": [
    "#Modelo com A e B\n",
    "modelo3=glm(resp~A+B,family=binomial(link=\"logit\"))\n",
    "summary(modelo3)"
   ]
  },
  {
   "cell_type": "code",
   "execution_count": 17,
   "metadata": {},
   "outputs": [
    {
     "data": {
      "text/html": [
       "<table class=\"dataframe\">\n",
       "<caption>A anova: 3 × 5</caption>\n",
       "<thead>\n",
       "\t<tr><th></th><th scope=col>Df</th><th scope=col>Deviance</th><th scope=col>Resid. Df</th><th scope=col>Resid. Dev</th><th scope=col>Pr(&gt;Chi)</th></tr>\n",
       "\t<tr><th></th><th scope=col>&lt;int&gt;</th><th scope=col>&lt;dbl&gt;</th><th scope=col>&lt;int&gt;</th><th scope=col>&lt;dbl&gt;</th><th scope=col>&lt;dbl&gt;</th></tr>\n",
       "</thead>\n",
       "<tbody>\n",
       "\t<tr><th scope=row>NULL</th><td>NA</td><td>      NA</td><td>3</td><td>151.019316</td><td>          NA</td></tr>\n",
       "\t<tr><th scope=row>A</th><td> 1</td><td> 45.8369</td><td>2</td><td>105.182415</td><td>1.285196e-11</td></tr>\n",
       "\t<tr><th scope=row>B</th><td> 1</td><td>102.8886</td><td>1</td><td>  2.293839</td><td>3.545383e-24</td></tr>\n",
       "</tbody>\n",
       "</table>\n"
      ],
      "text/latex": [
       "A anova: 3 × 5\n",
       "\\begin{tabular}{r|lllll}\n",
       "  & Df & Deviance & Resid. Df & Resid. Dev & Pr(>Chi)\\\\\n",
       "  & <int> & <dbl> & <int> & <dbl> & <dbl>\\\\\n",
       "\\hline\n",
       "\tNULL & NA &       NA & 3 & 151.019316 &           NA\\\\\n",
       "\tA &  1 &  45.8369 & 2 & 105.182415 & 1.285196e-11\\\\\n",
       "\tB &  1 & 102.8886 & 1 &   2.293839 & 3.545383e-24\\\\\n",
       "\\end{tabular}\n"
      ],
      "text/markdown": [
       "\n",
       "A anova: 3 × 5\n",
       "\n",
       "| <!--/--> | Df &lt;int&gt; | Deviance &lt;dbl&gt; | Resid. Df &lt;int&gt; | Resid. Dev &lt;dbl&gt; | Pr(&gt;Chi) &lt;dbl&gt; |\n",
       "|---|---|---|---|---|---|\n",
       "| NULL | NA |       NA | 3 | 151.019316 |           NA |\n",
       "| A |  1 |  45.8369 | 2 | 105.182415 | 1.285196e-11 |\n",
       "| B |  1 | 102.8886 | 1 |   2.293839 | 3.545383e-24 |\n",
       "\n"
      ],
      "text/plain": [
       "     Df Deviance Resid. Df Resid. Dev Pr(>Chi)    \n",
       "NULL NA       NA 3         151.019316           NA\n",
       "A     1  45.8369 2         105.182415 1.285196e-11\n",
       "B     1 102.8886 1           2.293839 3.545383e-24"
      ]
     },
     "metadata": {},
     "output_type": "display_data"
    }
   ],
   "source": [
    "anova(modelo3,test = \"Chisq\")"
   ]
  },
  {
   "cell_type": "code",
   "execution_count": 18,
   "metadata": {},
   "outputs": [
    {
     "data": {
      "text/plain": [
       "\n",
       "Call:\n",
       "glm(formula = resp ~ A * B, family = binomial(link = \"logit\"))\n",
       "\n",
       "Deviance Residuals: \n",
       "[1]  0  0  0  0\n",
       "\n",
       "Coefficients:\n",
       "            Estimate Std. Error z value Pr(>|z|)    \n",
       "(Intercept)  -0.2175     0.1299  -1.675   0.0939 .  \n",
       "AA2           0.8366     0.1876   4.460 8.19e-06 ***\n",
       "BB2          -1.6908     0.2322  -7.282 3.28e-13 ***\n",
       "AA2:BB2       0.4527     0.3009   1.505   0.1324    \n",
       "---\n",
       "Signif. codes:  0 '***' 0.001 '**' 0.01 '*' 0.05 '.' 0.1 ' ' 1\n",
       "\n",
       "(Dispersion parameter for binomial family taken to be 1)\n",
       "\n",
       "    Null deviance: 1.5102e+02  on 3  degrees of freedom\n",
       "Residual deviance: 6.3949e-14  on 0  degrees of freedom\n",
       "AIC: 30.742\n",
       "\n",
       "Number of Fisher Scoring iterations: 3\n"
      ]
     },
     "metadata": {},
     "output_type": "display_data"
    }
   ],
   "source": [
    "#Modelo com A e B e a interação\n",
    "modelo4=glm(resp~A*B,family=binomial(link=\"logit\"))\n",
    "summary(modelo4)"
   ]
  },
  {
   "cell_type": "code",
   "execution_count": 19,
   "metadata": {},
   "outputs": [
    {
     "data": {
      "text/html": [
       "<table class=\"dataframe\">\n",
       "<caption>A anova: 4 × 5</caption>\n",
       "<thead>\n",
       "\t<tr><th></th><th scope=col>Df</th><th scope=col>Deviance</th><th scope=col>Resid. Df</th><th scope=col>Resid. Dev</th><th scope=col>Pr(&gt;Chi)</th></tr>\n",
       "\t<tr><th></th><th scope=col>&lt;int&gt;</th><th scope=col>&lt;dbl&gt;</th><th scope=col>&lt;int&gt;</th><th scope=col>&lt;dbl&gt;</th><th scope=col>&lt;dbl&gt;</th></tr>\n",
       "</thead>\n",
       "<tbody>\n",
       "\t<tr><th scope=row>NULL</th><td>NA</td><td>        NA</td><td>3</td><td>1.510193e+02</td><td>          NA</td></tr>\n",
       "\t<tr><th scope=row>A</th><td> 1</td><td> 45.836901</td><td>2</td><td>1.051824e+02</td><td>1.285196e-11</td></tr>\n",
       "\t<tr><th scope=row>B</th><td> 1</td><td>102.888575</td><td>1</td><td>2.293839e+00</td><td>3.545383e-24</td></tr>\n",
       "\t<tr><th scope=row>A:B</th><td> 1</td><td>  2.293839</td><td>0</td><td>6.394885e-14</td><td>1.298883e-01</td></tr>\n",
       "</tbody>\n",
       "</table>\n"
      ],
      "text/latex": [
       "A anova: 4 × 5\n",
       "\\begin{tabular}{r|lllll}\n",
       "  & Df & Deviance & Resid. Df & Resid. Dev & Pr(>Chi)\\\\\n",
       "  & <int> & <dbl> & <int> & <dbl> & <dbl>\\\\\n",
       "\\hline\n",
       "\tNULL & NA &         NA & 3 & 1.510193e+02 &           NA\\\\\n",
       "\tA &  1 &  45.836901 & 2 & 1.051824e+02 & 1.285196e-11\\\\\n",
       "\tB &  1 & 102.888575 & 1 & 2.293839e+00 & 3.545383e-24\\\\\n",
       "\tA:B &  1 &   2.293839 & 0 & 6.394885e-14 & 1.298883e-01\\\\\n",
       "\\end{tabular}\n"
      ],
      "text/markdown": [
       "\n",
       "A anova: 4 × 5\n",
       "\n",
       "| <!--/--> | Df &lt;int&gt; | Deviance &lt;dbl&gt; | Resid. Df &lt;int&gt; | Resid. Dev &lt;dbl&gt; | Pr(&gt;Chi) &lt;dbl&gt; |\n",
       "|---|---|---|---|---|---|\n",
       "| NULL | NA |         NA | 3 | 1.510193e+02 |           NA |\n",
       "| A |  1 |  45.836901 | 2 | 1.051824e+02 | 1.285196e-11 |\n",
       "| B |  1 | 102.888575 | 1 | 2.293839e+00 | 3.545383e-24 |\n",
       "| A:B |  1 |   2.293839 | 0 | 6.394885e-14 | 1.298883e-01 |\n",
       "\n"
      ],
      "text/plain": [
       "     Df Deviance   Resid. Df Resid. Dev   Pr(>Chi)    \n",
       "NULL NA         NA 3         1.510193e+02           NA\n",
       "A     1  45.836901 2         1.051824e+02 1.285196e-11\n",
       "B     1 102.888575 1         2.293839e+00 3.545383e-24\n",
       "A:B   1   2.293839 0         6.394885e-14 1.298883e-01"
      ]
     },
     "metadata": {},
     "output_type": "display_data"
    }
   ],
   "source": [
    "anova(modelo4,test = \"Chisq\")"
   ]
  }
 ],
 "metadata": {
  "kernelspec": {
   "display_name": "R",
   "language": "R",
   "name": "ir"
  },
  "language_info": {
   "codemirror_mode": "r",
   "file_extension": ".r",
   "mimetype": "text/x-r-source",
   "name": "R",
   "pygments_lexer": "r",
   "version": "3.6.1"
  }
 },
 "nbformat": 4,
 "nbformat_minor": 2
}
