{
 "cells": [
  {
   "cell_type": "code",
   "execution_count": 1,
   "metadata": {},
   "outputs": [
    {
     "name": "stderr",
     "output_type": "stream",
     "text": [
      "Loading required package: HH\n",
      "\n",
      "Loading required package: lattice\n",
      "\n",
      "Loading required package: grid\n",
      "\n",
      "Loading required package: latticeExtra\n",
      "\n",
      "Loading required package: RColorBrewer\n",
      "\n",
      "Loading required package: multcomp\n",
      "\n",
      "Loading required package: mvtnorm\n",
      "\n",
      "Loading required package: survival\n",
      "\n",
      "Loading required package: TH.data\n",
      "\n",
      "Loading required package: MASS\n",
      "\n",
      "\n",
      "Attaching package: 'TH.data'\n",
      "\n",
      "\n",
      "The following object is masked from 'package:MASS':\n",
      "\n",
      "    geyser\n",
      "\n",
      "\n",
      "Loading required package: gridExtra\n",
      "\n"
     ]
    }
   ],
   "source": [
    "require(HH)"
   ]
  },
  {
   "cell_type": "code",
   "execution_count": 2,
   "metadata": {},
   "outputs": [
    {
     "name": "stderr",
     "output_type": "stream",
     "text": [
      "Loading required package: hnp\n",
      "\n"
     ]
    }
   ],
   "source": [
    "require(hnp)"
   ]
  },
  {
   "cell_type": "code",
   "execution_count": 3,
   "metadata": {},
   "outputs": [
    {
     "name": "stderr",
     "output_type": "stream",
     "text": [
      "Loading required package: ggplot2\n",
      "\n",
      "Warning message:\n",
      "\"package 'ggplot2' was built under R version 3.6.3\"\n",
      "\n",
      "Attaching package: 'ggplot2'\n",
      "\n",
      "\n",
      "The following object is masked from 'package:latticeExtra':\n",
      "\n",
      "    layer\n",
      "\n",
      "\n"
     ]
    }
   ],
   "source": [
    "require(ggplot2)"
   ]
  },
  {
   "cell_type": "code",
   "execution_count": 4,
   "metadata": {},
   "outputs": [],
   "source": [
    "y=c(82,106,63,99,101,45,34,26,44,42,31,22,16,30,29,22,14,10,21,20,15,8,6\n",
    "    ,14,13,10,8,11,10,10,8,8,3,8,1,58,58,62,58,73,27,28,31,28,38,19,\n",
    "    20,22,20,28,14,14,15,14,21,9,10,12,10,16,7,3,1,\n",
    "    8,7,4,3,2,8,4)\n",
    "\n",
    "x=c(0,0,0,0,0,0.5,0.5,0.5,0.5,0.5,0.75,0.75,0.75,0.75,0.75,1,1,1,1,1,1.25,1.25,1.25,1.25,1.25,\n",
    "    1.5,1.5,1.5,1.5,1.5,1.75,1.75,1.75,1.75,1.75,0,0,0,0,0,\n",
    "    0.5,0.5,0.5,0.5,0.5,rep(0.75,5),rep(1,5),rep(1.25,5),rep(1.5,5),rep(1.75,5))\n",
    "\n",
    "strain=c(rep(\"1\",35),rep(2,35))"
   ]
  },
  {
   "cell_type": "code",
   "execution_count": 5,
   "metadata": {},
   "outputs": [],
   "source": [
    "modelo=glm(y~x+strain,family=\"poisson\"(link=\"log\"))"
   ]
  },
  {
   "cell_type": "code",
   "execution_count": 6,
   "metadata": {},
   "outputs": [
    {
     "data": {
      "text/plain": [
       "\n",
       "Call:\n",
       "glm(formula = y ~ x + strain, family = poisson(link = \"log\"))\n",
       "\n",
       "Deviance Residuals: \n",
       "    Min       1Q   Median       3Q      Max  \n",
       "-2.6800  -0.6766   0.1528   0.6787   2.0774  \n",
       "\n",
       "Coefficients:\n",
       "            Estimate Std. Error z value Pr(>|z|)    \n",
       "(Intercept)  4.45464    0.03914 113.819  < 2e-16 ***\n",
       "x           -1.54308    0.04660 -33.111  < 2e-16 ***\n",
       "strain2     -0.27497    0.04837  -5.684 1.31e-08 ***\n",
       "---\n",
       "Signif. codes:  0 '***' 0.001 '**' 0.01 '*' 0.05 '.' 0.1 ' ' 1\n",
       "\n",
       "(Dispersion parameter for poisson family taken to be 1)\n",
       "\n",
       "    Null deviance: 1359.381  on 69  degrees of freedom\n",
       "Residual deviance:   86.376  on 67  degrees of freedom\n",
       "AIC: 415.95\n",
       "\n",
       "Number of Fisher Scoring iterations: 4\n"
      ]
     },
     "metadata": {},
     "output_type": "display_data"
    }
   ],
   "source": [
    "summary(modelo)"
   ]
  },
  {
   "cell_type": "code",
   "execution_count": 7,
   "metadata": {},
   "outputs": [
    {
     "name": "stdout",
     "output_type": "stream",
     "text": [
      "Poisson model \n"
     ]
    },
    {
     "data": {
      "image/png": "[encoded data removed]",
      "text/plain": [
       "Plot with title \"\""
      ]
     },
     "metadata": {
      "image/png": {
       "height": 420,
       "width": 420
      }
     },
     "output_type": "display_data"
    }
   ],
   "source": [
    "hnp(modelo)"
   ]
  },
  {
   "cell_type": "code",
   "execution_count": 8,
   "metadata": {},
   "outputs": [
    {
     "name": "stderr",
     "output_type": "stream",
     "text": [
      "Waiting for profiling to be done...\n",
      "\n"
     ]
    },
    {
     "data": {
      "text/html": [
       "<table class=\"dataframe\">\n",
       "<caption>A matrix: 3 × 2 of type dbl</caption>\n",
       "<thead>\n",
       "\t<tr><th></th><th scope=col>0.5 %</th><th scope=col>99.5 %</th></tr>\n",
       "</thead>\n",
       "<tbody>\n",
       "\t<tr><th scope=row>(Intercept)</th><td> 4.3525720</td><td> 4.554219</td></tr>\n",
       "\t<tr><th scope=row>x</th><td>-1.6640009</td><td>-1.423866</td></tr>\n",
       "\t<tr><th scope=row>strain2</th><td>-0.3999625</td><td>-0.150683</td></tr>\n",
       "</tbody>\n",
       "</table>\n"
      ],
      "text/latex": [
       "A matrix: 3 × 2 of type dbl\n",
       "\\begin{tabular}{r|ll}\n",
       "  & 0.5 \\% & 99.5 \\%\\\\\n",
       "\\hline\n",
       "\t(Intercept) &  4.3525720 &  4.554219\\\\\n",
       "\tx & -1.6640009 & -1.423866\\\\\n",
       "\tstrain2 & -0.3999625 & -0.150683\\\\\n",
       "\\end{tabular}\n"
      ],
      "text/markdown": [
       "\n",
       "A matrix: 3 × 2 of type dbl\n",
       "\n",
       "| <!--/--> | 0.5 % | 99.5 % |\n",
       "|---|---|---|\n",
       "| (Intercept) |  4.3525720 |  4.554219 |\n",
       "| x | -1.6640009 | -1.423866 |\n",
       "| strain2 | -0.3999625 | -0.150683 |\n",
       "\n"
      ],
      "text/plain": [
       "            0.5 %      99.5 %   \n",
       "(Intercept)  4.3525720  4.554219\n",
       "x           -1.6640009 -1.423866\n",
       "strain2     -0.3999625 -0.150683"
      ]
     },
     "metadata": {},
     "output_type": "display_data"
    }
   ],
   "source": [
    "#Intervalo de confiança pros betas\n",
    "confint(modelo,level=0.99)"
   ]
  },
  {
   "cell_type": "code",
   "execution_count": 9,
   "metadata": {},
   "outputs": [
    {
     "data": {
      "text/html": [
       "<style>\n",
       ".dl-inline {width: auto; margin:0; padding: 0}\n",
       ".dl-inline>dt, .dl-inline>dd {float: none; width: auto; display: inline-block}\n",
       ".dl-inline>dt::after {content: \":\\0020\"; padding-right: .5ex}\n",
       ".dl-inline>dt:not(:first-of-type) {padding-left: .5ex}\n",
       "</style><dl class=dl-inline><dt>(Intercept)</dt><dd>0.00153176931316819</dd><dt>x</dt><dd>0.00217184698630172</dd><dt>strain2</dt><dd>0.0023398875377869</dd></dl>\n"
      ],
      "text/latex": [
       "\\begin{description*}\n",
       "\\item[(Intercept)] 0.00153176931316819\n",
       "\\item[x] 0.00217184698630172\n",
       "\\item[strain2] 0.0023398875377869\n",
       "\\end{description*}\n"
      ],
      "text/markdown": [
       "(Intercept)\n",
       ":   0.00153176931316819x\n",
       ":   0.00217184698630172strain2\n",
       ":   0.0023398875377869\n",
       "\n"
      ],
      "text/plain": [
       "(Intercept)           x     strain2 \n",
       "0.001531769 0.002171847 0.002339888 "
      ]
     },
     "metadata": {},
     "output_type": "display_data"
    }
   ],
   "source": [
    "diag(vcov(modelo))"
   ]
  },
  {
   "cell_type": "code",
   "execution_count": 10,
   "metadata": {},
   "outputs": [],
   "source": [
    "var=model.matrix(modelo)[1,]%*%vcov(modelo)%*%t(t(model.matrix(modelo)[1,]))"
   ]
  },
  {
   "cell_type": "code",
   "execution_count": 11,
   "metadata": {},
   "outputs": [
    {
     "data": {
      "text/html": [
       "<style>\n",
       ".list-inline {list-style: none; margin:0; padding: 0}\n",
       ".list-inline>li {display: inline-block}\n",
       ".list-inline>li:not(:last-child)::after {content: \"\\00b7\"; padding: 0 .5ex}\n",
       "</style>\n",
       "<ol class=list-inline><li>79.6730421472649</li><li>92.8837526935092</li></ol>\n"
      ],
      "text/latex": [
       "\\begin{enumerate*}\n",
       "\\item 79.6730421472649\n",
       "\\item 92.8837526935092\n",
       "\\end{enumerate*}\n"
      ],
      "text/markdown": [
       "1. 79.6730421472649\n",
       "2. 92.8837526935092\n",
       "\n",
       "\n"
      ],
      "text/plain": [
       "[1] 79.67304 92.88375"
      ]
     },
     "metadata": {},
     "output_type": "display_data"
    }
   ],
   "source": [
    "exp(c(model.matrix(modelo)[1,]%*%modelo$coefficients-qnorm(0.975)*sqrt(var),model.matrix(modelo)[1,]%*%modelo$coefficients+qnorm(0.975)*sqrt(var)))"
   ]
  },
  {
   "cell_type": "code",
   "execution_count": 12,
   "metadata": {},
   "outputs": [
    {
     "data": {
      "text/html": [
       "<table class=\"dataframe\">\n",
       "<caption>A matrix: 1 × 1 of type dbl</caption>\n",
       "<tbody>\n",
       "\t<tr><td>86.02518</td></tr>\n",
       "</tbody>\n",
       "</table>\n"
      ],
      "text/latex": [
       "A matrix: 1 × 1 of type dbl\n",
       "\\begin{tabular}{l}\n",
       "\t 86.02518\\\\\n",
       "\\end{tabular}\n"
      ],
      "text/markdown": [
       "\n",
       "A matrix: 1 × 1 of type dbl\n",
       "\n",
       "| 86.02518 |\n",
       "\n"
      ],
      "text/plain": [
       "     [,1]    \n",
       "[1,] 86.02518"
      ]
     },
     "metadata": {},
     "output_type": "display_data"
    }
   ],
   "source": [
    "exp(model.matrix(modelo)[1,]%*%modelo$coefficients)"
   ]
  },
  {
   "cell_type": "code",
   "execution_count": 13,
   "metadata": {},
   "outputs": [
    {
     "data": {
      "text/html": [
       "<table class=\"dataframe\">\n",
       "<caption>A matrix: 1 × 1 of type dbl</caption>\n",
       "<tbody>\n",
       "\t<tr><td>4.45464</td></tr>\n",
       "</tbody>\n",
       "</table>\n"
      ],
      "text/latex": [
       "A matrix: 1 × 1 of type dbl\n",
       "\\begin{tabular}{l}\n",
       "\t 4.45464\\\\\n",
       "\\end{tabular}\n"
      ],
      "text/markdown": [
       "\n",
       "A matrix: 1 × 1 of type dbl\n",
       "\n",
       "| 4.45464 |\n",
       "\n"
      ],
      "text/plain": [
       "     [,1]   \n",
       "[1,] 4.45464"
      ]
     },
     "metadata": {},
     "output_type": "display_data"
    }
   ],
   "source": [
    "model.matrix(modelo)[1,]%*%modelo$coefficients"
   ]
  },
  {
   "cell_type": "code",
   "execution_count": 14,
   "metadata": {},
   "outputs": [
    {
     "data": {
      "text/plain": [
       "\n",
       "Call:\n",
       "glm.nb(formula = y ~ x + strain, init.theta = 123.2830658, link = log)\n",
       "\n",
       "Deviance Residuals: \n",
       "    Min       1Q   Median       3Q      Max  \n",
       "-2.6556  -0.6768   0.1293   0.6505   1.8073  \n",
       "\n",
       "Coefficients:\n",
       "            Estimate Std. Error z value Pr(>|z|)    \n",
       "(Intercept)  4.44643    0.04828  92.099  < 2e-16 ***\n",
       "x           -1.53971    0.05259 -29.276  < 2e-16 ***\n",
       "strain2     -0.26199    0.05575  -4.699 2.61e-06 ***\n",
       "---\n",
       "Signif. codes:  0 '***' 0.001 '**' 0.01 '*' 0.05 '.' 0.1 ' ' 1\n",
       "\n",
       "(Dispersion parameter for Negative Binomial(123.2831) family taken to be 1)\n",
       "\n",
       "    Null deviance: 1102.340  on 69  degrees of freedom\n",
       "Residual deviance:   71.825  on 67  degrees of freedom\n",
       "AIC: 415.47\n",
       "\n",
       "Number of Fisher Scoring iterations: 1\n",
       "\n",
       "\n",
       "              Theta:  123 \n",
       "          Std. Err.:  102 \n",
       "\n",
       " 2 x log-likelihood:  -407.473 "
      ]
     },
     "metadata": {},
     "output_type": "display_data"
    }
   ],
   "source": [
    "modelo2=glm.nb(y~x+strain)\n",
    "summary(modelo2)"
   ]
  },
  {
   "cell_type": "code",
   "execution_count": 15,
   "metadata": {},
   "outputs": [
    {
     "name": "stdout",
     "output_type": "stream",
     "text": [
      "Negative binomial model (using MASS package) \n"
     ]
    },
    {
     "data": {
      "image/png": "[encoded data removed]",
      "text/plain": [
       "Plot with title \"\""
      ]
     },
     "metadata": {
      "image/png": {
       "height": 420,
       "width": 420
      }
     },
     "output_type": "display_data"
    }
   ],
   "source": [
    "hnp(modelo2)"
   ]
  },
  {
   "cell_type": "code",
   "execution_count": 16,
   "metadata": {},
   "outputs": [
    {
     "data": {
      "text/html": [
       "<table class=\"dataframe\">\n",
       "<caption>A matrix: 8 × 3 of type dbl</caption>\n",
       "<thead>\n",
       "\t<tr><th></th><th scope=col>fit</th><th scope=col>ci.low</th><th scope=col>ci.hi</th></tr>\n",
       "</thead>\n",
       "<tbody>\n",
       "\t<tr><th scope=row>1</th><td>4.45464</td><td>4.376521</td><td>4.532759</td></tr>\n",
       "\t<tr><th scope=row>2</th><td>4.45464</td><td>4.376521</td><td>4.532759</td></tr>\n",
       "\t<tr><th scope=row>3</th><td>4.45464</td><td>4.376521</td><td>4.532759</td></tr>\n",
       "\t<tr><th scope=row>4</th><td>4.45464</td><td>4.376521</td><td>4.532759</td></tr>\n",
       "\t<tr><th scope=row>5</th><td>4.45464</td><td>4.376521</td><td>4.532759</td></tr>\n",
       "\t<tr><th scope=row>6</th><td>3.68310</td><td>3.619656</td><td>3.746544</td></tr>\n",
       "\t<tr><th scope=row>7</th><td>3.68310</td><td>3.619656</td><td>3.746544</td></tr>\n",
       "\t<tr><th scope=row>8</th><td>3.68310</td><td>3.619656</td><td>3.746544</td></tr>\n",
       "</tbody>\n",
       "</table>\n"
      ],
      "text/latex": [
       "A matrix: 8 × 3 of type dbl\n",
       "\\begin{tabular}{r|lll}\n",
       "  & fit & ci.low & ci.hi\\\\\n",
       "\\hline\n",
       "\t1 & 4.45464 & 4.376521 & 4.532759\\\\\n",
       "\t2 & 4.45464 & 4.376521 & 4.532759\\\\\n",
       "\t3 & 4.45464 & 4.376521 & 4.532759\\\\\n",
       "\t4 & 4.45464 & 4.376521 & 4.532759\\\\\n",
       "\t5 & 4.45464 & 4.376521 & 4.532759\\\\\n",
       "\t6 & 3.68310 & 3.619656 & 3.746544\\\\\n",
       "\t7 & 3.68310 & 3.619656 & 3.746544\\\\\n",
       "\t8 & 3.68310 & 3.619656 & 3.746544\\\\\n",
       "\\end{tabular}\n"
      ],
      "text/markdown": [
       "\n",
       "A matrix: 8 × 3 of type dbl\n",
       "\n",
       "| <!--/--> | fit | ci.low | ci.hi |\n",
       "|---|---|---|---|\n",
       "| 1 | 4.45464 | 4.376521 | 4.532759 |\n",
       "| 2 | 4.45464 | 4.376521 | 4.532759 |\n",
       "| 3 | 4.45464 | 4.376521 | 4.532759 |\n",
       "| 4 | 4.45464 | 4.376521 | 4.532759 |\n",
       "| 5 | 4.45464 | 4.376521 | 4.532759 |\n",
       "| 6 | 3.68310 | 3.619656 | 3.746544 |\n",
       "| 7 | 3.68310 | 3.619656 | 3.746544 |\n",
       "| 8 | 3.68310 | 3.619656 | 3.746544 |\n",
       "\n"
      ],
      "text/plain": [
       "  fit     ci.low   ci.hi   \n",
       "1 4.45464 4.376521 4.532759\n",
       "2 4.45464 4.376521 4.532759\n",
       "3 4.45464 4.376521 4.532759\n",
       "4 4.45464 4.376521 4.532759\n",
       "5 4.45464 4.376521 4.532759\n",
       "6 3.68310 3.619656 3.746544\n",
       "7 3.68310 3.619656 3.746544\n",
       "8 3.68310 3.619656 3.746544"
      ]
     },
     "metadata": {},
     "output_type": "display_data"
    }
   ],
   "source": [
    "#Intervalo de confiança para os preditores lineares.\n",
    "interval(modelo)[1:8,1:3]"
   ]
  },
  {
   "cell_type": "code",
   "execution_count": 17,
   "metadata": {},
   "outputs": [
    {
     "data": {
      "text/html": [
       "<table class=\"dataframe\">\n",
       "<caption>A data.frame: 6 × 4</caption>\n",
       "<thead>\n",
       "\t<tr><th></th><th scope=col>y</th><th scope=col>x</th><th scope=col>strain</th><th scope=col>modelo.fitted.values</th></tr>\n",
       "\t<tr><th></th><th scope=col>&lt;dbl&gt;</th><th scope=col>&lt;dbl&gt;</th><th scope=col>&lt;fct&gt;</th><th scope=col>&lt;dbl&gt;</th></tr>\n",
       "</thead>\n",
       "<tbody>\n",
       "\t<tr><th scope=row>1</th><td> 82</td><td>0.0</td><td>1</td><td>86.02518</td></tr>\n",
       "\t<tr><th scope=row>2</th><td>106</td><td>0.0</td><td>1</td><td>86.02518</td></tr>\n",
       "\t<tr><th scope=row>3</th><td> 63</td><td>0.0</td><td>1</td><td>86.02518</td></tr>\n",
       "\t<tr><th scope=row>4</th><td> 99</td><td>0.0</td><td>1</td><td>86.02518</td></tr>\n",
       "\t<tr><th scope=row>5</th><td>101</td><td>0.0</td><td>1</td><td>86.02518</td></tr>\n",
       "\t<tr><th scope=row>6</th><td> 45</td><td>0.5</td><td>1</td><td>39.76950</td></tr>\n",
       "</tbody>\n",
       "</table>\n"
      ],
      "text/latex": [
       "A data.frame: 6 × 4\n",
       "\\begin{tabular}{r|llll}\n",
       "  & y & x & strain & modelo.fitted.values\\\\\n",
       "  & <dbl> & <dbl> & <fct> & <dbl>\\\\\n",
       "\\hline\n",
       "\t1 &  82 & 0.0 & 1 & 86.02518\\\\\n",
       "\t2 & 106 & 0.0 & 1 & 86.02518\\\\\n",
       "\t3 &  63 & 0.0 & 1 & 86.02518\\\\\n",
       "\t4 &  99 & 0.0 & 1 & 86.02518\\\\\n",
       "\t5 & 101 & 0.0 & 1 & 86.02518\\\\\n",
       "\t6 &  45 & 0.5 & 1 & 39.76950\\\\\n",
       "\\end{tabular}\n"
      ],
      "text/markdown": [
       "\n",
       "A data.frame: 6 × 4\n",
       "\n",
       "| <!--/--> | y &lt;dbl&gt; | x &lt;dbl&gt; | strain &lt;fct&gt; | modelo.fitted.values &lt;dbl&gt; |\n",
       "|---|---|---|---|---|\n",
       "| 1 |  82 | 0.0 | 1 | 86.02518 |\n",
       "| 2 | 106 | 0.0 | 1 | 86.02518 |\n",
       "| 3 |  63 | 0.0 | 1 | 86.02518 |\n",
       "| 4 |  99 | 0.0 | 1 | 86.02518 |\n",
       "| 5 | 101 | 0.0 | 1 | 86.02518 |\n",
       "| 6 |  45 | 0.5 | 1 | 39.76950 |\n",
       "\n"
      ],
      "text/plain": [
       "  y   x   strain modelo.fitted.values\n",
       "1  82 0.0 1      86.02518            \n",
       "2 106 0.0 1      86.02518            \n",
       "3  63 0.0 1      86.02518            \n",
       "4  99 0.0 1      86.02518            \n",
       "5 101 0.0 1      86.02518            \n",
       "6  45 0.5 1      39.76950            "
      ]
     },
     "metadata": {},
     "output_type": "display_data"
    }
   ],
   "source": [
    "dados=data.frame(y,x,strain,modelo$fitted.values)\n",
    "head(dados)"
   ]
  },
  {
   "cell_type": "code",
   "execution_count": 18,
   "metadata": {},
   "outputs": [
    {
     "name": "stderr",
     "output_type": "stream",
     "text": [
      "`geom_smooth()` using formula 'y ~ x'\n",
      "\n",
      "`geom_smooth()` using formula 'y ~ x'\n",
      "\n"
     ]
    },
    {
     "data": {
      "image/png": "[encoded data removed]",
      "text/plain": [
       "plot without title"
      ]
     },
     "metadata": {
      "image/png": {
       "height": 420,
       "width": 420
      }
     },
     "output_type": "display_data"
    }
   ],
   "source": [
    "(ggplot(dados)+aes(x,y)+geom_point(aes(color=strain))\n",
    "+geom_smooth(color=\"blue\",method=glm, method.args = list(family = poisson(link=\"log\"))\n",
    "             ,se=F,data=dados[dados$strain==\"1\",])+\n",
    "  geom_smooth(color=\"red\",method=glm, method.args = list(family = poisson(link=\"log\"))\n",
    "              ,se=F,data=dados[dados$strain==\"2\",])+theme_test())"
   ]
  }
 ],
 "metadata": {
  "kernelspec": {
   "display_name": "R",
   "language": "R",
   "name": "ir"
  },
  "language_info": {
   "codemirror_mode": "r",
   "file_extension": ".r",
   "mimetype": "text/x-r-source",
   "name": "R",
   "pygments_lexer": "r",
   "version": "3.6.1"
  }
 },
 "nbformat": 4,
 "nbformat_minor": 2
}
