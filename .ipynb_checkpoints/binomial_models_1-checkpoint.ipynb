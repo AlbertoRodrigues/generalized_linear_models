{
 "cells": [
  {
   "cell_type": "code",
   "execution_count": 9,
   "metadata": {},
   "outputs": [],
   "source": [
    "require(ggplot2)"
   ]
  },
  {
   "cell_type": "code",
   "execution_count": 10,
   "metadata": {},
   "outputs": [],
   "source": [
    "dose=c(10.2,7.7,5.1,3.8,2.6,0)\n",
    "m=c(50,49,46,48,50,49)\n",
    "y=c(44,42,24,16,6,0)\n",
    "p=y/m"
   ]
  },
  {
   "cell_type": "code",
   "execution_count": 11,
   "metadata": {},
   "outputs": [
    {
     "data": {
      "text/html": [
       "<table class=\"dataframe\">\n",
       "<caption>A data.frame: 6 × 4</caption>\n",
       "<thead>\n",
       "\t<tr><th scope=col>dose</th><th scope=col>m</th><th scope=col>y</th><th scope=col>p</th></tr>\n",
       "\t<tr><th scope=col>&lt;dbl&gt;</th><th scope=col>&lt;dbl&gt;</th><th scope=col>&lt;dbl&gt;</th><th scope=col>&lt;dbl&gt;</th></tr>\n",
       "</thead>\n",
       "<tbody>\n",
       "\t<tr><td>10.2</td><td>50</td><td>44</td><td>0.8800000</td></tr>\n",
       "\t<tr><td> 7.7</td><td>49</td><td>42</td><td>0.8571429</td></tr>\n",
       "\t<tr><td> 5.1</td><td>46</td><td>24</td><td>0.5217391</td></tr>\n",
       "\t<tr><td> 3.8</td><td>48</td><td>16</td><td>0.3333333</td></tr>\n",
       "\t<tr><td> 2.6</td><td>50</td><td> 6</td><td>0.1200000</td></tr>\n",
       "\t<tr><td> 0.0</td><td>49</td><td> 0</td><td>0.0000000</td></tr>\n",
       "</tbody>\n",
       "</table>\n"
      ],
      "text/latex": [
       "A data.frame: 6 × 4\n",
       "\\begin{tabular}{llll}\n",
       " dose & m & y & p\\\\\n",
       " <dbl> & <dbl> & <dbl> & <dbl>\\\\\n",
       "\\hline\n",
       "\t 10.2 & 50 & 44 & 0.8800000\\\\\n",
       "\t  7.7 & 49 & 42 & 0.8571429\\\\\n",
       "\t  5.1 & 46 & 24 & 0.5217391\\\\\n",
       "\t  3.8 & 48 & 16 & 0.3333333\\\\\n",
       "\t  2.6 & 50 &  6 & 0.1200000\\\\\n",
       "\t  0.0 & 49 &  0 & 0.0000000\\\\\n",
       "\\end{tabular}\n"
      ],
      "text/markdown": [
       "\n",
       "A data.frame: 6 × 4\n",
       "\n",
       "| dose &lt;dbl&gt; | m &lt;dbl&gt; | y &lt;dbl&gt; | p &lt;dbl&gt; |\n",
       "|---|---|---|---|\n",
       "| 10.2 | 50 | 44 | 0.8800000 |\n",
       "|  7.7 | 49 | 42 | 0.8571429 |\n",
       "|  5.1 | 46 | 24 | 0.5217391 |\n",
       "|  3.8 | 48 | 16 | 0.3333333 |\n",
       "|  2.6 | 50 |  6 | 0.1200000 |\n",
       "|  0.0 | 49 |  0 | 0.0000000 |\n",
       "\n"
      ],
      "text/plain": [
       "  dose m  y  p        \n",
       "1 10.2 50 44 0.8800000\n",
       "2  7.7 49 42 0.8571429\n",
       "3  5.1 46 24 0.5217391\n",
       "4  3.8 48 16 0.3333333\n",
       "5  2.6 50  6 0.1200000\n",
       "6  0.0 49  0 0.0000000"
      ]
     },
     "metadata": {},
     "output_type": "display_data"
    }
   ],
   "source": [
    "dados=cbind.data.frame(dose,m,y,p)\n",
    "dados"
   ]
  },
  {
   "cell_type": "code",
   "execution_count": 12,
   "metadata": {},
   "outputs": [
    {
     "data": {
      "image/png": "[encoded data removed]",
      "text/plain": [
       "plot without title"
      ]
     },
     "metadata": {
      "image/png": {
       "height": 420,
       "width": 420
      }
     },
     "output_type": "display_data"
    }
   ],
   "source": [
    "ggplot(dados)+aes(dose,p)+geom_point()+theme_test()"
   ]
  },
  {
   "cell_type": "code",
   "execution_count": 13,
   "metadata": {},
   "outputs": [
    {
     "data": {
      "text/html": [
       "<table class=\"dataframe\">\n",
       "<caption>A matrix: 6 × 2 of type dbl</caption>\n",
       "<thead>\n",
       "\t<tr><th scope=col>Sucessos</th><th scope=col>Fracassos</th></tr>\n",
       "</thead>\n",
       "<tbody>\n",
       "\t<tr><td>44</td><td> 6</td></tr>\n",
       "\t<tr><td>42</td><td> 7</td></tr>\n",
       "\t<tr><td>24</td><td>22</td></tr>\n",
       "\t<tr><td>16</td><td>32</td></tr>\n",
       "\t<tr><td> 6</td><td>44</td></tr>\n",
       "\t<tr><td> 0</td><td>49</td></tr>\n",
       "</tbody>\n",
       "</table>\n"
      ],
      "text/latex": [
       "A matrix: 6 × 2 of type dbl\n",
       "\\begin{tabular}{ll}\n",
       " Sucessos & Fracassos\\\\\n",
       "\\hline\n",
       "\t 44 &  6\\\\\n",
       "\t 42 &  7\\\\\n",
       "\t 24 & 22\\\\\n",
       "\t 16 & 32\\\\\n",
       "\t  6 & 44\\\\\n",
       "\t  0 & 49\\\\\n",
       "\\end{tabular}\n"
      ],
      "text/markdown": [
       "\n",
       "A matrix: 6 × 2 of type dbl\n",
       "\n",
       "| Sucessos | Fracassos |\n",
       "|---|---|\n",
       "| 44 |  6 |\n",
       "| 42 |  7 |\n",
       "| 24 | 22 |\n",
       "| 16 | 32 |\n",
       "|  6 | 44 |\n",
       "|  0 | 49 |\n",
       "\n"
      ],
      "text/plain": [
       "     Sucessos Fracassos\n",
       "[1,] 44        6       \n",
       "[2,] 42        7       \n",
       "[3,] 24       22       \n",
       "[4,] 16       32       \n",
       "[5,]  6       44       \n",
       "[6,]  0       49       "
      ]
     },
     "metadata": {},
     "output_type": "display_data"
    }
   ],
   "source": [
    "resp=cbind(y,m-y)\n",
    "colnames(resp)=c(\"Sucessos\",\"Fracassos\")\n",
    "resp"
   ]
  },
  {
   "cell_type": "code",
   "execution_count": 14,
   "metadata": {},
   "outputs": [],
   "source": [
    "modelo1=glm(resp~dose,family= binomial)"
   ]
  },
  {
   "cell_type": "code",
   "execution_count": 15,
   "metadata": {},
   "outputs": [
    {
     "data": {
      "text/plain": [
       "\n",
       "Call:\n",
       "glm(formula = resp ~ dose, family = binomial)\n",
       "\n",
       "Deviance Residuals: \n",
       "      1        2        3        4        5        6  \n",
       "-1.9456   0.9145   0.7679   0.7507  -0.8157  -1.9540  \n",
       "\n",
       "Coefficients:\n",
       "            Estimate Std. Error z value Pr(>|z|)    \n",
       "(Intercept) -3.22566    0.36992  -8.720   <2e-16 ***\n",
       "dose         0.60513    0.06781   8.923   <2e-16 ***\n",
       "---\n",
       "Signif. codes:  0 '***' 0.001 '**' 0.01 '*' 0.05 '.' 0.1 ' ' 1\n",
       "\n",
       "(Dispersion parameter for binomial family taken to be 1)\n",
       "\n",
       "    Null deviance: 163.745  on 5  degrees of freedom\n",
       "Residual deviance:  10.258  on 4  degrees of freedom\n",
       "AIC: 33.479\n",
       "\n",
       "Number of Fisher Scoring iterations: 5\n"
      ]
     },
     "metadata": {},
     "output_type": "display_data"
    }
   ],
   "source": [
    "summary(modelo1)"
   ]
  },
  {
   "cell_type": "code",
   "execution_count": 16,
   "metadata": {},
   "outputs": [
    {
     "data": {
      "text/html": [
       "<style>\n",
       ".dl-inline {width: auto; margin:0; padding: 0}\n",
       ".dl-inline>dt, .dl-inline>dd {float: none; width: auto; display: inline-block}\n",
       ".dl-inline>dt::after {content: \":\\0020\"; padding-right: .5ex}\n",
       ".dl-inline>dt:not(:first-of-type) {padding-left: .5ex}\n",
       "</style><dl class=dl-inline><dt>(Intercept)</dt><dd>-3.22566331266368</dd><dt>dose</dt><dd>0.605125555674296</dd></dl>\n"
      ],
      "text/latex": [
       "\\begin{description*}\n",
       "\\item[(Intercept)] -3.22566331266368\n",
       "\\item[dose] 0.605125555674296\n",
       "\\end{description*}\n"
      ],
      "text/markdown": [
       "(Intercept)\n",
       ":   -3.22566331266368dose\n",
       ":   0.605125555674296\n",
       "\n"
      ],
      "text/plain": [
       "(Intercept)        dose \n",
       " -3.2256633   0.6051256 "
      ]
     },
     "metadata": {},
     "output_type": "display_data"
    }
   ],
   "source": [
    "modelo1$coefficients"
   ]
  },
  {
   "cell_type": "code",
   "execution_count": 17,
   "metadata": {},
   "outputs": [
    {
     "data": {
      "text/html": [
       "<style>\n",
       ".dl-inline {width: auto; margin:0; padding: 0}\n",
       ".dl-inline>dt, .dl-inline>dd {float: none; width: auto; display: inline-block}\n",
       ".dl-inline>dt::after {content: \":\\0020\"; padding-right: .5ex}\n",
       ".dl-inline>dt:not(:first-of-type) {padding-left: .5ex}\n",
       "</style><dl class=dl-inline><dt>1</dt><dd>0.950103371489499</dd><dt>2</dt><dd>0.8074932481576</dd><dt>3</dt><dd>0.465175729689009</dd><dt>4</dt><dd>0.283699091776025</dd><dt>5</dt><dd>0.160793365273111</dd><dt>6</dt><dd>0.0382113067592545</dd></dl>\n"
      ],
      "text/latex": [
       "\\begin{description*}\n",
       "\\item[1] 0.950103371489499\n",
       "\\item[2] 0.8074932481576\n",
       "\\item[3] 0.465175729689009\n",
       "\\item[4] 0.283699091776025\n",
       "\\item[5] 0.160793365273111\n",
       "\\item[6] 0.0382113067592545\n",
       "\\end{description*}\n"
      ],
      "text/markdown": [
       "1\n",
       ":   0.9501033714894992\n",
       ":   0.80749324815763\n",
       ":   0.4651757296890094\n",
       ":   0.2836990917760255\n",
       ":   0.1607933652731116\n",
       ":   0.0382113067592545\n",
       "\n"
      ],
      "text/plain": [
       "         1          2          3          4          5          6 \n",
       "0.95010337 0.80749325 0.46517573 0.28369909 0.16079337 0.03821131 "
      ]
     },
     "metadata": {},
     "output_type": "display_data"
    }
   ],
   "source": [
    "modelo1$fitted.values"
   ]
  },
  {
   "cell_type": "code",
   "execution_count": 18,
   "metadata": {},
   "outputs": [
    {
     "data": {
      "text/html": [
       "<style>\n",
       ".dl-inline {width: auto; margin:0; padding: 0}\n",
       ".dl-inline>dt, .dl-inline>dd {float: none; width: auto; display: inline-block}\n",
       ".dl-inline>dt::after {content: \":\\0020\"; padding-right: .5ex}\n",
       ".dl-inline>dt:not(:first-of-type) {padding-left: .5ex}\n",
       "</style><dl class=dl-inline><dt>1</dt><dd>47.5051685744749</dd><dt>2</dt><dd>39.5671691597224</dd><dt>3</dt><dd>21.3980835656944</dd><dt>4</dt><dd>13.6175564052492</dd><dt>5</dt><dd>8.03966826365553</dd><dt>6</dt><dd>1.87235403120347</dd></dl>\n"
      ],
      "text/latex": [
       "\\begin{description*}\n",
       "\\item[1] 47.5051685744749\n",
       "\\item[2] 39.5671691597224\n",
       "\\item[3] 21.3980835656944\n",
       "\\item[4] 13.6175564052492\n",
       "\\item[5] 8.03966826365553\n",
       "\\item[6] 1.87235403120347\n",
       "\\end{description*}\n"
      ],
      "text/markdown": [
       "1\n",
       ":   47.50516857447492\n",
       ":   39.56716915972243\n",
       ":   21.39808356569444\n",
       ":   13.61755640524925\n",
       ":   8.039668263655536\n",
       ":   1.87235403120347\n",
       "\n"
      ],
      "text/plain": [
       "        1         2         3         4         5         6 \n",
       "47.505169 39.567169 21.398084 13.617556  8.039668  1.872354 "
      ]
     },
     "metadata": {},
     "output_type": "display_data"
    }
   ],
   "source": [
    "modelo1$fitted.values*m"
   ]
  },
  {
   "cell_type": "code",
   "execution_count": 19,
   "metadata": {},
   "outputs": [
    {
     "data": {
      "text/html": [
       "<style>\n",
       ".dl-inline {width: auto; margin:0; padding: 0}\n",
       ".dl-inline>dt, .dl-inline>dd {float: none; width: auto; display: inline-block}\n",
       ".dl-inline>dt::after {content: \":\\0020\"; padding-right: .5ex}\n",
       ".dl-inline>dt:not(:first-of-type) {padding-left: .5ex}\n",
       "</style><dl class=dl-inline><dt>1</dt><dd>2.94661735521414</dd><dt>2</dt><dd>1.4338034660284</dd><dt>3</dt><dd>-0.139522978724769</dd><dt>4</dt><dd>-0.926186201101354</dd><dt>5</dt><dd>-1.65233686791051</dd><dt>6</dt><dd>-3.22566331266368</dd></dl>\n"
      ],
      "text/latex": [
       "\\begin{description*}\n",
       "\\item[1] 2.94661735521414\n",
       "\\item[2] 1.4338034660284\n",
       "\\item[3] -0.139522978724769\n",
       "\\item[4] -0.926186201101354\n",
       "\\item[5] -1.65233686791051\n",
       "\\item[6] -3.22566331266368\n",
       "\\end{description*}\n"
      ],
      "text/markdown": [
       "1\n",
       ":   2.946617355214142\n",
       ":   1.43380346602843\n",
       ":   -0.1395229787247694\n",
       ":   -0.9261862011013545\n",
       ":   -1.652336867910516\n",
       ":   -3.22566331266368\n",
       "\n"
      ],
      "text/plain": [
       "         1          2          3          4          5          6 \n",
       " 2.9466174  1.4338035 -0.1395230 -0.9261862 -1.6523369 -3.2256633 "
      ]
     },
     "metadata": {},
     "output_type": "display_data"
    }
   ],
   "source": [
    "modelo1$linear.predictors"
   ]
  },
  {
   "cell_type": "code",
   "execution_count": 20,
   "metadata": {},
   "outputs": [
    {
     "data": {
      "text/html": [
       "<style>\n",
       ".dl-inline {width: auto; margin:0; padding: 0}\n",
       ".dl-inline>dt, .dl-inline>dd {float: none; width: auto; display: inline-block}\n",
       ".dl-inline>dt::after {content: \":\\0020\"; padding-right: .5ex}\n",
       ".dl-inline>dt:not(:first-of-type) {padding-left: .5ex}\n",
       "</style><dl class=dl-inline><dt>1</dt><dd>-1.47875710490712</dd><dt>2</dt><dd>0.319397098569167</dd><dt>3</dt><dd>0.22735649095275</dd><dt>4</dt><dd>0.244246271442724</dd><dt>5</dt><dd>-0.302309991268206</dd><dt>6</dt><dd>-1.03972941980686</dd></dl>\n"
      ],
      "text/latex": [
       "\\begin{description*}\n",
       "\\item[1] -1.47875710490712\n",
       "\\item[2] 0.319397098569167\n",
       "\\item[3] 0.22735649095275\n",
       "\\item[4] 0.244246271442724\n",
       "\\item[5] -0.302309991268206\n",
       "\\item[6] -1.03972941980686\n",
       "\\end{description*}\n"
      ],
      "text/markdown": [
       "1\n",
       ":   -1.478757104907122\n",
       ":   0.3193970985691673\n",
       ":   0.227356490952754\n",
       ":   0.2442462714427245\n",
       ":   -0.3023099912682066\n",
       ":   -1.03972941980686\n",
       "\n"
      ],
      "text/plain": [
       "         1          2          3          4          5          6 \n",
       "-1.4787571  0.3193971  0.2273565  0.2442463 -0.3023100 -1.0397294 "
      ]
     },
     "metadata": {},
     "output_type": "display_data"
    }
   ],
   "source": [
    "modelo1$residuals"
   ]
  },
  {
   "cell_type": "code",
   "execution_count": 21,
   "metadata": {},
   "outputs": [
    {
     "data": {
      "text/html": [
       "<table class=\"dataframe\">\n",
       "<caption>A matrix: 6 × 2 of type dbl</caption>\n",
       "<thead>\n",
       "\t<tr><th></th><th scope=col>p</th><th scope=col></th></tr>\n",
       "</thead>\n",
       "<tbody>\n",
       "\t<tr><th scope=row>1</th><td>0.8800000</td><td>0.95010337</td></tr>\n",
       "\t<tr><th scope=row>2</th><td>0.8571429</td><td>0.80749325</td></tr>\n",
       "\t<tr><th scope=row>3</th><td>0.5217391</td><td>0.46517573</td></tr>\n",
       "\t<tr><th scope=row>4</th><td>0.3333333</td><td>0.28369909</td></tr>\n",
       "\t<tr><th scope=row>5</th><td>0.1200000</td><td>0.16079337</td></tr>\n",
       "\t<tr><th scope=row>6</th><td>0.0000000</td><td>0.03821131</td></tr>\n",
       "</tbody>\n",
       "</table>\n"
      ],
      "text/latex": [
       "A matrix: 6 × 2 of type dbl\n",
       "\\begin{tabular}{r|ll}\n",
       "  & p & \\\\\n",
       "\\hline\n",
       "\t1 & 0.8800000 & 0.95010337\\\\\n",
       "\t2 & 0.8571429 & 0.80749325\\\\\n",
       "\t3 & 0.5217391 & 0.46517573\\\\\n",
       "\t4 & 0.3333333 & 0.28369909\\\\\n",
       "\t5 & 0.1200000 & 0.16079337\\\\\n",
       "\t6 & 0.0000000 & 0.03821131\\\\\n",
       "\\end{tabular}\n"
      ],
      "text/markdown": [
       "\n",
       "A matrix: 6 × 2 of type dbl\n",
       "\n",
       "| <!--/--> | p | <!----> |\n",
       "|---|---|---|\n",
       "| 1 | 0.8800000 | 0.95010337 |\n",
       "| 2 | 0.8571429 | 0.80749325 |\n",
       "| 3 | 0.5217391 | 0.46517573 |\n",
       "| 4 | 0.3333333 | 0.28369909 |\n",
       "| 5 | 0.1200000 | 0.16079337 |\n",
       "| 6 | 0.0000000 | 0.03821131 |\n",
       "\n"
      ],
      "text/plain": [
       "  p                   \n",
       "1 0.8800000 0.95010337\n",
       "2 0.8571429 0.80749325\n",
       "3 0.5217391 0.46517573\n",
       "4 0.3333333 0.28369909\n",
       "5 0.1200000 0.16079337\n",
       "6 0.0000000 0.03821131"
      ]
     },
     "metadata": {},
     "output_type": "display_data"
    }
   ],
   "source": [
    "cbind(p,modelo1$fitted.values)"
   ]
  },
  {
   "cell_type": "code",
   "execution_count": 22,
   "metadata": {},
   "outputs": [
    {
     "name": "stderr",
     "output_type": "stream",
     "text": [
      "`geom_smooth()` using formula 'y ~ x'\n",
      "\n",
      "Warning message in eval(family$initialize):\n",
      "\"non-integer #successes in a binomial glm!\"\n"
     ]
    },
    {
     "data": {
      "image/png": "[encoded data removed]",
      "text/plain": [
       "plot without title"
      ]
     },
     "metadata": {
      "image/png": {
       "height": 420,
       "width": 420
      }
     },
     "output_type": "display_data"
    }
   ],
   "source": [
    "ggplot(dados)+aes(dose,p)+geom_point()+geom_smooth(method=glm, method.args = list(family = binomial(link=\"logit\")),se=F)+theme_test()"
   ]
  },
  {
   "cell_type": "code",
   "execution_count": 25,
   "metadata": {},
   "outputs": [],
   "source": [
    "modelo2=glm(resp~dose,family= binomial(link=\"probit\"))"
   ]
  },
  {
   "cell_type": "code",
   "execution_count": 26,
   "metadata": {},
   "outputs": [
    {
     "data": {
      "text/plain": [
       "\n",
       "Call:\n",
       "glm(formula = resp ~ dose, family = binomial(link = \"probit\"))\n",
       "\n",
       "Deviance Residuals: \n",
       "      1        2        3        4        5        6  \n",
       "-1.9488   1.3194   0.9202   0.7128  -0.8693  -1.7338  \n",
       "\n",
       "Coefficients:\n",
       "            Estimate Std. Error z value Pr(>|z|)    \n",
       "(Intercept) -1.87775    0.19485  -9.637   <2e-16 ***\n",
       "dose         0.34553    0.03436  10.055   <2e-16 ***\n",
       "---\n",
       "Signif. codes:  0 '***' 0.001 '**' 0.01 '*' 0.05 '.' 0.1 ' ' 1\n",
       "\n",
       "(Dispersion parameter for binomial family taken to be 1)\n",
       "\n",
       "    Null deviance: 163.745  on 5  degrees of freedom\n",
       "Residual deviance:  10.655  on 4  degrees of freedom\n",
       "AIC: 33.876\n",
       "\n",
       "Number of Fisher Scoring iterations: 5\n"
      ]
     },
     "metadata": {},
     "output_type": "display_data"
    }
   ],
   "source": [
    "summary(modelo2)"
   ]
  },
  {
   "cell_type": "code",
   "execution_count": null,
   "metadata": {},
   "outputs": [],
   "source": [
    "cbind(p, modelo2$fitted.values)"
   ]
  },
  {
   "cell_type": "code",
   "execution_count": 33,
   "metadata": {},
   "outputs": [
    {
     "name": "stderr",
     "output_type": "stream",
     "text": [
      "`geom_smooth()` using formula 'y ~ x'\n",
      "\n",
      "Warning message in eval(family$initialize):\n",
      "\"non-integer #successes in a binomial glm!\"\n"
     ]
    },
    {
     "data": {
      "image/png": "[encoded data removed]",
      "text/plain": [
       "plot without title"
      ]
     },
     "metadata": {
      "image/png": {
       "height": 420,
       "width": 420
      }
     },
     "output_type": "display_data"
    }
   ],
   "source": [
    "ggplot(dados)+aes(dose,p)+geom_point()+geom_smooth(method=glm, method.args = list(family = binomial(link=\"probit\")),se=F)+theme_test()"
   ]
  },
  {
   "cell_type": "code",
   "execution_count": 35,
   "metadata": {},
   "outputs": [],
   "source": [
    "modelo3=glm(resp~dose,family= binomial(link=\"cloglog\"))"
   ]
  },
  {
   "cell_type": "code",
   "execution_count": 36,
   "metadata": {},
   "outputs": [
    {
     "data": {
      "text/plain": [
       "\n",
       "Call:\n",
       "glm(formula = resp ~ dose, family = binomial(link = \"cloglog\"))\n",
       "\n",
       "Deviance Residuals: \n",
       "     1       2       3       4       5       6  \n",
       "-2.074   2.198   1.522   0.710  -1.500  -2.986  \n",
       "\n",
       "Coefficients:\n",
       "            Estimate Std. Error z value Pr(>|z|)    \n",
       "(Intercept) -2.39735    0.24515  -9.779   <2e-16 ***\n",
       "dose         0.34488    0.03481   9.908   <2e-16 ***\n",
       "---\n",
       "Signif. codes:  0 '***' 0.001 '**' 0.01 '*' 0.05 '.' 0.1 ' ' 1\n",
       "\n",
       "(Dispersion parameter for binomial family taken to be 1)\n",
       "\n",
       "    Null deviance: 163.745  on 5  degrees of freedom\n",
       "Residual deviance:  23.119  on 4  degrees of freedom\n",
       "AIC: 46.339\n",
       "\n",
       "Number of Fisher Scoring iterations: 7\n"
      ]
     },
     "metadata": {},
     "output_type": "display_data"
    }
   ],
   "source": [
    "summary(modelo3)"
   ]
  },
  {
   "cell_type": "code",
   "execution_count": 42,
   "metadata": {},
   "outputs": [
    {
     "data": {
      "text/html": [
       "<table class=\"dataframe\">\n",
       "<caption>A matrix: 6 × 2 of type dbl</caption>\n",
       "<thead>\n",
       "\t<tr><th></th><th scope=col>p</th><th scope=col></th></tr>\n",
       "</thead>\n",
       "<tbody>\n",
       "\t<tr><th scope=row>1</th><td>0.8800000</td><td>0.95340630</td></tr>\n",
       "\t<tr><th scope=row>2</th><td>0.8571429</td><td>0.72601274</td></tr>\n",
       "\t<tr><th scope=row>3</th><td>0.5217391</td><td>0.41028503</td></tr>\n",
       "\t<tr><th scope=row>4</th><td>0.3333333</td><td>0.28630388</td></tr>\n",
       "\t<tr><th scope=row>5</th><td>0.1200000</td><td>0.19987345</td></tr>\n",
       "\t<tr><th scope=row>6</th><td>0.0000000</td><td>0.08694479</td></tr>\n",
       "</tbody>\n",
       "</table>\n"
      ],
      "text/latex": [
       "A matrix: 6 × 2 of type dbl\n",
       "\\begin{tabular}{r|ll}\n",
       "  & p & \\\\\n",
       "\\hline\n",
       "\t1 & 0.8800000 & 0.95340630\\\\\n",
       "\t2 & 0.8571429 & 0.72601274\\\\\n",
       "\t3 & 0.5217391 & 0.41028503\\\\\n",
       "\t4 & 0.3333333 & 0.28630388\\\\\n",
       "\t5 & 0.1200000 & 0.19987345\\\\\n",
       "\t6 & 0.0000000 & 0.08694479\\\\\n",
       "\\end{tabular}\n"
      ],
      "text/markdown": [
       "\n",
       "A matrix: 6 × 2 of type dbl\n",
       "\n",
       "| <!--/--> | p | <!----> |\n",
       "|---|---|---|\n",
       "| 1 | 0.8800000 | 0.95340630 |\n",
       "| 2 | 0.8571429 | 0.72601274 |\n",
       "| 3 | 0.5217391 | 0.41028503 |\n",
       "| 4 | 0.3333333 | 0.28630388 |\n",
       "| 5 | 0.1200000 | 0.19987345 |\n",
       "| 6 | 0.0000000 | 0.08694479 |\n",
       "\n"
      ],
      "text/plain": [
       "  p                   \n",
       "1 0.8800000 0.95340630\n",
       "2 0.8571429 0.72601274\n",
       "3 0.5217391 0.41028503\n",
       "4 0.3333333 0.28630388\n",
       "5 0.1200000 0.19987345\n",
       "6 0.0000000 0.08694479"
      ]
     },
     "metadata": {},
     "output_type": "display_data"
    }
   ],
   "source": [
    "cbind(p,modelo3$fitted.values)"
   ]
  },
  {
   "cell_type": "code",
   "execution_count": 43,
   "metadata": {},
   "outputs": [
    {
     "name": "stderr",
     "output_type": "stream",
     "text": [
      "`geom_smooth()` using formula 'y ~ x'\n",
      "\n",
      "Warning message in eval(family$initialize):\n",
      "\"non-integer #successes in a binomial glm!\"\n"
     ]
    },
    {
     "data": {
      "image/png": "[encoded data removed]",
      "text/plain": [
       "plot without title"
      ]
     },
     "metadata": {
      "image/png": {
       "height": 420,
       "width": 420
      }
     },
     "output_type": "display_data"
    }
   ],
   "source": [
    "ggplot(dados)+aes(dose,p)+geom_point()+geom_smooth(method=glm, method.args = list(family = binomial(link=\"cloglog\")),se=F)+theme_test()"
   ]
  },
  {
   "cell_type": "code",
   "execution_count": 45,
   "metadata": {},
   "outputs": [
    {
     "name": "stderr",
     "output_type": "stream",
     "text": [
      "Loading required package: MASS\n",
      "\n"
     ]
    }
   ],
   "source": [
    "require(MASS)"
   ]
  },
  {
   "cell_type": "code",
   "execution_count": 46,
   "metadata": {},
   "outputs": [
    {
     "data": {
      "text/html": [
       "<table class=\"dataframe\">\n",
       "<caption>A matrix: 3 × 1 of type dbl</caption>\n",
       "<thead>\n",
       "\t<tr><th></th><th scope=col>p = 0.5:</th></tr>\n",
       "</thead>\n",
       "<tbody>\n",
       "\t<tr><th scope=row>Modelo Binomial-Logit</th><td>5.330569</td></tr>\n",
       "\t<tr><th scope=row>Modelo Binomial-Probit</th><td>5.434366</td></tr>\n",
       "\t<tr><th scope=row>Modelo Binomial-cloglog</th><td>5.888458</td></tr>\n",
       "</tbody>\n",
       "</table>\n"
      ],
      "text/latex": [
       "A matrix: 3 × 1 of type dbl\n",
       "\\begin{tabular}{r|l}\n",
       "  & p = 0.5:\\\\\n",
       "\\hline\n",
       "\tModelo Binomial-Logit & 5.330569\\\\\n",
       "\tModelo Binomial-Probit & 5.434366\\\\\n",
       "\tModelo Binomial-cloglog & 5.888458\\\\\n",
       "\\end{tabular}\n"
      ],
      "text/markdown": [
       "\n",
       "A matrix: 3 × 1 of type dbl\n",
       "\n",
       "| <!--/--> | p = 0.5: |\n",
       "|---|---|\n",
       "| Modelo Binomial-Logit | 5.330569 |\n",
       "| Modelo Binomial-Probit | 5.434366 |\n",
       "| Modelo Binomial-cloglog | 5.888458 |\n",
       "\n"
      ],
      "text/plain": [
       "                        p = 0.5:\n",
       "Modelo Binomial-Logit   5.330569\n",
       "Modelo Binomial-Probit  5.434366\n",
       "Modelo Binomial-cloglog 5.888458"
      ]
     },
     "metadata": {},
     "output_type": "display_data"
    }
   ],
   "source": [
    "x=rbind(dose.p(modelo1,cf=1:2,p=0.5),dose.p(modelo2,cf=1:2,p=0.5),dose.p(modelo3,cf=1:2,p=0.5))\n",
    "rownames(x)=c(\"Modelo Binomial-Logit\",\"Modelo Binomial-Probit\",\"Modelo Binomial-cloglog\")\n",
    "x"
   ]
  },
  {
   "cell_type": "code",
   "execution_count": 47,
   "metadata": {},
   "outputs": [
    {
     "data": {
      "text/html": [
       "<table class=\"dataframe\">\n",
       "<caption>A matrix: 3 × 1 of type dbl</caption>\n",
       "<thead>\n",
       "\t<tr><th></th><th scope=col>p = 0.9:</th></tr>\n",
       "</thead>\n",
       "<tbody>\n",
       "\t<tr><th scope=row>Modelo Binomial-Logit</th><td>8.961591</td></tr>\n",
       "\t<tr><th scope=row>Modelo Binomial-Probit</th><td>9.143277</td></tr>\n",
       "\t<tr><th scope=row>Modelo Binomial-cloglog</th><td>9.369471</td></tr>\n",
       "</tbody>\n",
       "</table>\n"
      ],
      "text/latex": [
       "A matrix: 3 × 1 of type dbl\n",
       "\\begin{tabular}{r|l}\n",
       "  & p = 0.9:\\\\\n",
       "\\hline\n",
       "\tModelo Binomial-Logit & 8.961591\\\\\n",
       "\tModelo Binomial-Probit & 9.143277\\\\\n",
       "\tModelo Binomial-cloglog & 9.369471\\\\\n",
       "\\end{tabular}\n"
      ],
      "text/markdown": [
       "\n",
       "A matrix: 3 × 1 of type dbl\n",
       "\n",
       "| <!--/--> | p = 0.9: |\n",
       "|---|---|\n",
       "| Modelo Binomial-Logit | 8.961591 |\n",
       "| Modelo Binomial-Probit | 9.143277 |\n",
       "| Modelo Binomial-cloglog | 9.369471 |\n",
       "\n"
      ],
      "text/plain": [
       "                        p = 0.9:\n",
       "Modelo Binomial-Logit   8.961591\n",
       "Modelo Binomial-Probit  9.143277\n",
       "Modelo Binomial-cloglog 9.369471"
      ]
     },
     "metadata": {},
     "output_type": "display_data"
    }
   ],
   "source": [
    "x=rbind(dose.p(modelo1,cf=1:2,p=0.9),dose.p(modelo2,cf=1:2,p=0.9),dose.p(modelo3,cf=1:2,p=0.9))\n",
    "rownames(x)=c(\"Modelo Binomial-Logit\",\"Modelo Binomial-Probit\",\"Modelo Binomial-cloglog\")\n",
    "x"
   ]
  },
  {
   "cell_type": "code",
   "execution_count": 48,
   "metadata": {},
   "outputs": [
    {
     "name": "stderr",
     "output_type": "stream",
     "text": [
      "`geom_smooth()` using formula 'y ~ x'\n",
      "\n",
      "Warning message in eval(family$initialize):\n",
      "\"non-integer #successes in a binomial glm!\"\n",
      "`geom_smooth()` using formula 'y ~ x'\n",
      "\n",
      "Warning message in eval(family$initialize):\n",
      "\"non-integer #successes in a binomial glm!\"\n",
      "`geom_smooth()` using formula 'y ~ x'\n",
      "\n",
      "Warning message in eval(family$initialize):\n",
      "\"non-integer #successes in a binomial glm!\"\n"
     ]
    },
    {
     "data": {
      "image/png": "[encoded data removed]",
      "text/plain": [
       "plot without title"
      ]
     },
     "metadata": {
      "image/png": {
       "height": 420,
       "width": 420
      }
     },
     "output_type": "display_data"
    }
   ],
   "source": [
    "#Gráficos dos glms\n",
    "(ggplot(dados)+aes(dose,p)+geom_point()\n",
    "  +geom_smooth(color=\"blue\",method=glm, method.args = list(family = binomial),se=F)\n",
    "  +geom_smooth(color=\"red\",method=glm, method.args = list(family = binomial(link=probit)),se=F)+\n",
    "  geom_smooth(color=\"green\",method=glm, method.args = list(family = binomial(link=cloglog)),se=F)+theme_test())"
   ]
  }
 ],
 "metadata": {
  "kernelspec": {
   "display_name": "R",
   "language": "R",
   "name": "ir"
  },
  "language_info": {
   "codemirror_mode": "r",
   "file_extension": ".r",
   "mimetype": "text/x-r-source",
   "name": "R",
   "pygments_lexer": "r",
   "version": "3.6.1"
  }
 },
 "nbformat": 4,
 "nbformat_minor": 2
}
