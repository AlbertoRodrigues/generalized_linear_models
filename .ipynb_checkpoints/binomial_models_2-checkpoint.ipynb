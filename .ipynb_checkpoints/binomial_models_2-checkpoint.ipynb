{
 "cells": [
  {
   "cell_type": "markdown",
   "metadata": {},
   "source": [
    "# Ajuste de Modelos Lineares Generalizados Binomial com diferentes funções de ligação para dados reais de insetos três tipos de inseticidas."
   ]
  },
  {
   "cell_type": "code",
   "execution_count": 1,
   "metadata": {},
   "outputs": [
    {
     "name": "stderr",
     "output_type": "stream",
     "text": [
      "Loading required package: ggplot2\n",
      "\n",
      "Warning message:\n",
      "\"package 'ggplot2' was built under R version 3.6.3\"\n",
      "Loading required package: MASS\n",
      "\n"
     ]
    }
   ],
   "source": [
    "require(ggplot2)\n",
    "require(MASS)"
   ]
  },
  {
   "cell_type": "code",
   "execution_count": 1,
   "metadata": {},
   "outputs": [],
   "source": [
    "#Inseticida DDT\n",
    "dose=c(2,2.64,3.48,4.59,6.06,8)\n",
    "m=c(50,49,47,50,49,50)\n",
    "y=c(3, 5, 19, 19, 24, 35)\n",
    "p=y/m"
   ]
  },
  {
   "cell_type": "code",
   "execution_count": 3,
   "metadata": {},
   "outputs": [
    {
     "data": {
      "text/html": [
       "<table class=\"dataframe\">\n",
       "<caption>A matrix: 6 × 2 of type dbl</caption>\n",
       "<thead>\n",
       "\t<tr><th scope=col>Sucessos</th><th scope=col>Fracassos</th></tr>\n",
       "</thead>\n",
       "<tbody>\n",
       "\t<tr><td> 3</td><td>47</td></tr>\n",
       "\t<tr><td> 5</td><td>44</td></tr>\n",
       "\t<tr><td>19</td><td>28</td></tr>\n",
       "\t<tr><td>19</td><td>31</td></tr>\n",
       "\t<tr><td>24</td><td>25</td></tr>\n",
       "\t<tr><td>35</td><td>15</td></tr>\n",
       "</tbody>\n",
       "</table>\n"
      ],
      "text/latex": [
       "A matrix: 6 × 2 of type dbl\n",
       "\\begin{tabular}{ll}\n",
       " Sucessos & Fracassos\\\\\n",
       "\\hline\n",
       "\t  3 & 47\\\\\n",
       "\t  5 & 44\\\\\n",
       "\t 19 & 28\\\\\n",
       "\t 19 & 31\\\\\n",
       "\t 24 & 25\\\\\n",
       "\t 35 & 15\\\\\n",
       "\\end{tabular}\n"
      ],
      "text/markdown": [
       "\n",
       "A matrix: 6 × 2 of type dbl\n",
       "\n",
       "| Sucessos | Fracassos |\n",
       "|---|---|\n",
       "|  3 | 47 |\n",
       "|  5 | 44 |\n",
       "| 19 | 28 |\n",
       "| 19 | 31 |\n",
       "| 24 | 25 |\n",
       "| 35 | 15 |\n",
       "\n"
      ],
      "text/plain": [
       "     Sucessos Fracassos\n",
       "[1,]  3       47       \n",
       "[2,]  5       44       \n",
       "[3,] 19       28       \n",
       "[4,] 19       31       \n",
       "[5,] 24       25       \n",
       "[6,] 35       15       "
      ]
     },
     "metadata": {},
     "output_type": "display_data"
    }
   ],
   "source": [
    "resp=cbind(y,m-y)\n",
    "colnames(resp)=c(\"Sucessos\",\"Fracassos\")\n",
    "resp"
   ]
  },
  {
   "cell_type": "code",
   "execution_count": 4,
   "metadata": {},
   "outputs": [
    {
     "data": {
      "text/html": [
       "<table class=\"dataframe\">\n",
       "<caption>A data.frame: 6 × 4</caption>\n",
       "<thead>\n",
       "\t<tr><th scope=col>dose</th><th scope=col>p</th><th scope=col>m</th><th scope=col>y</th></tr>\n",
       "\t<tr><th scope=col>&lt;dbl&gt;</th><th scope=col>&lt;dbl&gt;</th><th scope=col>&lt;dbl&gt;</th><th scope=col>&lt;dbl&gt;</th></tr>\n",
       "</thead>\n",
       "<tbody>\n",
       "\t<tr><td>2.00</td><td>0.0600000</td><td>50</td><td> 3</td></tr>\n",
       "\t<tr><td>2.64</td><td>0.1020408</td><td>49</td><td> 5</td></tr>\n",
       "\t<tr><td>3.48</td><td>0.4042553</td><td>47</td><td>19</td></tr>\n",
       "\t<tr><td>4.59</td><td>0.3800000</td><td>50</td><td>19</td></tr>\n",
       "\t<tr><td>6.06</td><td>0.4897959</td><td>49</td><td>24</td></tr>\n",
       "\t<tr><td>8.00</td><td>0.7000000</td><td>50</td><td>35</td></tr>\n",
       "</tbody>\n",
       "</table>\n"
      ],
      "text/latex": [
       "A data.frame: 6 × 4\n",
       "\\begin{tabular}{llll}\n",
       " dose & p & m & y\\\\\n",
       " <dbl> & <dbl> & <dbl> & <dbl>\\\\\n",
       "\\hline\n",
       "\t 2.00 & 0.0600000 & 50 &  3\\\\\n",
       "\t 2.64 & 0.1020408 & 49 &  5\\\\\n",
       "\t 3.48 & 0.4042553 & 47 & 19\\\\\n",
       "\t 4.59 & 0.3800000 & 50 & 19\\\\\n",
       "\t 6.06 & 0.4897959 & 49 & 24\\\\\n",
       "\t 8.00 & 0.7000000 & 50 & 35\\\\\n",
       "\\end{tabular}\n"
      ],
      "text/markdown": [
       "\n",
       "A data.frame: 6 × 4\n",
       "\n",
       "| dose &lt;dbl&gt; | p &lt;dbl&gt; | m &lt;dbl&gt; | y &lt;dbl&gt; |\n",
       "|---|---|---|---|\n",
       "| 2.00 | 0.0600000 | 50 |  3 |\n",
       "| 2.64 | 0.1020408 | 49 |  5 |\n",
       "| 3.48 | 0.4042553 | 47 | 19 |\n",
       "| 4.59 | 0.3800000 | 50 | 19 |\n",
       "| 6.06 | 0.4897959 | 49 | 24 |\n",
       "| 8.00 | 0.7000000 | 50 | 35 |\n",
       "\n"
      ],
      "text/plain": [
       "  dose p         m  y \n",
       "1 2.00 0.0600000 50  3\n",
       "2 2.64 0.1020408 49  5\n",
       "3 3.48 0.4042553 47 19\n",
       "4 4.59 0.3800000 50 19\n",
       "5 6.06 0.4897959 49 24\n",
       "6 8.00 0.7000000 50 35"
      ]
     },
     "metadata": {},
     "output_type": "display_data"
    }
   ],
   "source": [
    "dados=cbind.data.frame(dose,p,m,y)\n",
    "dados"
   ]
  },
  {
   "cell_type": "code",
   "execution_count": 6,
   "metadata": {},
   "outputs": [],
   "source": [
    "modelo=glm(resp~dose,family = binomial(link=\"probit\"))"
   ]
  },
  {
   "cell_type": "code",
   "execution_count": 7,
   "metadata": {},
   "outputs": [
    {
     "data": {
      "text/plain": [
       "\n",
       "Call:\n",
       "glm(formula = resp ~ dose, family = binomial(link = \"probit\"))\n",
       "\n",
       "Deviance Residuals: \n",
       "      1        2        3        4        5        6  \n",
       "-1.4999  -1.2867   2.5613   0.4860  -0.3677  -0.4705  \n",
       "\n",
       "Coefficients:\n",
       "            Estimate Std. Error z value Pr(>|z|)    \n",
       "(Intercept) -1.74699    0.20442  -8.546  < 2e-16 ***\n",
       "dose         0.29493    0.03982   7.406  1.3e-13 ***\n",
       "---\n",
       "Signif. codes:  0 '***' 0.001 '**' 0.01 '*' 0.05 '.' 0.1 ' ' 1\n",
       "\n",
       "(Dispersion parameter for binomial family taken to be 1)\n",
       "\n",
       "    Null deviance: 70.300  on 5  degrees of freedom\n",
       "Residual deviance: 11.058  on 4  degrees of freedom\n",
       "AIC: 38.507\n",
       "\n",
       "Number of Fisher Scoring iterations: 4\n"
      ]
     },
     "metadata": {},
     "output_type": "display_data"
    }
   ],
   "source": [
    "summary(modelo)"
   ]
  },
  {
   "cell_type": "code",
   "execution_count": 2,
   "metadata": {},
   "outputs": [
    {
     "ename": "ERROR",
     "evalue": "Error in cbind(p, modelo$fitted.values): object 'modelo' not found\n",
     "output_type": "error",
     "traceback": [
      "Error in cbind(p, modelo$fitted.values): object 'modelo' not found\nTraceback:\n",
      "1. cbind(p, modelo$fitted.values)"
     ]
    }
   ],
   "source": [
    "cbind(p, modelo$fitted.values)"
   ]
  },
  {
   "cell_type": "code",
   "execution_count": 13,
   "metadata": {},
   "outputs": [
    {
     "data": {
      "text/plain": [
       "             Dose        SE\n",
       "p = 0.5: 5.923488 0.3171371"
      ]
     },
     "metadata": {},
     "output_type": "display_data"
    },
    {
     "data": {
      "text/plain": [
       "             Dose        SE\n",
       "p = 0.9: 10.26883 0.7971605"
      ]
     },
     "metadata": {},
     "output_type": "display_data"
    }
   ],
   "source": [
    "dose.p(modelo,cf=1:2,p=0.5)\n",
    "dose.p(modelo,cf=1:2,p=0.9)"
   ]
  },
  {
   "cell_type": "code",
   "execution_count": 15,
   "metadata": {},
   "outputs": [],
   "source": [
    "modelo1=glm(resp~dose,family = binomial(link=\"logit\"))"
   ]
  },
  {
   "cell_type": "code",
   "execution_count": 16,
   "metadata": {},
   "outputs": [
    {
     "data": {
      "text/plain": [
       "\n",
       "Call:\n",
       "glm(formula = resp ~ dose, family = binomial(link = \"logit\"))\n",
       "\n",
       "Deviance Residuals: \n",
       "      1        2        3        4        5        6  \n",
       "-1.6501  -1.3611   2.5615   0.5256  -0.3628  -0.4746  \n",
       "\n",
       "Coefficients:\n",
       "            Estimate Std. Error z value Pr(>|z|)    \n",
       "(Intercept) -2.84984    0.35887  -7.941 2.00e-15 ***\n",
       "dose         0.48064    0.06859   7.007 2.43e-12 ***\n",
       "---\n",
       "Signif. codes:  0 '***' 0.001 '**' 0.01 '*' 0.05 '.' 0.1 ' ' 1\n",
       "\n",
       "(Dispersion parameter for binomial family taken to be 1)\n",
       "\n",
       "    Null deviance: 70.30  on 5  degrees of freedom\n",
       "Residual deviance: 11.77  on 4  degrees of freedom\n",
       "AIC: 39.219\n",
       "\n",
       "Number of Fisher Scoring iterations: 4\n"
      ]
     },
     "metadata": {},
     "output_type": "display_data"
    }
   ],
   "source": [
    "summary(modelo1)"
   ]
  },
  {
   "cell_type": "code",
   "execution_count": null,
   "metadata": {},
   "outputs": [],
   "source": [
    "cbind(modelo1$fitted.values, p)"
   ]
  },
  {
   "cell_type": "code",
   "execution_count": 22,
   "metadata": {},
   "outputs": [
    {
     "data": {
      "text/plain": [
       "             Dose        SE\n",
       "p = 0.5: 5.929277 0.3215552"
      ]
     },
     "metadata": {},
     "output_type": "display_data"
    },
    {
     "data": {
      "text/plain": [
       "             Dose        SE\n",
       "p = 0.9: 10.50075 0.8549464"
      ]
     },
     "metadata": {},
     "output_type": "display_data"
    }
   ],
   "source": [
    "dose.p(modelo1,cf=1:2,p=0.5)\n",
    "dose.p(modelo1,cf=1:2,p=0.9)"
   ]
  },
  {
   "cell_type": "code",
   "execution_count": 24,
   "metadata": {},
   "outputs": [],
   "source": [
    "modelo2=glm(resp~dose,family = binomial(link=\"cloglog\"))"
   ]
  },
  {
   "cell_type": "code",
   "execution_count": 25,
   "metadata": {},
   "outputs": [
    {
     "data": {
      "text/plain": [
       "\n",
       "Call:\n",
       "glm(formula = resp ~ dose, family = binomial(link = \"cloglog\"))\n",
       "\n",
       "Deviance Residuals: \n",
       "       1         2         3         4         5         6  \n",
       "-1.94983  -1.54807   2.55011   0.76125   0.02197  -0.55561  \n",
       "\n",
       "Coefficients:\n",
       "            Estimate Std. Error z value Pr(>|z|)    \n",
       "(Intercept) -2.53961    0.28655  -8.863  < 2e-16 ***\n",
       "dose         0.35296    0.04839   7.294 3.01e-13 ***\n",
       "---\n",
       "Signif. codes:  0 '***' 0.001 '**' 0.01 '*' 0.05 '.' 0.1 ' ' 1\n",
       "\n",
       "(Dispersion parameter for binomial family taken to be 1)\n",
       "\n",
       "    Null deviance: 70.30  on 5  degrees of freedom\n",
       "Residual deviance: 13.59  on 4  degrees of freedom\n",
       "AIC: 41.039\n",
       "\n",
       "Number of Fisher Scoring iterations: 5\n"
      ]
     },
     "metadata": {},
     "output_type": "display_data"
    }
   ],
   "source": [
    "summary(modelo2)"
   ]
  },
  {
   "cell_type": "code",
   "execution_count": null,
   "metadata": {},
   "outputs": [],
   "source": [
    "cbind(p, modelo2$fitted.values)"
   ]
  },
  {
   "cell_type": "code",
   "execution_count": 31,
   "metadata": {},
   "outputs": [
    {
     "data": {
      "text/plain": [
       "             Dose        SE\n",
       "p = 0.5: 6.156761 0.2978483"
      ]
     },
     "metadata": {},
     "output_type": "display_data"
    }
   ],
   "source": [
    "dose.p(modelo2,cf=1:2,p=0.5)"
   ]
  },
  {
   "cell_type": "code",
   "execution_count": 32,
   "metadata": {},
   "outputs": [
    {
     "data": {
      "text/plain": [
       "             Dose        SE\n",
       "p = 0.9: 9.558118 0.6202478"
      ]
     },
     "metadata": {},
     "output_type": "display_data"
    }
   ],
   "source": [
    "dose.p(modelo2,cf=1:2,p=0.9)"
   ]
  },
  {
   "cell_type": "code",
   "execution_count": 34,
   "metadata": {},
   "outputs": [
    {
     "name": "stderr",
     "output_type": "stream",
     "text": [
      "`geom_smooth()` using formula 'y ~ x'\n",
      "\n",
      "Warning message in eval(family$initialize):\n",
      "\"non-integer #successes in a binomial glm!\"\n",
      "`geom_smooth()` using formula 'y ~ x'\n",
      "\n",
      "Warning message in eval(family$initialize):\n",
      "\"non-integer #successes in a binomial glm!\"\n",
      "`geom_smooth()` using formula 'y ~ x'\n",
      "\n",
      "Warning message in eval(family$initialize):\n",
      "\"non-integer #successes in a binomial glm!\"\n"
     ]
    },
    {
     "data": {
      "image/png": "[encoded data removed]",
      "text/plain": [
       "plot without title"
      ]
     },
     "metadata": {
      "image/png": {
       "height": 420,
       "width": 420
      }
     },
     "output_type": "display_data"
    }
   ],
   "source": [
    "(ggplot(dados)+aes(dose,p)+geom_point()\n",
    "+geom_smooth(color=\"red\",method=glm, method.args = list(family = binomial(link=\"probit\")),se=F)\n",
    "+geom_smooth(color=\"blue\",method=glm, method.args = list(family = binomial(link=\"logit\")),se=F)\n",
    "+geom_smooth(color=\"green\",method=glm, method.args = list(family = binomial(link=\"cloglog\")),se=F)+theme_test())"
   ]
  },
  {
   "cell_type": "code",
   "execution_count": 35,
   "metadata": {},
   "outputs": [],
   "source": [
    "#Inseticidade BHC\n",
    "dose1=c(2,2.64,3.48,4.59,6.06,8)\n",
    "p1=c(2/50,14/49,20/50,27/50,41/50,40/50)\n",
    "m1=c(50,49,50,50,50,50)\n",
    "y1=p1*m1"
   ]
  },
  {
   "cell_type": "code",
   "execution_count": 36,
   "metadata": {},
   "outputs": [
    {
     "data": {
      "text/html": [
       "<table class=\"dataframe\">\n",
       "<caption>A matrix: 6 × 2 of type dbl</caption>\n",
       "<thead>\n",
       "\t<tr><th scope=col>Sucessos</th><th scope=col>Fracassos</th></tr>\n",
       "</thead>\n",
       "<tbody>\n",
       "\t<tr><td> 2</td><td>48</td></tr>\n",
       "\t<tr><td>14</td><td>35</td></tr>\n",
       "\t<tr><td>20</td><td>30</td></tr>\n",
       "\t<tr><td>27</td><td>23</td></tr>\n",
       "\t<tr><td>41</td><td> 9</td></tr>\n",
       "\t<tr><td>40</td><td>10</td></tr>\n",
       "</tbody>\n",
       "</table>\n"
      ],
      "text/latex": [
       "A matrix: 6 × 2 of type dbl\n",
       "\\begin{tabular}{ll}\n",
       " Sucessos & Fracassos\\\\\n",
       "\\hline\n",
       "\t  2 & 48\\\\\n",
       "\t 14 & 35\\\\\n",
       "\t 20 & 30\\\\\n",
       "\t 27 & 23\\\\\n",
       "\t 41 &  9\\\\\n",
       "\t 40 & 10\\\\\n",
       "\\end{tabular}\n"
      ],
      "text/markdown": [
       "\n",
       "A matrix: 6 × 2 of type dbl\n",
       "\n",
       "| Sucessos | Fracassos |\n",
       "|---|---|\n",
       "|  2 | 48 |\n",
       "| 14 | 35 |\n",
       "| 20 | 30 |\n",
       "| 27 | 23 |\n",
       "| 41 |  9 |\n",
       "| 40 | 10 |\n",
       "\n"
      ],
      "text/plain": [
       "     Sucessos Fracassos\n",
       "[1,]  2       48       \n",
       "[2,] 14       35       \n",
       "[3,] 20       30       \n",
       "[4,] 27       23       \n",
       "[5,] 41        9       \n",
       "[6,] 40       10       "
      ]
     },
     "metadata": {},
     "output_type": "display_data"
    }
   ],
   "source": [
    "resp1=cbind(y1,m1-y1)\n",
    "colnames(resp1)=c(\"Sucessos\",\"Fracassos\")\n",
    "resp1"
   ]
  },
  {
   "cell_type": "code",
   "execution_count": 37,
   "metadata": {},
   "outputs": [
    {
     "data": {
      "text/html": [
       "<table class=\"dataframe\">\n",
       "<caption>A data.frame: 6 × 4</caption>\n",
       "<thead>\n",
       "\t<tr><th scope=col>dose1</th><th scope=col>p1</th><th scope=col>m1</th><th scope=col>y1</th></tr>\n",
       "\t<tr><th scope=col>&lt;dbl&gt;</th><th scope=col>&lt;dbl&gt;</th><th scope=col>&lt;dbl&gt;</th><th scope=col>&lt;dbl&gt;</th></tr>\n",
       "</thead>\n",
       "<tbody>\n",
       "\t<tr><td>2.00</td><td>0.0400000</td><td>50</td><td> 2</td></tr>\n",
       "\t<tr><td>2.64</td><td>0.2857143</td><td>49</td><td>14</td></tr>\n",
       "\t<tr><td>3.48</td><td>0.4000000</td><td>50</td><td>20</td></tr>\n",
       "\t<tr><td>4.59</td><td>0.5400000</td><td>50</td><td>27</td></tr>\n",
       "\t<tr><td>6.06</td><td>0.8200000</td><td>50</td><td>41</td></tr>\n",
       "\t<tr><td>8.00</td><td>0.8000000</td><td>50</td><td>40</td></tr>\n",
       "</tbody>\n",
       "</table>\n"
      ],
      "text/latex": [
       "A data.frame: 6 × 4\n",
       "\\begin{tabular}{llll}\n",
       " dose1 & p1 & m1 & y1\\\\\n",
       " <dbl> & <dbl> & <dbl> & <dbl>\\\\\n",
       "\\hline\n",
       "\t 2.00 & 0.0400000 & 50 &  2\\\\\n",
       "\t 2.64 & 0.2857143 & 49 & 14\\\\\n",
       "\t 3.48 & 0.4000000 & 50 & 20\\\\\n",
       "\t 4.59 & 0.5400000 & 50 & 27\\\\\n",
       "\t 6.06 & 0.8200000 & 50 & 41\\\\\n",
       "\t 8.00 & 0.8000000 & 50 & 40\\\\\n",
       "\\end{tabular}\n"
      ],
      "text/markdown": [
       "\n",
       "A data.frame: 6 × 4\n",
       "\n",
       "| dose1 &lt;dbl&gt; | p1 &lt;dbl&gt; | m1 &lt;dbl&gt; | y1 &lt;dbl&gt; |\n",
       "|---|---|---|---|\n",
       "| 2.00 | 0.0400000 | 50 |  2 |\n",
       "| 2.64 | 0.2857143 | 49 | 14 |\n",
       "| 3.48 | 0.4000000 | 50 | 20 |\n",
       "| 4.59 | 0.5400000 | 50 | 27 |\n",
       "| 6.06 | 0.8200000 | 50 | 41 |\n",
       "| 8.00 | 0.8000000 | 50 | 40 |\n",
       "\n"
      ],
      "text/plain": [
       "  dose1 p1        m1 y1\n",
       "1 2.00  0.0400000 50  2\n",
       "2 2.64  0.2857143 49 14\n",
       "3 3.48  0.4000000 50 20\n",
       "4 4.59  0.5400000 50 27\n",
       "5 6.06  0.8200000 50 41\n",
       "6 8.00  0.8000000 50 40"
      ]
     },
     "metadata": {},
     "output_type": "display_data"
    }
   ],
   "source": [
    "dados1=cbind(dose1,p1,m1,y1)\n",
    "dados1=data.frame(dados1);dados1"
   ]
  },
  {
   "cell_type": "code",
   "execution_count": 39,
   "metadata": {},
   "outputs": [],
   "source": [
    "modelo3=glm(resp1~dose1,family = binomial(link=\"probit\"))"
   ]
  },
  {
   "cell_type": "code",
   "execution_count": 40,
   "metadata": {},
   "outputs": [
    {
     "data": {
      "text/plain": [
       "\n",
       "Call:\n",
       "glm(formula = resp1 ~ dose1, family = binomial(link = \"probit\"))\n",
       "\n",
       "Deviance Residuals: \n",
       "      1        2        3        4        5        6  \n",
       "-2.8901   0.7633   0.8343   0.5426   1.8445  -1.9900  \n",
       "\n",
       "Coefficients:\n",
       "            Estimate Std. Error z value Pr(>|z|)    \n",
       "(Intercept)  -1.6812     0.2021  -8.318   <2e-16 ***\n",
       "dose1         0.3672     0.0429   8.560   <2e-16 ***\n",
       "---\n",
       "Signif. codes:  0 '***' 0.001 '**' 0.01 '*' 0.05 '.' 0.1 ' ' 1\n",
       "\n",
       "(Dispersion parameter for binomial family taken to be 1)\n",
       "\n",
       "    Null deviance: 105.197  on 5  degrees of freedom\n",
       "Residual deviance:  17.288  on 4  degrees of freedom\n",
       "AIC: 44.506\n",
       "\n",
       "Number of Fisher Scoring iterations: 5\n"
      ]
     },
     "metadata": {},
     "output_type": "display_data"
    }
   ],
   "source": [
    "summary(modelo3)"
   ]
  },
  {
   "cell_type": "code",
   "execution_count": null,
   "metadata": {},
   "outputs": [],
   "source": [
    "cbind(p, modelo3$fitted.values)"
   ]
  },
  {
   "cell_type": "code",
   "execution_count": 46,
   "metadata": {},
   "outputs": [
    {
     "data": {
      "text/plain": [
       "             Dose        SE\n",
       "p = 0.5: 4.578688 0.2195681"
      ]
     },
     "metadata": {},
     "output_type": "display_data"
    },
    {
     "data": {
      "text/plain": [
       "             Dose       SE\n",
       "p = 0.9: 8.068866 0.488219"
      ]
     },
     "metadata": {},
     "output_type": "display_data"
    }
   ],
   "source": [
    "dose.p(modelo3,cf=1:2,p=0.5)\n",
    "dose.p(modelo3,cf=1:2,p=0.9)"
   ]
  },
  {
   "cell_type": "code",
   "execution_count": 48,
   "metadata": {},
   "outputs": [],
   "source": [
    "modelo4=glm(resp1~dose1,family = binomial(link=\"logit\"))"
   ]
  },
  {
   "cell_type": "code",
   "execution_count": 49,
   "metadata": {},
   "outputs": [
    {
     "data": {
      "text/plain": [
       "\n",
       "Call:\n",
       "glm(formula = resp1 ~ dose1, family = binomial(link = \"logit\"))\n",
       "\n",
       "Deviance Residuals: \n",
       "      1        2        3        4        5        6  \n",
       "-2.9032   0.7831   0.8261   0.4092   1.6031  -2.0320  \n",
       "\n",
       "Coefficients:\n",
       "            Estimate Std. Error z value Pr(>|z|)    \n",
       "(Intercept) -2.81091    0.35845  -7.842 4.44e-15 ***\n",
       "dose1        0.62207    0.07786   7.990 1.35e-15 ***\n",
       "---\n",
       "Signif. codes:  0 '***' 0.001 '**' 0.01 '*' 0.05 '.' 0.1 ' ' 1\n",
       "\n",
       "(Dispersion parameter for binomial family taken to be 1)\n",
       "\n",
       "    Null deviance: 105.20  on 5  degrees of freedom\n",
       "Residual deviance:  16.59  on 4  degrees of freedom\n",
       "AIC: 43.809\n",
       "\n",
       "Number of Fisher Scoring iterations: 4\n"
      ]
     },
     "metadata": {},
     "output_type": "display_data"
    }
   ],
   "source": [
    "summary(modelo4)"
   ]
  },
  {
   "cell_type": "code",
   "execution_count": 57,
   "metadata": {},
   "outputs": [],
   "source": [
    "modelo5=glm(resp1~dose1,family = binomial(link=\"cloglog\"))"
   ]
  },
  {
   "cell_type": "code",
   "execution_count": 58,
   "metadata": {},
   "outputs": [
    {
     "data": {
      "text/plain": [
       "\n",
       "Call:\n",
       "glm(formula = resp1 ~ dose1, family = binomial(link = \"cloglog\"))\n",
       "\n",
       "Deviance Residuals: \n",
       "      1        2        3        4        5        6  \n",
       "-3.6064   0.2723   0.7893   0.9632   2.4459  -1.9081  \n",
       "\n",
       "Coefficients:\n",
       "            Estimate Std. Error z value Pr(>|z|)    \n",
       "(Intercept) -2.13077    0.24594  -8.664   <2e-16 ***\n",
       "dose1        0.36649    0.04414   8.303   <2e-16 ***\n",
       "---\n",
       "Signif. codes:  0 '***' 0.001 '**' 0.01 '*' 0.05 '.' 0.1 ' ' 1\n",
       "\n",
       "(Dispersion parameter for binomial family taken to be 1)\n",
       "\n",
       "    Null deviance: 105.197  on 5  degrees of freedom\n",
       "Residual deviance:  24.255  on 4  degrees of freedom\n",
       "AIC: 51.473\n",
       "\n",
       "Number of Fisher Scoring iterations: 6\n"
      ]
     },
     "metadata": {},
     "output_type": "display_data"
    }
   ],
   "source": [
    "summary(modelo5)"
   ]
  },
  {
   "cell_type": "code",
   "execution_count": null,
   "metadata": {},
   "outputs": [],
   "source": [
    "cbind(p, modelo5$fitted.values)"
   ]
  },
  {
   "cell_type": "code",
   "execution_count": 64,
   "metadata": {},
   "outputs": [
    {
     "data": {
      "text/plain": [
       "             Dose        SE\n",
       "p = 0.5: 4.813941 0.2491998"
      ]
     },
     "metadata": {},
     "output_type": "display_data"
    },
    {
     "data": {
      "text/plain": [
       "             Dose        SE\n",
       "p = 0.9: 8.089738 0.4270381"
      ]
     },
     "metadata": {},
     "output_type": "display_data"
    }
   ],
   "source": [
    "dose.p(modelo5,cf=1:2,p=0.5)\n",
    "dose.p(modelo5,cf=1:2,p=0.9)"
   ]
  },
  {
   "cell_type": "code",
   "execution_count": 66,
   "metadata": {},
   "outputs": [
    {
     "name": "stderr",
     "output_type": "stream",
     "text": [
      "`geom_smooth()` using formula 'y ~ x'\n",
      "\n",
      "Warning message in eval(family$initialize):\n",
      "\"non-integer #successes in a binomial glm!\"\n",
      "`geom_smooth()` using formula 'y ~ x'\n",
      "\n",
      "Warning message in eval(family$initialize):\n",
      "\"non-integer #successes in a binomial glm!\"\n",
      "`geom_smooth()` using formula 'y ~ x'\n",
      "\n",
      "Warning message in eval(family$initialize):\n",
      "\"non-integer #successes in a binomial glm!\"\n"
     ]
    },
    {
     "data": {
      "image/png": "[encoded data removed]",
      "text/plain": [
       "plot without title"
      ]
     },
     "metadata": {
      "image/png": {
       "height": 420,
       "width": 420
      }
     },
     "output_type": "display_data"
    }
   ],
   "source": [
    "(ggplot(dados1)+aes(dose1,p1)+geom_point()\n",
    "  +geom_smooth(color=\"red\",method=glm, method.args = list(family = binomial(link=\"probit\")),se=F)\n",
    "  +geom_smooth(color=\"blue\",method=glm, method.args = list(family = binomial(link=\"logit\")),se=F)\n",
    "  +geom_smooth(color=\"green\",method=glm, method.args = list(family = binomial(link=\"cloglog\")),se=F)+theme_test())"
   ]
  },
  {
   "cell_type": "code",
   "execution_count": 67,
   "metadata": {},
   "outputs": [],
   "source": [
    "#Insecicidade DDT + BHC\n",
    "dose2=c(2,2.64,3.48,4.59,6.06,8)\n",
    "m2=c(50,50,50,50,50,50)\n",
    "y2=c(28, 37, 46, 48, 48, 50)\n",
    "p2=y2/m2"
   ]
  },
  {
   "cell_type": "code",
   "execution_count": 68,
   "metadata": {},
   "outputs": [
    {
     "data": {
      "text/html": [
       "<table class=\"dataframe\">\n",
       "<caption>A matrix: 6 × 2 of type dbl</caption>\n",
       "<thead>\n",
       "\t<tr><th scope=col>Sucessos</th><th scope=col>Fracassos</th></tr>\n",
       "</thead>\n",
       "<tbody>\n",
       "\t<tr><td>28</td><td>22</td></tr>\n",
       "\t<tr><td>37</td><td>13</td></tr>\n",
       "\t<tr><td>46</td><td> 4</td></tr>\n",
       "\t<tr><td>48</td><td> 2</td></tr>\n",
       "\t<tr><td>48</td><td> 2</td></tr>\n",
       "\t<tr><td>50</td><td> 0</td></tr>\n",
       "</tbody>\n",
       "</table>\n"
      ],
      "text/latex": [
       "A matrix: 6 × 2 of type dbl\n",
       "\\begin{tabular}{ll}\n",
       " Sucessos & Fracassos\\\\\n",
       "\\hline\n",
       "\t 28 & 22\\\\\n",
       "\t 37 & 13\\\\\n",
       "\t 46 &  4\\\\\n",
       "\t 48 &  2\\\\\n",
       "\t 48 &  2\\\\\n",
       "\t 50 &  0\\\\\n",
       "\\end{tabular}\n"
      ],
      "text/markdown": [
       "\n",
       "A matrix: 6 × 2 of type dbl\n",
       "\n",
       "| Sucessos | Fracassos |\n",
       "|---|---|\n",
       "| 28 | 22 |\n",
       "| 37 | 13 |\n",
       "| 46 |  4 |\n",
       "| 48 |  2 |\n",
       "| 48 |  2 |\n",
       "| 50 |  0 |\n",
       "\n"
      ],
      "text/plain": [
       "     Sucessos Fracassos\n",
       "[1,] 28       22       \n",
       "[2,] 37       13       \n",
       "[3,] 46        4       \n",
       "[4,] 48        2       \n",
       "[5,] 48        2       \n",
       "[6,] 50        0       "
      ]
     },
     "metadata": {},
     "output_type": "display_data"
    }
   ],
   "source": [
    "resp2=cbind(y2,m2-y2)\n",
    "colnames(resp2)=c(\"Sucessos\",\"Fracassos\")\n",
    "resp2"
   ]
  },
  {
   "cell_type": "code",
   "execution_count": 69,
   "metadata": {},
   "outputs": [
    {
     "data": {
      "text/html": [
       "<table class=\"dataframe\">\n",
       "<caption>A data.frame: 6 × 4</caption>\n",
       "<thead>\n",
       "\t<tr><th scope=col>dose2</th><th scope=col>p2</th><th scope=col>m2</th><th scope=col>y2</th></tr>\n",
       "\t<tr><th scope=col>&lt;dbl&gt;</th><th scope=col>&lt;dbl&gt;</th><th scope=col>&lt;dbl&gt;</th><th scope=col>&lt;dbl&gt;</th></tr>\n",
       "</thead>\n",
       "<tbody>\n",
       "\t<tr><td>2.00</td><td>0.56</td><td>50</td><td>28</td></tr>\n",
       "\t<tr><td>2.64</td><td>0.74</td><td>50</td><td>37</td></tr>\n",
       "\t<tr><td>3.48</td><td>0.92</td><td>50</td><td>46</td></tr>\n",
       "\t<tr><td>4.59</td><td>0.96</td><td>50</td><td>48</td></tr>\n",
       "\t<tr><td>6.06</td><td>0.96</td><td>50</td><td>48</td></tr>\n",
       "\t<tr><td>8.00</td><td>1.00</td><td>50</td><td>50</td></tr>\n",
       "</tbody>\n",
       "</table>\n"
      ],
      "text/latex": [
       "A data.frame: 6 × 4\n",
       "\\begin{tabular}{llll}\n",
       " dose2 & p2 & m2 & y2\\\\\n",
       " <dbl> & <dbl> & <dbl> & <dbl>\\\\\n",
       "\\hline\n",
       "\t 2.00 & 0.56 & 50 & 28\\\\\n",
       "\t 2.64 & 0.74 & 50 & 37\\\\\n",
       "\t 3.48 & 0.92 & 50 & 46\\\\\n",
       "\t 4.59 & 0.96 & 50 & 48\\\\\n",
       "\t 6.06 & 0.96 & 50 & 48\\\\\n",
       "\t 8.00 & 1.00 & 50 & 50\\\\\n",
       "\\end{tabular}\n"
      ],
      "text/markdown": [
       "\n",
       "A data.frame: 6 × 4\n",
       "\n",
       "| dose2 &lt;dbl&gt; | p2 &lt;dbl&gt; | m2 &lt;dbl&gt; | y2 &lt;dbl&gt; |\n",
       "|---|---|---|---|\n",
       "| 2.00 | 0.56 | 50 | 28 |\n",
       "| 2.64 | 0.74 | 50 | 37 |\n",
       "| 3.48 | 0.92 | 50 | 46 |\n",
       "| 4.59 | 0.96 | 50 | 48 |\n",
       "| 6.06 | 0.96 | 50 | 48 |\n",
       "| 8.00 | 1.00 | 50 | 50 |\n",
       "\n"
      ],
      "text/plain": [
       "  dose2 p2   m2 y2\n",
       "1 2.00  0.56 50 28\n",
       "2 2.64  0.74 50 37\n",
       "3 3.48  0.92 50 46\n",
       "4 4.59  0.96 50 48\n",
       "5 6.06  0.96 50 48\n",
       "6 8.00  1.00 50 50"
      ]
     },
     "metadata": {},
     "output_type": "display_data"
    }
   ],
   "source": [
    "dados2=cbind(dose2,p2,m2,y2)\n",
    "dados2=data.frame(dados2);dados2"
   ]
  },
  {
   "cell_type": "code",
   "execution_count": null,
   "metadata": {},
   "outputs": [],
   "source": [
    "modelo6=glm(formula = resp2 ~ dose2, family = binomial(link = \"probit\"))"
   ]
  },
  {
   "cell_type": "code",
   "execution_count": 72,
   "metadata": {},
   "outputs": [
    {
     "data": {
      "text/plain": [
       "\n",
       "Call:\n",
       "glm(formula = resp2 ~ dose2, family = binomial(link = \"probit\"))\n",
       "\n",
       "Deviance Residuals: \n",
       "       1         2         3         4         5         6  \n",
       "-0.92273   0.09216   1.51580   0.57825  -1.50097   0.25161  \n",
       "\n",
       "Coefficients:\n",
       "            Estimate Std. Error z value Pr(>|z|)    \n",
       "(Intercept) -0.65382    0.29886  -2.188   0.0287 *  \n",
       "dose2        0.48468    0.09265   5.232 1.68e-07 ***\n",
       "---\n",
       "Signif. codes:  0 '***' 0.001 '**' 0.01 '*' 0.05 '.' 0.1 ' ' 1\n",
       "\n",
       "(Dispersion parameter for binomial family taken to be 1)\n",
       "\n",
       "    Null deviance: 59.2167  on 5  degrees of freedom\n",
       "Residual deviance:  5.8082  on 4  degrees of freedom\n",
       "AIC: 26.612\n",
       "\n",
       "Number of Fisher Scoring iterations: 6\n"
      ]
     },
     "metadata": {},
     "output_type": "display_data"
    }
   ],
   "source": [
    "summary(modelo6)"
   ]
  },
  {
   "cell_type": "code",
   "execution_count": null,
   "metadata": {},
   "outputs": [],
   "source": [
    "cbind(p2, modelo6$fitted.values)"
   ]
  },
  {
   "cell_type": "code",
   "execution_count": 78,
   "metadata": {},
   "outputs": [
    {
     "data": {
      "text/plain": [
       "             Dose        SE\n",
       "p = 0.5: 1.348971 0.3844185"
      ]
     },
     "metadata": {},
     "output_type": "display_data"
    },
    {
     "data": {
      "text/plain": [
       "             Dose        SE\n",
       "p = 0.9: 3.993088 0.2791612"
      ]
     },
     "metadata": {},
     "output_type": "display_data"
    }
   ],
   "source": [
    "dose.p(modelo6,cf=1:2,p=0.5)\n",
    "dose.p(modelo6,cf=1:2,p=0.9)"
   ]
  },
  {
   "cell_type": "code",
   "execution_count": null,
   "metadata": {},
   "outputs": [],
   "source": [
    "modelo7=glm(formula = resp2 ~ dose2, family = binomial(link = \"logit\"))"
   ]
  },
  {
   "cell_type": "code",
   "execution_count": 81,
   "metadata": {},
   "outputs": [
    {
     "data": {
      "text/plain": [
       "\n",
       "Call:\n",
       "glm(formula = resp2 ~ dose2, family = binomial(link = \"logit\"))\n",
       "\n",
       "Deviance Residuals: \n",
       "       1         2         3         4         5         6  \n",
       "-0.55263   0.03662   1.19587   0.29936  -1.45005   0.41730  \n",
       "\n",
       "Coefficients:\n",
       "            Estimate Std. Error z value Pr(>|z|)    \n",
       "(Intercept)  -1.5852     0.5681  -2.790  0.00527 ** \n",
       "dose2         0.9922     0.1939   5.116 3.12e-07 ***\n",
       "---\n",
       "Signif. codes:  0 '***' 0.001 '**' 0.01 '*' 0.05 '.' 0.1 ' ' 1\n",
       "\n",
       "(Dispersion parameter for binomial family taken to be 1)\n",
       "\n",
       "    Null deviance: 59.2167  on 5  degrees of freedom\n",
       "Residual deviance:  4.1032  on 4  degrees of freedom\n",
       "AIC: 24.907\n",
       "\n",
       "Number of Fisher Scoring iterations: 5\n"
      ]
     },
     "metadata": {},
     "output_type": "display_data"
    }
   ],
   "source": [
    "summary(modelo7)"
   ]
  },
  {
   "cell_type": "code",
   "execution_count": null,
   "metadata": {},
   "outputs": [],
   "source": [
    "cbind(p2, modelo7$fitted.values)"
   ]
  },
  {
   "cell_type": "code",
   "execution_count": 87,
   "metadata": {},
   "outputs": [
    {
     "data": {
      "text/plain": [
       "             Dose        SE\n",
       "p = 0.5: 1.597666 0.2940139"
      ]
     },
     "metadata": {},
     "output_type": "display_data"
    },
    {
     "data": {
      "text/plain": [
       "             Dose        SE\n",
       "p = 0.9: 3.812232 0.2725578"
      ]
     },
     "metadata": {},
     "output_type": "display_data"
    }
   ],
   "source": [
    "dose.p(modelo7,cf=1:2,p=0.5)\n",
    "dose.p(modelo7,cf=1:2,p=0.9)"
   ]
  },
  {
   "cell_type": "code",
   "execution_count": 89,
   "metadata": {},
   "outputs": [],
   "source": [
    "modelo8=glm(resp2~dose2,family = binomial(link=\"cloglog\"))"
   ]
  },
  {
   "cell_type": "code",
   "execution_count": 90,
   "metadata": {},
   "outputs": [
    {
     "data": {
      "text/plain": [
       "\n",
       "Call:\n",
       "glm(formula = resp2 ~ dose2, family = binomial(link = \"cloglog\"))\n",
       "\n",
       "Deviance Residuals: \n",
       "      1        2        3        4        5        6  \n",
       "-1.3918   0.0561   1.7961   0.9196  -1.4519   0.1236  \n",
       "\n",
       "Coefficients:\n",
       "            Estimate Std. Error z value Pr(>|z|)    \n",
       "(Intercept) -0.64059    0.25106  -2.552   0.0107 *  \n",
       "dose2        0.35174    0.06893   5.103 3.34e-07 ***\n",
       "---\n",
       "Signif. codes:  0 '***' 0.001 '**' 0.01 '*' 0.05 '.' 0.1 ' ' 1\n",
       "\n",
       "(Dispersion parameter for binomial family taken to be 1)\n",
       "\n",
       "    Null deviance: 59.2167  on 5  degrees of freedom\n",
       "Residual deviance:  8.1353  on 4  degrees of freedom\n",
       "AIC: 28.939\n",
       "\n",
       "Number of Fisher Scoring iterations: 6\n"
      ]
     },
     "metadata": {},
     "output_type": "display_data"
    }
   ],
   "source": [
    "summary(modelo8)"
   ]
  },
  {
   "cell_type": "code",
   "execution_count": null,
   "metadata": {},
   "outputs": [],
   "source": [
    "cbind(p2, modelo8$fitted.values)"
   ]
  },
  {
   "cell_type": "code",
   "execution_count": 98,
   "metadata": {},
   "outputs": [
    {
     "name": "stderr",
     "output_type": "stream",
     "text": [
      "`geom_smooth()` using formula 'y ~ x'\n",
      "\n",
      "Warning message in eval(family$initialize):\n",
      "\"non-integer #successes in a binomial glm!\"\n",
      "`geom_smooth()` using formula 'y ~ x'\n",
      "\n",
      "Warning message in eval(family$initialize):\n",
      "\"non-integer #successes in a binomial glm!\"\n",
      "`geom_smooth()` using formula 'y ~ x'\n",
      "\n",
      "Warning message in eval(family$initialize):\n",
      "\"non-integer #successes in a binomial glm!\"\n"
     ]
    },
    {
     "data": {
      "image/png": "[encoded data removed]",
      "text/plain": [
       "plot without title"
      ]
     },
     "metadata": {
      "image/png": {
       "height": 420,
       "width": 420
      }
     },
     "output_type": "display_data"
    }
   ],
   "source": [
    "(ggplot(dados2)+aes(dose2,p2)+geom_point()\n",
    "  +geom_smooth(color=\"red\",method=glm, method.args = list(family = binomial(link=\"probit\")),se=F)\n",
    "  +geom_smooth(color=\"blue\",method=glm, method.args = list(family = binomial(link=\"logit\")),se=F)\n",
    "  +geom_smooth(color=\"green\",method=glm, method.args = list(family = binomial(link=\"cloglog\")),se=F)+theme_test())\n"
   ]
  }
 ],
 "metadata": {
  "kernelspec": {
   "display_name": "R",
   "language": "R",
   "name": "ir"
  },
  "language_info": {
   "codemirror_mode": "r",
   "file_extension": ".r",
   "mimetype": "text/x-r-source",
   "name": "R",
   "pygments_lexer": "r",
   "version": "3.6.1"
  }
 },
 "nbformat": 4,
 "nbformat_minor": 2
}
